{
 "cells": [
  {
   "cell_type": "code",
   "execution_count": 1,
   "metadata": {},
   "outputs": [],
   "source": [
    "import pyvisa"
   ]
  },
  {
   "cell_type": "code",
   "execution_count": 3,
   "metadata": {},
   "outputs": [],
   "source": [
    " rm = pyvisa.ResourceManager()"
   ]
  },
  {
   "cell_type": "code",
   "execution_count": 6,
   "metadata": {},
   "outputs": [
    {
     "data": {
      "text/plain": [
       "('USB0::0x1313::0x8072::P2003683::INSTR',\n",
       " 'USB0::0x1313::0x8072::P2010371::INSTR',\n",
       " 'USB0::0x1313::0x8072::P2008116::INSTR',\n",
       " 'USB0::0x1313::0x8072::P2005653::INSTR',\n",
       " 'USB0::0x1313::0x8072::P2007347::INSTR',\n",
       " 'USB0::0x1313::0x8072::P2008979::INSTR',\n",
       " 'USB0::0x1313::0x8072::P2008115::INSTR',\n",
       " 'USB0::0x1313::0x8072::P2007346::INSTR',\n",
       " 'USB0::0x1313::0x8072::P2003684::INSTR',\n",
       " 'USB0::0x1313::0x8072::P2010372::INSTR',\n",
       " 'ASRL1::INSTR',\n",
       " 'ASRL3::INSTR',\n",
       " 'ASRL4::INSTR',\n",
       " 'ASRL5::INSTR',\n",
       " 'ASRL6::INSTR',\n",
       " 'ASRL7::INSTR',\n",
       " 'ASRL9::INSTR',\n",
       " 'ASRL10::INSTR',\n",
       " 'ASRL11::INSTR',\n",
       " 'ASRL13::INSTR')"
      ]
     },
     "execution_count": 6,
     "metadata": {},
     "output_type": "execute_result"
    }
   ],
   "source": [
    "rm.list_resources()"
   ]
  },
  {
   "cell_type": "code",
   "execution_count": 5,
   "metadata": {},
   "outputs": [
    {
     "data": {
      "text/plain": [
       "('USB0::0x1313::0x8072::P2003683::INSTR',\n",
       " 'USB0::0x1313::0x8072::P2010371::INSTR',\n",
       " 'USB0::0x1313::0x8072::P2008116::INSTR',\n",
       " 'USB0::0x1313::0x8072::P2007347::INSTR',\n",
       " 'USB0::0x1313::0x8072::P2008979::INSTR',\n",
       " 'USB0::0x1313::0x8072::P2008115::INSTR',\n",
       " 'USB0::0x1313::0x8072::P2007346::INSTR',\n",
       " 'USB0::0x1313::0x8072::P2003684::INSTR',\n",
       " 'USB0::0x1313::0x8072::P2010372::INSTR',\n",
       " 'ASRL1::INSTR',\n",
       " 'ASRL3::INSTR',\n",
       " 'ASRL4::INSTR',\n",
       " 'ASRL5::INSTR',\n",
       " 'ASRL6::INSTR',\n",
       " 'ASRL7::INSTR',\n",
       " 'ASRL9::INSTR',\n",
       " 'ASRL10::INSTR',\n",
       " 'ASRL11::INSTR',\n",
       " 'ASRL13::INSTR')"
      ]
     },
     "execution_count": 5,
     "metadata": {},
     "output_type": "execute_result"
    }
   ],
   "source": [
    "rm.list_resources()"
   ]
  },
  {
   "cell_type": "code",
   "execution_count": null,
   "metadata": {},
   "outputs": [],
   "source": []
  }
 ],
 "metadata": {
  "kernelspec": {
   "display_name": "Python 3",
   "language": "python",
   "name": "python3"
  },
  "language_info": {
   "codemirror_mode": {
    "name": "ipython",
    "version": 3
   },
   "file_extension": ".py",
   "mimetype": "text/x-python",
   "name": "python",
   "nbconvert_exporter": "python",
   "pygments_lexer": "ipython3",
   "version": "3.8.3"
  }
 },
 "nbformat": 4,
 "nbformat_minor": 4
}
