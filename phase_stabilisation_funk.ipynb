{
 "cells": [
  {
   "cell_type": "code",
   "execution_count": 8,
   "metadata": {},
   "outputs": [
    {
     "name": "stderr",
     "output_type": "stream",
     "text": [
      "Exception ignored in: <function tunics.__del__ at 0x00000266B5120A60>\n",
      "Traceback (most recent call last):\n",
      "  File \"C:\\Users\\mb16805\\University of Bristol\\grp-Multi 3 Chip Project - Documents\\Multi_3_Chips\\pycode_molly\\Experimental code\\tunicsqontrol.py\", line 62, in __del__\n",
      "    self.serial_port.close()\n",
      "AttributeError: 'NoneType' object has no attribute 'close'\n"
     ]
    },
    {
     "name": "stdout",
     "output_type": "stream",
     "text": [
      "The autoreload extension is already loaded. To reload it, use:\n",
      "  %reload_ext autoreload\n"
     ]
    }
   ],
   "source": [
    "%load_ext autoreload\n",
    "%autoreload 2\n",
    "%run -i \"prerequisites.py\""
   ]
  },
  {
   "cell_type": "code",
   "execution_count": 2,
   "metadata": {},
   "outputs": [],
   "source": [
    "import numpy as np\n",
    "import matplotlib.pyplot as plt\n",
    "import time\n",
    "import ZeroLevel_Qontrol as q0\n",
    "import FirstLevel_Qontrol as q1\n",
    "import SecondLevel_Qontrol as q2\n",
    "from powermeter import Powermeter as PM\n",
    "import heater_dict as hd\n",
    "import heater_characterisation_funcs as hcf\n",
    "from tunicsqontrol import tunics\n",
    "from scipy import optimize\n",
    "\n",
    "pi=np.pi"
   ]
  },
  {
   "cell_type": "code",
   "execution_count": 3,
   "metadata": {},
   "outputs": [],
   "source": [
    "# powermeter1 = Powermeter('PM100USB', serial='P2003916', unit='dBm', wavelength=1550) \n",
    "unit='W'\n",
    "wavelength=1550\n",
    "#Charlie powermeters 18/11/20:\n",
    "PMa = PM('PM100USB', serial='P2007347',unit=unit, wavelength = wavelength)\n",
    "PMb = PM('PM100USB', serial='P2010371',unit=unit, wavelength = wavelength) \n",
    "PMc = PM('PM100USB', serial='P2003683',unit=unit, wavelength = wavelength) \n",
    "PMd = PM('PM100USB', serial='P2008115',unit=unit, wavelength = wavelength)\n",
    "#Alice powermeters 18/11/20:\n",
    "PMe = PM('PM100USB', serial='P2005653',unit=unit, wavelength = wavelength)\n",
    "PMf = PM('PM100USB', serial='P2010372',unit=unit, wavelength = wavelength) \n",
    "PMg = PM('PM100USB', serial='P2008116',unit=unit, wavelength = wavelength) \n",
    "PMh = PM('PM100USB', serial='P2007346',unit=unit, wavelength = wavelength)"
   ]
  },
  {
   "cell_type": "code",
   "execution_count": 5,
   "metadata": {},
   "outputs": [
    {
     "name": "stdout",
     "output_type": "stream",
     "text": [
      "\n",
      "Connected to Tunics laser on serial port COM13\n",
      "\n"
     ]
    }
   ],
   "source": [
    "#laser initialisation and wavelengths\n",
    "serial_port_name = 'COM13'\n",
    "mytunics = tunics(serial_port_name = serial_port_name)\n",
    "\n",
    "p_wavelength = 1549.3\n",
    "i_wavelength = 1558.98\n",
    "s_wavelength = 1539.77"
   ]
  },
  {
   "cell_type": "code",
   "execution_count": null,
   "metadata": {},
   "outputs": [],
   "source": [
    "#h=q2.heater_class(hd.board_list,hd.heaters)"
   ]
  },
  {
   "cell_type": "code",
   "execution_count": 3,
   "metadata": {},
   "outputs": [],
   "source": [
    "%run -i \"prerequisites.py\""
   ]
  },
  {
   "cell_type": "markdown",
   "metadata": {},
   "source": [
    "## Phase stabilisation functions"
   ]
  },
  {
   "cell_type": "code",
   "execution_count": 15,
   "metadata": {},
   "outputs": [],
   "source": [
    "def SineSq(x,amp,freq,phi_0,y_off):\n",
    "    return amp*np.sin(freq*x+phi_0)**2+y_off\n",
    "\n",
    "def FringeFitWithPlotting(spacing):\n",
    "    #phase=list(np.linspace(0,2*pi,10))\n",
    "    phase=[]\n",
    "    PMePower=[]\n",
    "    PMfPower=[]\n",
    "    x=np.linspace(0, 2*pi, 30)\n",
    "    time_fringe_started=time.time()\n",
    "    for i in range(0,10):\n",
    "        phase.append(i*spacing)\n",
    "        h.set_phase('Phb1', i*spacing)\n",
    "        time.sleep(0.15)\n",
    "        PMePower.append(PMa.measure()*1000000)#times 1000000 bc curvefit doesn't work well with small numbers (micro watts)\n",
    "        #PMfPower.append(PMf.measure()*1000000)\n",
    "        #print('hello')\n",
    "    #time with and without starting parameters, does it make it faster? what about limits?\n",
    "    time_fringe_finished=int(time.time())\n",
    "    initial_guess=[max(PMePower), 0.5, 0, min(PMePower)]\n",
    "    param_bounds=([0, 0.3, -np.inf, 0], [2*max(PMePower), 0.8, np.inf, max(PMePower)]) # upper bound of amplitude could be given as related to the maximum power when not interfering?\n",
    "    params, pcov = optimize.curve_fit(SineSq, phase, PMePower, bounds = param_bounds, p0 = initial_guess)\n",
    "    plt.scatter(phase, PMePower)\n",
    "    #plt.scatter(phase, PMfPower)\n",
    "    plt.plot(x, SineSq(x, params[0], params[1], params[2], params[3]))\n",
    "    plt.show()\n",
    "    time_for_fringe=time_fringe_finished-time_fringe_started\n",
    "    np.savetxt(f'C:/Users/IT072488-admin/University of Bristol/grp-Multi 3 Chip Project - Multi_3_Chips/pycode_molly/Experimental code/Experimental data/PS Fringes/modes14_{time_fringe_finished}_fringe.csv', np.vstack((phase, PMePower)).T,delimiter=',', header='phase,powers uW,time since epoch')\n",
    "    np.savetxt(f'C:/Users/IT072488-admin/University of Bristol/grp-Multi 3 Chip Project - Multi_3_Chips/pycode_molly/Experimental code/Experimental data/PS Fringes/modes14_{time_fringe_finished}_fringe_full_fit_params.csv', list(params)+[time_for_fringe, spacing],delimiter=',', header='amp  freq  phi_0  y_off  time  spacing')\n",
    "    print('parmams:', params)\n",
    "    print('guess:', initial_guess)\n",
    "    print('bounds:', param_bounds)\n",
    "    return phase, PMePower, params, time_fringe_finished\n",
    "\n",
    "\n",
    "def FringeFit(spacing):\n",
    "    phase=[]\n",
    "    PMePower=[]\n",
    "    x=np.linspace(0, 2*pi, 30)\n",
    "    time_fringe_started=time.time()\n",
    "    for i in range(0,10):\n",
    "        phase.append(i*spacing)\n",
    "        h.set_phase('Phb1', i*spacing)\n",
    "        time.sleep(0.15)\n",
    "        PMePower.append(PMa.measure()*1000000)#times 1000000 bc curvefit doesn't work well with small numbers (micro watts)\n",
    "    #time with and without starting parameters, does it make it faster? what about limits?\n",
    "    time_fringe_finished=int(time.time())\n",
    "    initial_guess=[max(PMePower), 0.5, 0, min(PMePower)]\n",
    "    #print(max(PMePower))\n",
    "    param_bounds=([0, 0.3, -np.inf, 0], [2*max(PMePower), 0.8, np.inf, max(PMePower)]) # upper bound of amplitude could be given as related to the maximum power when not interfering?\n",
    "    params, pcov = optimize.curve_fit(SineSq, phase, PMePower, bounds = param_bounds, p0 = initial_guess)\n",
    "    #time_for_fringe=time_fringe_finished-time_fringe_started\n",
    "    #np.savetxt(f'C:/Users/IT072488-admin/University of Bristol/grp-Multi 3 Chip Project - Multi_3_Chips/pycode_molly/Experimental code/Experimental data/PS Fringes/modes14_{time_fringe_finished}_fringe.csv', np.vstack((phase, PMePower)).T,delimiter=',', header='phase,powers uW,time since epoch')\n",
    "    #np.savetxt(f'C:/Users/IT072488-admin/University of Bristol/grp-Multi 3 Chip Project - Multi_3_Chips/pycode_molly/Experimental code/Experimental data/PS Fringes/modes14_{time_fringe_finished}_fringe_full_fit_params.csv', list(params),delimiter=',', header='amp  freq  phi_0  y_off')\n",
    "    return params"
   ]
  },
  {
   "cell_type": "code",
   "execution_count": 6,
   "metadata": {},
   "outputs": [],
   "source": [
    "#fringe fit to test multiple N and spacing values\n",
    "def FF_testing_N():\n",
    "    spacing_list=[pi/3,pi/3.3, pi/3.5, pi/3.8, pi/4, pi/4.5, pi/5, pi/6, pi/7, pi/8, pi/10]\n",
    "    counter=0\n",
    "    for spacing in spacing_list:\n",
    "        params_output_array=[0,0,0,0]\n",
    "        h.set_many_phases({'BS1':pi/2+0.25, 'BS2':0, 'BS3':0, 'WDM1':pi, 'WDM2':0, 'WDM4':pi, 'WDM3':0, 'Prj_RY1':pi+0.23, 'Prj_RY4':pi-0.02, 'Ctr_2':pi, 'Attb1':pi/2-0.25, 'Attb4':pi, 'MZIb1':pi, 'MZIb2':0, 'MZIb3':pi/2, 'MZIb4':pi, 'Phb1':0})\n",
    "        time.sleep(0.2)\n",
    "        print(spacing)\n",
    "        phase, PMePower, params, time_fringe_finished = FringeFitWithPlotting(spacing)\n",
    "        initial_guess=[max(PMePower), 0.5, 0, min(PMePower)]\n",
    "        param_bounds=([0, 0.3, -np.inf, 0], [2*max(PMePower), 0.8, np.inf, max(PMePower)])\n",
    "        titles=['3point0', '3point3', '3point5', '3point8', '4point0', '4point5', '5point0', '6point0', '7point0', '8point0', '10point0']\n",
    "        folder_titles=['pi by 3', 'pi by 3 point 3', 'pi by 3 point 5', 'pi by 3 point 8', 'pi by 4', 'pi by 4 point 5', 'pi by 5', 'pi by 6', 'pi by 7', 'pi by 8', 'pi by 10']\n",
    "        for i in range(3,11):\n",
    "            phase_N = phase[0:i]\n",
    "            PMePower_N = PMePower[0:i]\n",
    "            params, pcov = optimize.curve_fit(SineSq, phase_N, PMePower_N, bounds = param_bounds, p0 = initial_guess)\n",
    "            params_output_array=np.column_stack([params_output_array,params])\n",
    "        np.savetxt(f'C:/Users/IT072488-admin/University of Bristol/grp-Multi 3 Chip Project - Multi_3_Chips/pycode_molly/Experimental code/Experimental data/PS Fringes/{folder_titles[counter]}/modes14_{time_fringe_finished}_fringe_fit_params{titles[counter]}.csv', params_output_array,delimiter=',', header=' amp  freq  phi_0  y_off  spacing')\n",
    "        counter+=1"
   ]
  },
  {
   "cell_type": "markdown",
   "metadata": {},
   "source": [
    "## Modes 1+4"
   ]
  },
  {
   "cell_type": "code",
   "execution_count": null,
   "metadata": {},
   "outputs": [],
   "source": [
    "mytunics.laser_switch('on')\n",
    "mytunics.laser_wavelength(s_wavelength)\n",
    "mytunics.laser_power(0)"
   ]
  },
  {
   "cell_type": "code",
   "execution_count": null,
   "metadata": {},
   "outputs": [],
   "source": [
    "h.set_many_phases({'BS1':pi/2+0.25, 'BS2':0, 'BS3':0, 'WDM1':pi, 'WDM2':0, 'WDM4':pi, 'WDM3':0, 'Prj_RY1':pi+0.23, 'Prj_RY4':pi-0.02, 'Ctr_2':pi, 'Attb1':pi/2-0.25, 'Attb4':pi, 'MZIb1':pi, 'MZIb2':0, 'MZIb3':pi/2, 'MZIb4':pi, 'Phb1':0})\n",
    "time.sleep(0.2)"
   ]
  },
  {
   "cell_type": "code",
   "execution_count": null,
   "metadata": {},
   "outputs": [],
   "source": [
    "for i in range(0,10):\n",
    "    FF_testing_N()"
   ]
  },
  {
   "cell_type": "code",
   "execution_count": null,
   "metadata": {},
   "outputs": [],
   "source": [
    "phase, PMePower, PMfPower, paramsE = FringeFitWithPlotting()\n",
    "print(PMePower)\n",
    "print(PMfPower)"
   ]
  },
  {
   "cell_type": "code",
   "execution_count": null,
   "metadata": {},
   "outputs": [],
   "source": [
    "list1=[0,1,2,3]\n",
    "list2=[4,5,6,7]\n",
    "list3=np.column_stack([list1,list2])\n",
    "list4=[8,9,10,11]\n",
    "list3=np.column_stack([list3,list4])\n",
    "print(list3)"
   ]
  },
  {
   "cell_type": "code",
   "execution_count": null,
   "metadata": {},
   "outputs": [],
   "source": [
    "np.savetxt(f'C:/Users/IT072488-admin/University of Bristol/grp-Multi 3 Chip Project - Multi_3_Chips/pycode_molly/Experimental code/Experimental data/PS Fringes/list_testing.csv', list3,delimiter=',', header=' amp  freq  phi_0  y_off  spacing')"
   ]
  },
  {
   "cell_type": "markdown",
   "metadata": {},
   "source": [
    "## Phase drift with phase stabilisation"
   ]
  },
  {
   "cell_type": "code",
   "execution_count": 28,
   "metadata": {
    "scrolled": false
   },
   "outputs": [
    {
     "name": "stdout",
     "output_type": "stream",
     "text": [
      "0.00466356953\n",
      "0.00458346783\n",
      "0.0046376538200000005\n",
      "0.00462351846\n",
      "0.0046341197499999995\n",
      "0.00456933202\n",
      "0.00458111149\n",
      "0.0045928914\n",
      "0.00456108618\n",
      "0.00427484004\n",
      "0.0045127897\n",
      "0.00455401805\n",
      "0.00444328929\n",
      "0.00445271287\n",
      "0.0045622639\n",
      "0.00439263692\n",
      "0.00446095871\n",
      "0.00423361168\n",
      "0.00433491687\n",
      "0.00453752635\n",
      "0.00456933202\n",
      "Caught error during powermeter read '<class 'pyvisa.errors.VisaIOError'>'. Tries remaining: 6.\n",
      "Caught error during powermeter read '<class 'pyvisa.errors.VisaIOError'>'. Tries remaining: 5.\n",
      "Caught error during powermeter read '<class 'pyvisa.errors.VisaIOError'>'. Tries remaining: 4.\n",
      "Caught error during powermeter read '<class 'pyvisa.errors.VisaIOError'>'. Tries remaining: 3.\n",
      "Caught error during powermeter read '<class 'pyvisa.errors.VisaIOError'>'. Tries remaining: 2.\n",
      "Trying to reinitialise powermeter.\n",
      "0.0102497433\n",
      "0.0103215649\n",
      "0.0102911306\n",
      "0.0102205275\n",
      "0.0102972182\n",
      "0.010281392600000001\n",
      "0.010216875299999999\n",
      "0.010440859700000001\n",
      "0.010448164099999999\n",
      "0.0107719691\n",
      "0.010509029199999999\n",
      "0.0104530331\n",
      "0.0103593001\n",
      "0.0101864428\n",
      "0.0100829718\n",
      "0.00993324267\n",
      "0.009938111670000001\n",
      "0.00993689486\n",
      "0.00993445948\n",
      "0.010009933300000001\n",
      "0.0100318447\n",
      "0.00999775995\n",
      "0.00997584859\n",
      "0.0100062811\n",
      "0.0101840074\n",
      "0.00996976102\n",
      "0.010247307899999999\n",
      "0.01038243\n",
      "0.0104323385\n",
      "0.0106149356\n",
      "0.0107171898\n",
      "0.0106003286\n",
      "0.0108084874\n",
      "Caught error during powermeter read '<class 'pyvisa.errors.VisaIOError'>'. Tries remaining: 6.\n",
      "Caught error during powermeter read '<class 'pyvisa.errors.VisaIOError'>'. Tries remaining: 5.\n",
      "Caught error during powermeter read '<class 'pyvisa.errors.VisaIOError'>'. Tries remaining: 4.\n",
      "Caught error during powermeter read '<class 'pyvisa.errors.VisaIOError'>'. Tries remaining: 3.\n",
      "Caught error during powermeter read '<class 'pyvisa.errors.VisaIOError'>'. Tries remaining: 2.\n",
      "Trying to reinitialise powermeter.\n"
     ]
    },
    {
     "ename": "RuntimeError",
     "evalue": "Error:Powermeter:measure: Tried 5 times to read powermeter, failed. Tried to reinitialise powermeter, failed.",
     "output_type": "error",
     "traceback": [
      "\u001b[1;31m---------------------------------------------------------------------------\u001b[0m",
      "\u001b[1;31mVisaIOError\u001b[0m                               Traceback (most recent call last)",
      "\u001b[1;32m~\\University of Bristol\\grp-Multi 3 Chip Project - Documents\\Multi_3_Chips\\pycode_molly\\Experimental code\\powermeter.py\u001b[0m in \u001b[0;36mmeasure\u001b[1;34m(self, channel)\u001b[0m\n\u001b[0;32m     83\u001b[0m                                         \u001b[0mself\u001b[0m\u001b[1;33m.\u001b[0m\u001b[0m__init__\u001b[0m\u001b[1;33m(\u001b[0m\u001b[0mself\u001b[0m\u001b[1;33m.\u001b[0m\u001b[0mmodel\u001b[0m\u001b[1;33m)\u001b[0m\u001b[1;33m\u001b[0m\u001b[1;33m\u001b[0m\u001b[0m\n\u001b[1;32m---> 84\u001b[1;33m                                         \u001b[0mresult_W\u001b[0m \u001b[1;33m=\u001b[0m \u001b[0mfloat\u001b[0m\u001b[1;33m(\u001b[0m\u001b[0mself\u001b[0m\u001b[1;33m.\u001b[0m\u001b[0minstr\u001b[0m\u001b[1;33m.\u001b[0m\u001b[0mquery\u001b[0m\u001b[1;33m(\u001b[0m\u001b[1;34m'read?'\u001b[0m\u001b[1;33m,\u001b[0m \u001b[0mdelay\u001b[0m\u001b[1;33m=\u001b[0m\u001b[0mself\u001b[0m\u001b[1;33m.\u001b[0m\u001b[0mread_timeout\u001b[0m\u001b[1;33m)\u001b[0m\u001b[1;33m)\u001b[0m\u001b[1;33m\u001b[0m\u001b[1;33m\u001b[0m\u001b[0m\n\u001b[0m\u001b[0;32m     85\u001b[0m                                 \u001b[1;32mexcept\u001b[0m\u001b[1;33m:\u001b[0m\u001b[1;33m\u001b[0m\u001b[1;33m\u001b[0m\u001b[0m\n",
      "\u001b[1;32m~\\Anaconda3\\lib\\site-packages\\pyvisa\\resources\\messagebased.py\u001b[0m in \u001b[0;36mquery\u001b[1;34m(self, message, delay)\u001b[0m\n\u001b[0;32m    643\u001b[0m \u001b[1;33m\u001b[0m\u001b[0m\n\u001b[1;32m--> 644\u001b[1;33m         \u001b[1;32mreturn\u001b[0m \u001b[0mself\u001b[0m\u001b[1;33m.\u001b[0m\u001b[0mread\u001b[0m\u001b[1;33m(\u001b[0m\u001b[1;33m)\u001b[0m\u001b[1;33m\u001b[0m\u001b[1;33m\u001b[0m\u001b[0m\n\u001b[0m\u001b[0;32m    645\u001b[0m \u001b[1;33m\u001b[0m\u001b[0m\n",
      "\u001b[1;32m~\\Anaconda3\\lib\\site-packages\\pyvisa\\resources\\messagebased.py\u001b[0m in \u001b[0;36mread\u001b[1;34m(self, termination, encoding)\u001b[0m\n\u001b[0;32m    485\u001b[0m             \u001b[0mtermination\u001b[0m \u001b[1;33m=\u001b[0m \u001b[0mself\u001b[0m\u001b[1;33m.\u001b[0m\u001b[0m_read_termination\u001b[0m\u001b[1;33m\u001b[0m\u001b[1;33m\u001b[0m\u001b[0m\n\u001b[1;32m--> 486\u001b[1;33m             \u001b[0mmessage\u001b[0m \u001b[1;33m=\u001b[0m \u001b[0mself\u001b[0m\u001b[1;33m.\u001b[0m\u001b[0m_read_raw\u001b[0m\u001b[1;33m(\u001b[0m\u001b[1;33m)\u001b[0m\u001b[1;33m.\u001b[0m\u001b[0mdecode\u001b[0m\u001b[1;33m(\u001b[0m\u001b[0menco\u001b[0m\u001b[1;33m)\u001b[0m\u001b[1;33m\u001b[0m\u001b[1;33m\u001b[0m\u001b[0m\n\u001b[0m\u001b[0;32m    487\u001b[0m         \u001b[1;32melse\u001b[0m\u001b[1;33m:\u001b[0m\u001b[1;33m\u001b[0m\u001b[1;33m\u001b[0m\u001b[0m\n",
      "\u001b[1;32m~\\Anaconda3\\lib\\site-packages\\pyvisa\\resources\\messagebased.py\u001b[0m in \u001b[0;36m_read_raw\u001b[1;34m(self, size)\u001b[0m\n\u001b[0;32m    441\u001b[0m                     )\n\u001b[1;32m--> 442\u001b[1;33m                     \u001b[0mchunk\u001b[0m\u001b[1;33m,\u001b[0m \u001b[0mstatus\u001b[0m \u001b[1;33m=\u001b[0m \u001b[0mself\u001b[0m\u001b[1;33m.\u001b[0m\u001b[0mvisalib\u001b[0m\u001b[1;33m.\u001b[0m\u001b[0mread\u001b[0m\u001b[1;33m(\u001b[0m\u001b[0mself\u001b[0m\u001b[1;33m.\u001b[0m\u001b[0msession\u001b[0m\u001b[1;33m,\u001b[0m \u001b[0msize\u001b[0m\u001b[1;33m)\u001b[0m\u001b[1;33m\u001b[0m\u001b[1;33m\u001b[0m\u001b[0m\n\u001b[0m\u001b[0;32m    443\u001b[0m                     \u001b[0mret\u001b[0m\u001b[1;33m.\u001b[0m\u001b[0mextend\u001b[0m\u001b[1;33m(\u001b[0m\u001b[0mchunk\u001b[0m\u001b[1;33m)\u001b[0m\u001b[1;33m\u001b[0m\u001b[1;33m\u001b[0m\u001b[0m\n",
      "\u001b[1;32m~\\Anaconda3\\lib\\site-packages\\pyvisa\\ctwrapper\\functions.py\u001b[0m in \u001b[0;36mread\u001b[1;34m(library, session, count)\u001b[0m\n\u001b[0;32m   2336\u001b[0m     \u001b[0mreturn_count\u001b[0m \u001b[1;33m=\u001b[0m \u001b[0mViUInt32\u001b[0m\u001b[1;33m(\u001b[0m\u001b[1;33m)\u001b[0m\u001b[1;33m\u001b[0m\u001b[1;33m\u001b[0m\u001b[0m\n\u001b[1;32m-> 2337\u001b[1;33m     \u001b[0mret\u001b[0m \u001b[1;33m=\u001b[0m \u001b[0mlibrary\u001b[0m\u001b[1;33m.\u001b[0m\u001b[0mviRead\u001b[0m\u001b[1;33m(\u001b[0m\u001b[0msession\u001b[0m\u001b[1;33m,\u001b[0m \u001b[0mbuffer\u001b[0m\u001b[1;33m,\u001b[0m \u001b[0mcount\u001b[0m\u001b[1;33m,\u001b[0m \u001b[0mbyref\u001b[0m\u001b[1;33m(\u001b[0m\u001b[0mreturn_count\u001b[0m\u001b[1;33m)\u001b[0m\u001b[1;33m)\u001b[0m\u001b[1;33m\u001b[0m\u001b[1;33m\u001b[0m\u001b[0m\n\u001b[0m\u001b[0;32m   2338\u001b[0m     \u001b[1;32mreturn\u001b[0m \u001b[0mbuffer\u001b[0m\u001b[1;33m.\u001b[0m\u001b[0mraw\u001b[0m\u001b[1;33m[\u001b[0m\u001b[1;33m:\u001b[0m \u001b[0mreturn_count\u001b[0m\u001b[1;33m.\u001b[0m\u001b[0mvalue\u001b[0m\u001b[1;33m]\u001b[0m\u001b[1;33m,\u001b[0m \u001b[0mret\u001b[0m\u001b[1;33m\u001b[0m\u001b[1;33m\u001b[0m\u001b[0m\n",
      "\u001b[1;32m~\\Anaconda3\\lib\\site-packages\\pyvisa\\ctwrapper\\highlevel.py\u001b[0m in \u001b[0;36m_return_handler\u001b[1;34m(self, ret_value, func, arguments)\u001b[0m\n\u001b[0;32m    221\u001b[0m \u001b[1;33m\u001b[0m\u001b[0m\n\u001b[1;32m--> 222\u001b[1;33m         \u001b[1;32mreturn\u001b[0m \u001b[0mself\u001b[0m\u001b[1;33m.\u001b[0m\u001b[0mhandle_return_value\u001b[0m\u001b[1;33m(\u001b[0m\u001b[0msession\u001b[0m\u001b[1;33m,\u001b[0m \u001b[0mret_value\u001b[0m\u001b[1;33m)\u001b[0m  \u001b[1;31m# type: ignore\u001b[0m\u001b[1;33m\u001b[0m\u001b[1;33m\u001b[0m\u001b[0m\n\u001b[0m\u001b[0;32m    223\u001b[0m \u001b[1;33m\u001b[0m\u001b[0m\n",
      "\u001b[1;32m~\\Anaconda3\\lib\\site-packages\\pyvisa\\highlevel.py\u001b[0m in \u001b[0;36mhandle_return_value\u001b[1;34m(self, session, status_code)\u001b[0m\n\u001b[0;32m    250\u001b[0m         \u001b[1;32mif\u001b[0m \u001b[0mrv\u001b[0m \u001b[1;33m<\u001b[0m \u001b[1;36m0\u001b[0m\u001b[1;33m:\u001b[0m\u001b[1;33m\u001b[0m\u001b[1;33m\u001b[0m\u001b[0m\n\u001b[1;32m--> 251\u001b[1;33m             \u001b[1;32mraise\u001b[0m \u001b[0merrors\u001b[0m\u001b[1;33m.\u001b[0m\u001b[0mVisaIOError\u001b[0m\u001b[1;33m(\u001b[0m\u001b[0mrv\u001b[0m\u001b[1;33m)\u001b[0m\u001b[1;33m\u001b[0m\u001b[1;33m\u001b[0m\u001b[0m\n\u001b[0m\u001b[0;32m    252\u001b[0m \u001b[1;33m\u001b[0m\u001b[0m\n",
      "\u001b[1;31mVisaIOError\u001b[0m: VI_ERROR_TMO (-1073807339): Timeout expired before operation completed.",
      "\nDuring handling of the above exception, another exception occurred:\n",
      "\u001b[1;31mRuntimeError\u001b[0m                              Traceback (most recent call last)",
      "\u001b[1;32m~\\University of Bristol\\grp-Multi 3 Chip Project - Documents\\Multi_3_Chips\\pycode_molly\\Experimental code\\prerequisites.py\u001b[0m in \u001b[0;36m<module>\u001b[1;34m\u001b[0m\n\u001b[0;32m      9\u001b[0m     \u001b[0mnoPS_arrayPMe\u001b[0m\u001b[1;33m.\u001b[0m\u001b[0mappend\u001b[0m\u001b[1;33m(\u001b[0m\u001b[0mPMa\u001b[0m\u001b[1;33m.\u001b[0m\u001b[0mmeasure\u001b[0m\u001b[1;33m(\u001b[0m\u001b[1;33m)\u001b[0m\u001b[1;33m)\u001b[0m\u001b[1;33m\u001b[0m\u001b[1;33m\u001b[0m\u001b[0m\n\u001b[0;32m     10\u001b[0m     \u001b[0mnoPS_arrayPMf\u001b[0m\u001b[1;33m.\u001b[0m\u001b[0mappend\u001b[0m\u001b[1;33m(\u001b[0m\u001b[0mPMc\u001b[0m\u001b[1;33m.\u001b[0m\u001b[0mmeasure\u001b[0m\u001b[1;33m(\u001b[0m\u001b[1;33m)\u001b[0m\u001b[1;33m)\u001b[0m\u001b[1;33m\u001b[0m\u001b[1;33m\u001b[0m\u001b[0m\n\u001b[1;32m---> 11\u001b[1;33m     \u001b[0mparams\u001b[0m\u001b[1;33m=\u001b[0m\u001b[0mFringeFit\u001b[0m\u001b[1;33m(\u001b[0m\u001b[0mpi\u001b[0m\u001b[1;33m/\u001b[0m\u001b[1;36m5\u001b[0m\u001b[1;33m)\u001b[0m \u001b[1;31m#zero_phase_power = first point of the 5 power points taken i.e. when Phb1=0\u001b[0m\u001b[1;33m\u001b[0m\u001b[1;33m\u001b[0m\u001b[0m\n\u001b[0m\u001b[0;32m     12\u001b[0m     \u001b[0mh\u001b[0m\u001b[1;33m.\u001b[0m\u001b[0mset_phase\u001b[0m\u001b[1;33m(\u001b[0m\u001b[1;34m'Phb1'\u001b[0m\u001b[1;33m,\u001b[0m \u001b[1;33m-\u001b[0m\u001b[0mparams\u001b[0m\u001b[1;33m[\u001b[0m\u001b[1;36m2\u001b[0m\u001b[1;33m]\u001b[0m\u001b[1;33m/\u001b[0m\u001b[0mparams\u001b[0m\u001b[1;33m[\u001b[0m\u001b[1;36m1\u001b[0m\u001b[1;33m]\u001b[0m\u001b[1;33m)\u001b[0m\u001b[1;33m\u001b[0m\u001b[1;33m\u001b[0m\u001b[0m\n\u001b[0;32m     13\u001b[0m     \u001b[0mtime\u001b[0m\u001b[1;33m.\u001b[0m\u001b[0msleep\u001b[0m\u001b[1;33m(\u001b[0m\u001b[1;36m0.1\u001b[0m\u001b[1;33m)\u001b[0m\u001b[1;31m#maybe try to make this longer? might be that the heater isn't quite set yet\u001b[0m\u001b[1;33m\u001b[0m\u001b[1;33m\u001b[0m\u001b[0m\n",
      "\u001b[1;32m~\\University of Bristol\\grp-Multi 3 Chip Project - Documents\\Multi_3_Chips\\pycode_molly\\Experimental code\\prerequisites.py\u001b[0m in \u001b[0;36mFringeFit\u001b[1;34m(spacing)\u001b[0m\n\u001b[0;32m     43\u001b[0m         \u001b[0mh\u001b[0m\u001b[1;33m.\u001b[0m\u001b[0mset_phase\u001b[0m\u001b[1;33m(\u001b[0m\u001b[1;34m'Phb1'\u001b[0m\u001b[1;33m,\u001b[0m \u001b[0mi\u001b[0m\u001b[1;33m*\u001b[0m\u001b[0mspacing\u001b[0m\u001b[1;33m)\u001b[0m\u001b[1;33m\u001b[0m\u001b[1;33m\u001b[0m\u001b[0m\n\u001b[0;32m     44\u001b[0m         \u001b[0mtime\u001b[0m\u001b[1;33m.\u001b[0m\u001b[0msleep\u001b[0m\u001b[1;33m(\u001b[0m\u001b[1;36m0.15\u001b[0m\u001b[1;33m)\u001b[0m\u001b[1;33m\u001b[0m\u001b[1;33m\u001b[0m\u001b[0m\n\u001b[1;32m---> 45\u001b[1;33m         \u001b[0mPMePower\u001b[0m\u001b[1;33m.\u001b[0m\u001b[0mappend\u001b[0m\u001b[1;33m(\u001b[0m\u001b[0mPMa\u001b[0m\u001b[1;33m.\u001b[0m\u001b[0mmeasure\u001b[0m\u001b[1;33m(\u001b[0m\u001b[1;33m)\u001b[0m\u001b[1;33m*\u001b[0m\u001b[1;36m1000000\u001b[0m\u001b[1;33m)\u001b[0m\u001b[1;31m#times 1000000 bc curvefit doesn't work well with small numbers (micro watts)\u001b[0m\u001b[1;33m\u001b[0m\u001b[1;33m\u001b[0m\u001b[0m\n\u001b[0m\u001b[0;32m     46\u001b[0m     \u001b[1;31m#time with and without starting parameters, does it make it faster? what about limits?\u001b[0m\u001b[1;33m\u001b[0m\u001b[1;33m\u001b[0m\u001b[1;33m\u001b[0m\u001b[0m\n\u001b[0;32m     47\u001b[0m     \u001b[0mtime_fringe_finished\u001b[0m\u001b[1;33m=\u001b[0m\u001b[0mint\u001b[0m\u001b[1;33m(\u001b[0m\u001b[0mtime\u001b[0m\u001b[1;33m.\u001b[0m\u001b[0mtime\u001b[0m\u001b[1;33m(\u001b[0m\u001b[1;33m)\u001b[0m\u001b[1;33m)\u001b[0m\u001b[1;33m\u001b[0m\u001b[1;33m\u001b[0m\u001b[0m\n",
      "\u001b[1;32m~\\University of Bristol\\grp-Multi 3 Chip Project - Documents\\Multi_3_Chips\\pycode_molly\\Experimental code\\powermeter.py\u001b[0m in \u001b[0;36mmeasure\u001b[1;34m(self, channel)\u001b[0m\n\u001b[0;32m     84\u001b[0m                                         \u001b[0mresult_W\u001b[0m \u001b[1;33m=\u001b[0m \u001b[0mfloat\u001b[0m\u001b[1;33m(\u001b[0m\u001b[0mself\u001b[0m\u001b[1;33m.\u001b[0m\u001b[0minstr\u001b[0m\u001b[1;33m.\u001b[0m\u001b[0mquery\u001b[0m\u001b[1;33m(\u001b[0m\u001b[1;34m'read?'\u001b[0m\u001b[1;33m,\u001b[0m \u001b[0mdelay\u001b[0m\u001b[1;33m=\u001b[0m\u001b[0mself\u001b[0m\u001b[1;33m.\u001b[0m\u001b[0mread_timeout\u001b[0m\u001b[1;33m)\u001b[0m\u001b[1;33m)\u001b[0m\u001b[1;33m\u001b[0m\u001b[1;33m\u001b[0m\u001b[0m\n\u001b[0;32m     85\u001b[0m                                 \u001b[1;32mexcept\u001b[0m\u001b[1;33m:\u001b[0m\u001b[1;33m\u001b[0m\u001b[1;33m\u001b[0m\u001b[0m\n\u001b[1;32m---> 86\u001b[1;33m                                         \u001b[1;32mraise\u001b[0m \u001b[0mRuntimeError\u001b[0m\u001b[1;33m(\u001b[0m\u001b[1;34m'Error:Powermeter:measure: Tried {:} times to read powermeter, failed. Tried to reinitialise powermeter, failed.'\u001b[0m\u001b[1;33m.\u001b[0m\u001b[0mformat\u001b[0m\u001b[1;33m(\u001b[0m\u001b[0mn_tries\u001b[0m\u001b[1;33m)\u001b[0m\u001b[1;33m)\u001b[0m\u001b[1;33m\u001b[0m\u001b[1;33m\u001b[0m\u001b[0m\n\u001b[0m\u001b[0;32m     87\u001b[0m \u001b[1;33m\u001b[0m\u001b[0m\n\u001b[0;32m     88\u001b[0m \u001b[1;33m\u001b[0m\u001b[0m\n",
      "\u001b[1;31mRuntimeError\u001b[0m: Error:Powermeter:measure: Tried 5 times to read powermeter, failed. Tried to reinitialise powermeter, failed."
     ]
    }
   ],
   "source": [
    "h.set_many_phases({'BS1':0, 'BS2':0, 'BS3':0, 'WDM1':pi, 'WDM2':0, 'WDM4':pi, 'WDM3':0, 'Prj_RY1':pi/2+0.23, 'Prj_RY4':pi-0.02, 'Ctr_2':pi, 'Attb1':pi/2-0.25, 'Attb4':pi, 'MZIb1':pi/2, 'MZIb2':0, 'MZIb3':pi, 'MZIb4':pi})\n",
    "#h.set_many_phases({'BS1':pi/2+0.25, 'BS2':0, 'BS3':0, 'WDM1':pi, 'WDM2':0, 'WDM4':pi, 'WDM3':0, 'Prj_RY1':pi+0.23, 'Prj_RY4':pi-0.02, 'Ctr_2':pi, 'Attb1':pi/2-0.25, 'Attb4':pi, 'MZIb1':pi, 'MZIb2':0, 'MZIb3':3*pi/2, 'MZIb4':pi})\n",
    "phase=0\n",
    "withPS_time_array, withoutPS_time_array,PMe_array,PMf_array,noPS_arrayPMe,noPS_arrayPMf=[],[],[],[],[],[]\n",
    "for i in range(0, 100):\n",
    "    h.set_phase('Phb1', 0)\n",
    "    time.sleep(0.1)\n",
    "    withoutPS_time_array.append(time.time())\n",
    "    noPS_arrayPMe.append(PMa.measure())\n",
    "    noPS_arrayPMf.append(PMc.measure())\n",
    "    params=FringeFit(pi/5) #zero_phase_power = first point of the 5 power points taken i.e. when Phb1=0\n",
    "    h.set_phase('Phb1', -params[2]/params[1])\n",
    "    time.sleep(0.1)#maybe try to make this longer? might be that the heater isn't quite set yet\n",
    "    withPS_time_array.append(time.time())\n",
    "    PMe_array.append(PMa.measure())\n",
    "    PMf_array.append(PMc.measure())\n",
    "    #time.sleep(0.5)\n",
    "\n",
    "    \n",
    "#saving_array = np.vstack((time_array, PMe_array, PMg_array)).T\n",
    "saving_array = np.vstack((withoutPS_time_array, noPS_arrayPMe, noPS_arrayPMf, withPS_time_array, PMe_array, PMf_array)).T\n",
    "np.savetxt(f'C:/Users/mb16805/University of Bristol/grp-Multi 3 Chip Project - Documents/Multi_3_Chips/pycode_molly/Experimental code/Experimental data/Molly testing phase stab 181120/with_and_without_PS_drift_over_time_{int(time.time())}piby5_10points.csv', saving_array,delimiter=',', header='#time,without PS output_1, without PS output_2, time, with PS output_1, with PS output_2, 0.1 sleep pi/5 separation 10 points')\n"
   ]
  },
  {
   "cell_type": "code",
   "execution_count": 17,
   "metadata": {},
   "outputs": [],
   "source": [
    "mytunics.laser_switch('on')\n",
    "mytunics.laser_wavelength(p_wavelength)\n",
    "mytunics.laser_power(0)"
   ]
  },
  {
   "cell_type": "code",
   "execution_count": 16,
   "metadata": {},
   "outputs": [],
   "source": [
    "h.set_many_phases({\"BS1\":pi,\n",
    "    \"BS2\":pi,\n",
    "    \"BS3\":0,\n",
    "    \"WDM1\":0,\n",
    "    \"WDM2\":pi/2,\n",
    "    \"WDM3\":pi/2,\n",
    "    \"WDM4\":pi/2,\n",
    "    \"Pre_RY1\":pi,\n",
    "    \"Pre_RY2\":pi,\n",
    "    \"Bell1\":pi,\n",
    "    \"Bell2\":pi,\n",
    "    \"Prj_RY1\":pi,\n",
    "    \"Prj_RY2\":pi/2,\n",
    "    \"Prj_RY3\":pi,\n",
    "    \"Prj_RY4\":pi/2,\n",
    "    \"Ctr_1\":pi,\n",
    "    \"Ctr_2\":pi,\n",
    "    \"Prj_RZ1\":0,\n",
    "    \"Prj_RZ2\":0,\n",
    "    \"Prj_RZ3\":0,\n",
    "    \"Prj_RZ4\":0,\n",
    "    \"Pre_RZ1\":0,\n",
    "    \"Pre_RZ2\":0,})\n",
    "\n",
    "h.set_many_phases({\"Atta1\":0,\n",
    "    \"Atta2\":0,\n",
    "    \"Atta3\":pi,\n",
    "    \"Atta4\":pi, #calibrated wrong way round\n",
    "    \"MZIa1\":pi,\n",
    "    \"MZIa2\":pi/2,\n",
    "    \"MZIa3\":pi,\n",
    "    \"MZIa4\":pi})"
   ]
  },
  {
   "cell_type": "code",
   "execution_count": 18,
   "metadata": {},
   "outputs": [],
   "source": [
    "#h.set_many_phases({'BS1':pi/2+0.25, 'BS2':0, 'BS3':0, 'WDM1':pi, 'WDM2':0, 'WDM4':pi, 'WDM3':0, 'Prj_RY1':pi+0.23, 'Prj_RY4':pi-0.02, 'Ctr_2':pi, 'Attb1':pi/2-0.25, 'Attb4':pi, 'MZIb1':pi, 'MZIb2':0, 'MZIb3':3*pi/2, 'MZIb4':pi})\n",
    "phase=0\n",
    "withPS_time_array, withoutPS_time_array,PMe_array,PMf_array,noPS_arrayPMe,noPS_arrayPMf=[],[],[],[],[],[]\n",
    "for i in range(0, 100):\n",
    "    h.set_phase('Phb3', 0)\n",
    "    time.sleep(0.1)\n",
    "    withoutPS_time_array.append(time.time())\n",
    "    noPS_arrayPMe.append(PMf.measure())\n",
    "    noPS_arrayPMf.append(PMh.measure())\n",
    "    params=FringeFit(pi/5) #zero_phase_power = first point of the 5 power points taken i.e. when Phb1=0\n",
    "    h.set_phase('Phb3', -params[2]/params[1])\n",
    "    time.sleep(0.1)\n",
    "    withPS_time_array.append(time.time())\n",
    "    PMe_array.append(PMa.measure())\n",
    "    PMf_array.append(PMc.measure())\n",
    "    #time.sleep(0.5)\n",
    "\n",
    "    \n",
    "#saving_array = np.vstack((time_array, PMe_array, PMg_array)).T\n",
    "saving_array = np.vstack((withoutPS_time_array, noPS_arrayPMe, noPS_arrayPMf, withPS_time_array, PMe_array, PMf_array)).T\n",
    "np.savetxt(f'C:/Users/mb16805/University of Bristol/grp-Multi 3 Chip Project - Documents/Multi_3_Chips/pycode_molly/Experimental code/Experimental data/Molly testing phase stab 250221/with_and_without_PS_drift_over_time_{int(time.time())}piby5_10points.csv', saving_array,delimiter=',', header='#time,without PS output_1, without PS output_2, time, with PS output_1, with PS output_2, 0.1 sleep pi/5 separation 10 points')\n"
   ]
  },
  {
   "cell_type": "code",
   "execution_count": 23,
   "metadata": {},
   "outputs": [],
   "source": [
    "h.set_many_phases({'BS1':0, 'BS2':0, 'BS3':0, 'WDM1':pi, 'WDM2':0, 'WDM4':pi, 'WDM3':0, 'Prj_RY1':pi/2, 'Prj_RY4':pi-0.02, 'Ctr_2':pi, 'Attb1':pi/2-0.25, 'Attb4':pi, 'MZIb1':pi/2, 'MZIb2':0, 'MZIb3':pi, 'MZIb4':pi})"
   ]
  },
  {
   "cell_type": "code",
   "execution_count": null,
   "metadata": {},
   "outputs": [],
   "source": [
    "saving_array = np.vstack((time_array, PMe_array, PMg_array)).T\n",
    "np.savetxt(f'C:/Users/IT072488-admin/University of Bristol/grp-Multi 3 Chip Project - Multi_3_Chips/pycode_molly/Experimental code/Experimental data/Interference/without_PS_drift_over_time_{int(time.time())}.csv', saving_array,delimiter=',', header='#time,output_1,output_2')"
   ]
  },
  {
   "cell_type": "code",
   "execution_count": null,
   "metadata": {},
   "outputs": [],
   "source": []
  }
 ],
 "metadata": {
  "kernelspec": {
   "display_name": "Python 3",
   "language": "python",
   "name": "python3"
  },
  "language_info": {
   "codemirror_mode": {
    "name": "ipython",
    "version": 3
   },
   "file_extension": ".py",
   "mimetype": "text/x-python",
   "name": "python",
   "nbconvert_exporter": "python",
   "pygments_lexer": "ipython3",
   "version": "3.8.3"
  }
 },
 "nbformat": 4,
 "nbformat_minor": 4
}
