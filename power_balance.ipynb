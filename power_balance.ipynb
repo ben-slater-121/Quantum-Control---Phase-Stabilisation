{
 "cells": [
  {
   "cell_type": "code",
   "execution_count": 1,
   "metadata": {},
   "outputs": [],
   "source": [
    "#run this cell if you want to be able to autoreload packages\n",
    "#(meaning that you don't have to restart the kernal when you make changes to code)\n",
    "\n",
    "%load_ext autoreload\n",
    "%autoreload 2\n",
    "%matplotlib inline\n",
    "%run -i \"prerequisites.py\""
   ]
  },
  {
   "cell_type": "code",
   "execution_count": 7,
   "metadata": {},
   "outputs": [],
   "source": [
    "import scipy as sp"
   ]
  },
  {
   "cell_type": "code",
   "execution_count": 2,
   "metadata": {},
   "outputs": [],
   "source": [
    "# powermeter1 = Powermeter('PM100USB', serial='P2003916', unit='dBm', wavelength=1550) \n",
    "unit='dBm'\n",
    "wavelength=1550\n",
    "#Alice (tele) powermeters 10/03/20:\n",
    "PMa = PM('PM100USB', serial='P2007347',unit=unit, wavelength = wavelength)\n",
    "PMb = PM('PM100USB', serial='P2010371',unit=unit, wavelength = wavelength) \n",
    "PMc = PM('PM100USB', serial='P2003683',unit=unit, wavelength = wavelength) \n",
    "PMd = PM('PM100USB', serial='P2008115',unit=unit, wavelength = wavelength)\n",
    "#Charlie powermeters 10/03/20:\n",
    "PMe = PM('PM100USB', serial='P2005653',unit=unit, wavelength = wavelength)\n",
    "PMf = PM('PM100USB', serial='P2010372',unit=unit, wavelength = wavelength) \n",
    "PMg = PM('PM100USB', serial='P2008116',unit=unit, wavelength = wavelength) \n",
    "PMh = PM('PM100USB', serial='P2007346',unit=unit, wavelength = wavelength)\n",
    "\n",
    "PMi = PM('PM100USB', serial='P2008979',unit=unit, wavelength = wavelength)\n",
    "PMj = PM('PM100USB', serial='P2003683',unit=unit, wavelength = wavelength)\n",
    "\n",
    "PM_idler = {\"PMa\":PMa,\"PMb\":PMb, \"PMc\":PMc,\"PMd\":PMd}\n",
    "PM_signal = {\"PMe\":PMe,\"PMf\":PMf, \"PMg\":PMg,\"PMh\":PMh}\n",
    "PM_all = {\"PMa\":PMa,\"PMb\":PMb, \"PMc\":PMc,\"PMd\":PMd, \"PMe\":PMe,\"PMf\":PMf, \"PMg\":PMg,\"PMh\":PMh}"
   ]
  },
  {
   "cell_type": "code",
   "execution_count": 3,
   "metadata": {},
   "outputs": [
    {
     "name": "stdout",
     "output_type": "stream",
     "text": [
      "\n",
      "Connected to Tunics laser on serial port COM13\n",
      "\n"
     ]
    }
   ],
   "source": [
    "# Wavelengths\n",
    "p_wavelength = 1549.3\n",
    "i_wavelength = 1558.98\n",
    "s_wavelength = 1539.77\n",
    "\n",
    "unit='dBm'\n",
    "serial_port_name = 'COM13'\n",
    "mytunics = tunics(serial_port_name = serial_port_name, unit=unit)"
   ]
  },
  {
   "cell_type": "code",
   "execution_count": 12,
   "metadata": {},
   "outputs": [],
   "source": [
    "# Laser Settings\n",
    "mytunics.laser_wavelength(p_wavelength)\n",
    "mytunics.laser_switch('on') \n",
    "mytunics.laser_power(0) "
   ]
  },
  {
   "cell_type": "code",
   "execution_count": 126,
   "metadata": {},
   "outputs": [],
   "source": [
    "mytunics.laser_switch('off') "
   ]
  },
  {
   "cell_type": "code",
   "execution_count": null,
   "metadata": {},
   "outputs": [],
   "source": [
    "Alice0 = PMa.measure()\n",
    "Alice1 = PMb.measure()\n",
    "Alice2 = PMc.measure()\n",
    "Alice3 = PMd.measure()"
   ]
  },
  {
   "cell_type": "code",
   "execution_count": 123,
   "metadata": {},
   "outputs": [],
   "source": [
    "#set chip config\n",
    "#minimise power difference function of relevant phase shifter\n",
    "\n",
    "def BalancePairs(phase, name):\n",
    "    h.set_many_phases({name:phase})\n",
    "    balancing_MZIs = {\"BS1\": (round((PMa.measure()+PMb.measure()-(PMc.measure()+PMd.measure()))/(PMa.measure()+PMb.measure()+(PMc.measure()+PMd.measure())),3)),#balance top pair and bottom pair\n",
    "                     \"Prj_RY2\": (round((PMa.measure()-PMb.measure())/(PMa.measure()+PMb.measure()),3)), #balance top pair arms\n",
    "                     \"Prj_RY3\": (round((PMc.measure()-PMd.measure())/(PMc.measure()+PMd.measure()),3))} #balance bottom pair arms\n",
    "    return balancing_MZIs[name]"
   ]
  },
  {
   "cell_type": "code",
   "execution_count": 115,
   "metadata": {},
   "outputs": [
    {
     "name": "stdout",
     "output_type": "stream",
     "text": [
      "0.122\n",
      "1.5707963267948966\n",
      "0.132\n",
      "1.6707963267948966\n",
      "0.131\n",
      "1.4707963267948965\n",
      "0.114\n",
      "1.5444805373212123\n",
      "0.126\n",
      "1.6444805373212124\n",
      "0.025\n",
      "0.9444805373212137\n",
      "0.033\n",
      "1.0444805373212138\n",
      "-0.026\n",
      "-0.25551946267878445\n",
      "-0.264\n",
      "-0.3555194626787844\n",
      "0.033\n",
      "-3.141592653589793\n",
      "0.125\n",
      "-1.68626665989593\n",
      "-0.05\n",
      "-0.9405173592317113\n",
      "-0.152\n",
      "-0.6031357616227051\n",
      "-0.195\n",
      "-0.7031357616227051\n",
      "-0.189\n",
      "-0.6797896121590569\n",
      "-0.18\n",
      "-0.7797896121590568\n",
      "-0.195\n",
      "-0.6665225995662267\n",
      "-0.172\n",
      "-0.7665225995662267\n",
      "-0.2\n",
      "-0.4969996608800644\n",
      "-0.236\n",
      "-0.5969996608800644\n",
      "-0.216\n",
      "-0.6004373861800956\n",
      "-0.199\n",
      "-0.7004373861800955\n",
      "-0.214\n",
      "-0.567259247876312\n",
      "-0.222\n",
      "-0.5881908441416575\n",
      "-0.199\n",
      "-0.6881908441416574\n",
      "-0.092\n",
      "-0.36375049679253324\n",
      "-0.046\n",
      "-0.5562950828184716\n",
      "-0.209\n",
      "-0.5850012680093388\n",
      "-0.219\n",
      "-0.5878718865284256\n",
      "-0.219\n",
      "-0.5881589483803342\n",
      "-0.219\n",
      "-0.5881876545655251\n",
      "-0.218\n",
      "-0.5881905251840442\n",
      "-0.218\n",
      "-0.5881908122458961\n",
      "-0.218\n",
      "-0.5881908409520813\n",
      "-0.217\n",
      "-0.5881908438226998\n",
      "-0.217\n",
      "-0.5881908441097617\n",
      "done\n",
      "-0.065\n",
      "1.5707963267948966\n",
      "-0.049\n",
      "1.6707963267948966\n",
      "-0.093\n",
      "1.4107963267948966\n",
      "-0.079\n",
      "1.5107963267948967\n",
      "-0.195\n",
      "0.7107963267948982\n",
      "-0.204\n",
      "0.8107963267948982\n",
      "-0.173\n",
      "0.9847093702731583\n",
      "-0.203\n",
      "0.7831675736039257\n",
      "-0.19\n",
      "0.8831675736039257\n",
      "-0.214\n",
      "0.7404027459440458\n",
      "-0.198\n",
      "0.8404027459440457\n",
      "-0.255\n",
      "0.47723457572940015\n",
      "-0.249\n",
      "0.5772345757294002\n",
      "-0.282\n",
      "0.3193336736006125\n",
      "-0.275\n",
      "0.41933367360061247\n",
      "-0.173\n",
      "-0.6017549221506425\n",
      "-0.258\n",
      "0.14816237314918826\n",
      "-0.287\n",
      "0.2908336805752817\n",
      "-0.279\n",
      "0.3908336805752817\n",
      "0.225\n",
      "-3.1415926535897927\n",
      "-0.155\n",
      "-0.3082834721529356\n",
      "-0.271\n",
      "0.21103762320722452\n",
      "-0.285\n",
      "0.2794550163593127\n",
      "-0.287\n",
      "0.28905414850435235\n",
      "-0.286\n",
      "0.289943914539817\n",
      "-0.289\n",
      "0.29074470397173524\n",
      "-0.28\n",
      "0.3907447039717352\n",
      "0.118\n",
      "-3.141592653589793\n",
      "-0.15\n",
      "-0.44977019304740895\n",
      "-0.266\n",
      "0.17075081551242716\n",
      "-0.288\n",
      "0.2715747471297608\n",
      "-0.287\n",
      "0.28467676664052044\n",
      "-0.287\n",
      "0.2900939500693756\n",
      "-0.288\n",
      "0.29067962858149926\n",
      "-0.288\n",
      "0.29073819643271165\n",
      "-0.288\n",
      "0.29074405321783287\n",
      "-0.287\n",
      "0.290744638896345\n",
      "-0.287\n",
      "0.29074469746419623\n",
      "done\n",
      "0.067\n",
      "1.5707963267948966\n",
      "0.061\n",
      "1.6707963267948966\n",
      "0.063\n",
      "1.6307963267948966\n",
      "0.056\n",
      "1.7307963267948967\n",
      "0.037\n",
      "1.9807963267948965\n",
      "0.032\n",
      "2.0807963267948963\n",
      "-0.021\n",
      "2.855796326794901\n",
      "-0.032\n",
      "2.9557963267949012\n",
      "-0.047\n",
      "3.1415926535897913\n",
      "-0.039\n",
      "3.0415926535897913\n"
     ]
    }
   ],
   "source": [
    "h.set_many_phases({\"BS1\":pi/2+0.3, #0.3\n",
    "    \"BS2\":pi/2+0.8, #-0.23\n",
    "    \"BS3\":pi/2+0.75, #0.75\n",
    "    \"WDM1\":pi,\n",
    "    \"WDM2\":pi,\n",
    "    \"WDM3\":pi,\n",
    "    \"WDM4\":pi,\n",
    "    \"Pre_RY1\":pi,\n",
    "    \"Pre_RY2\":pi,\n",
    "    \"Bell1\":pi,\n",
    "    \"Bell2\":pi,\n",
    "    \"Prj_RY1\":pi/2,\n",
    "    \"Prj_RY2\":pi,\n",
    "    \"Prj_RY3\":pi,\n",
    "    \"Prj_RY4\":pi,\n",
    "    \"Ctr_1\":0,\n",
    "    \"Ctr_2\":0})\n",
    "\n",
    "BS1_balance = sp.optimize.minimize(BalancePairs, pi/2, args = (\"BS1\"), bounds = [(-np.pi,np.pi)], method='SLSQP', options = {'eps':0.1})\n",
    "h.set_many_phases({\"BS1\":BS1_balance.x[0]})\n",
    "print(\"done\")\n",
    "Prj_RY2_balance = sp.optimize.minimize(BalancePairs, pi/2, args = (\"Prj_RY2\"), bounds = [(-np.pi,np.pi)], method='SLSQP', options = {'eps':0.1})\n",
    "h.set_many_phases({\"Prj_RY2\":Prj_RY2_balance.x[0]})\n",
    "print(\"done\")\n",
    "Prj_RY3_balance = sp.optimize.minimize(BalancePairs, pi/2, args = (\"Prj_RY3\"), bounds = [(-np.pi,np.pi)], method='SLSQP', options = {'eps':0.1})\n",
    "h.set_many_phases({\"Prj_RY3\":Prj_RY3_balance.x[0]})"
   ]
  },
  {
   "cell_type": "code",
   "execution_count": 124,
   "metadata": {},
   "outputs": [
    {
     "data": {
      "text/plain": [
       "[<matplotlib.lines.Line2D at 0x2a66ac0a850>]"
      ]
     },
     "execution_count": 124,
     "metadata": {},
     "output_type": "execute_result"
    },
    {
     "data": {
      "image/png": "[encoded data removed]",
      "text/plain": [
       "<Figure size 432x288 with 1 Axes>"
      ]
     },
     "metadata": {},
     "output_type": "display_data"
    }
   ],
   "source": [
    "h.set_many_phases({\"BS1\":pi/2+0.3, #0.3\n",
    "    \"BS2\":pi/2+0.8, #-0.23\n",
    "    \"BS3\":pi/2+0.75, #0.75\n",
    "    \"WDM1\":pi,\n",
    "    \"WDM2\":pi,\n",
    "    \"WDM3\":pi,\n",
    "    \"WDM4\":pi,\n",
    "    \"Pre_RY1\":pi,\n",
    "    \"Pre_RY2\":pi,\n",
    "    \"Bell1\":pi,\n",
    "    \"Bell2\":pi,\n",
    "    \"Prj_RY1\":pi/2,\n",
    "    \"Prj_RY2\":pi,\n",
    "    \"Prj_RY3\":pi,\n",
    "    \"Prj_RY4\":pi,\n",
    "    \"Ctr_1\":0,\n",
    "    \"Ctr_2\":0})\n",
    "phases = np.linspace(-pi, pi, 21)\n",
    "power = []\n",
    "name=\"BS1\"\n",
    "for i in phases:\n",
    "    h.set_many_phases({\"BS1\":i})\n",
    "    power.append(BalancePairs(i, name))\n",
    "    \n",
    "index = power.index(min(power))\n",
    "balanced_phase = phases[index]\n",
    "plt.plot(phases, power)"
   ]
  },
  {
   "cell_type": "code",
   "execution_count": 107,
   "metadata": {},
   "outputs": [
    {
     "name": "stdout",
     "output_type": "stream",
     "text": [
      "1.518839804968232\n",
      "-0.03978416125215213\n",
      "1.5707963245323329\n"
     ]
    }
   ],
   "source": [
    "print(BS1_balance.x[0])\n",
    "print(Prj_RY2_balance.x[0])\n",
    "print(Prj_RY3_balance.x[0])"
   ]
  },
  {
   "cell_type": "code",
   "execution_count": 125,
   "metadata": {},
   "outputs": [
    {
     "data": {
      "image/png": "[encoded data removed]",
      "text/plain": [
       "<Figure size 504x360 with 1 Axes>"
      ]
     },
     "metadata": {},
     "output_type": "display_data"
    }
   ],
   "source": [
    "LP.live_opt_pow(heaters = PM_all)"
   ]
  },
  {
   "cell_type": "code",
   "execution_count": null,
   "metadata": {},
   "outputs": [],
   "source": []
  }
 ],
 "metadata": {
  "kernelspec": {
   "display_name": "Python 3",
   "language": "python",
   "name": "python3"
  },
  "language_info": {
   "codemirror_mode": {
    "name": "ipython",
    "version": 3
   },
   "file_extension": ".py",
   "mimetype": "text/x-python",
   "name": "python",
   "nbconvert_exporter": "python",
   "pygments_lexer": "ipython3",
   "version": "3.8.3"
  }
 },
 "nbformat": 4,
 "nbformat_minor": 4
}
