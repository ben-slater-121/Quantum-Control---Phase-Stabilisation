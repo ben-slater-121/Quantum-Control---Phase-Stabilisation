{
 "cells": [
  {
   "cell_type": "code",
   "execution_count": 1,
   "metadata": {},
   "outputs": [],
   "source": [
    "%load_ext autoreload\n",
    "%autoreload 2\n",
    "%run -i \"prerequisites.py\""
   ]
  },
  {
   "cell_type": "code",
   "execution_count": 2,
   "metadata": {},
   "outputs": [],
   "source": [
    "# powermeter1 = Powermeter('PM100USB', serial='P2003916', unit='dBm', wavelength=1550) \n",
    "unit='W'\n",
    "wavelength=1550\n",
    "#Charlie powermeters 18/11/20:\n",
    "PMa = PM('PM100USB', serial='P2007347',unit=unit, wavelength = wavelength)\n",
    "PMb = PM('PM100USB', serial='P2010371',unit=unit, wavelength = wavelength) \n",
    "PMc = PM('PM100USB', serial='P2003683',unit=unit, wavelength = wavelength) \n",
    "PMd = PM('PM100USB', serial='P2008115',unit=unit, wavelength = wavelength)\n",
    "#Alice powermeters 18/11/20:\n",
    "PMe = PM('PM100USB', serial='P2005653',unit=unit, wavelength = wavelength)\n",
    "PMf = PM('PM100USB', serial='P2010372',unit=unit, wavelength = wavelength) \n",
    "PMg = PM('PM100USB', serial='P2008116',unit=unit, wavelength = wavelength) \n",
    "PMh = PM('PM100USB', serial='P2007346',unit=unit, wavelength = wavelength)"
   ]
  },
  {
   "cell_type": "code",
   "execution_count": 3,
   "metadata": {},
   "outputs": [
    {
     "name": "stdout",
     "output_type": "stream",
     "text": [
      "\n",
      "Connected to Tunics laser on serial port COM13\n",
      "\n"
     ]
    }
   ],
   "source": [
    "#laser initialisation and wavelengths\n",
    "serial_port_name = 'COM13'\n",
    "mytunics = tunics(serial_port_name = serial_port_name)\n",
    "\n",
    "p_wavelength = 1549.3\n",
    "i_wavelength = 1558.98\n",
    "s_wavelength = 1539.77"
   ]
  },
  {
   "cell_type": "code",
   "execution_count": 27,
   "metadata": {},
   "outputs": [],
   "source": [
    "mytunics.laser_switch('on')\n",
    "mytunics.laser_wavelength(p_wavelength)\n",
    "mytunics.laser_power(3)"
   ]
  },
  {
   "cell_type": "code",
   "execution_count": 6,
   "metadata": {},
   "outputs": [],
   "source": [
    "def SineSq(x,amp,freq,phi_0,y_off):\n",
    "    return amp*np.sin(freq*x+phi_0)**2+y_off\n",
    "\n",
    "def FringeFit(spacing, points):\n",
    "    phase=[]\n",
    "    PMePower=[]\n",
    "    x=np.linspace(0, 2*pi, 30)\n",
    "    for i in range(0,points):\n",
    "        phase.append(i*spacing)\n",
    "        h.set_phase('Phb1', i*spacing)\n",
    "        time.sleep(0.1)\n",
    "        PMePower.append(PMe.measure()*1000000)#times 1000000 bc curvefit doesn't work well with small numbers (micro watts)\n",
    "    initial_guess=[max(PMePower), 0.5, 0, min(PMePower)]\n",
    "    #print(max(PMePower))\n",
    "    param_bounds=([0, 0.3, -np.inf, 0], [2*max(PMePower), 0.8, np.inf, max(PMePower)]) # upper bound of amplitude could be given as related to the maximum power when not interfering?\n",
    "    params, pcov = optimize.curve_fit(SineSq, phase, PMePower, bounds = param_bounds, p0 = initial_guess)\n",
    "    #plt.scatter(phase, PMePower)\n",
    "    #plt.plot(x, SineSq(x, params[0], params[1], params[2], params[3]))\n",
    "    #plt.show()\n",
    "    #print(np.sqrt(np.diag(pcov)))\n",
    "    #time_for_fringe=time_fringe_finished-time_fringe_started\n",
    "    #np.savetxt(f'C:/Users/IT072488-admin/University of Bristol/grp-Multi 3 Chip Project - Multi_3_Chips/pycode_molly/Experimental code/Experimental data/PS Fringes/modes14_{time_fringe_finished}_fringe.csv', np.vstack((phase, PMePower)).T,delimiter=',', header='phase,powers uW,time since epoch')\n",
    "    #np.savetxt(f'C:/Users/IT072488-admin/University of Bristol/grp-Multi 3 Chip Project - Multi_3_Chips/pycode_molly/Experimental code/Experimental data/PS Fringes/modes14_{time_fringe_finished}_fringe_full_fit_params.csv', list(params),delimiter=',', header='amp  freq  phi_0  y_off')\n",
    "    return params\n",
    "\n",
    "def FringeFit_nolaser(spacing, points):\n",
    "    phase=[]\n",
    "    PMePower=[]\n",
    "    x=np.linspace(0, 2*pi, 30)\n",
    "    for i in range(0,points):\n",
    "        phase.append(i*spacing)\n",
    "        h.set_phase('Phb1', i*spacing)\n",
    "        time.sleep(0.1)\n",
    "        PMePower.append(PMe.measure()*1000000)#times 1000000 bc curvefit doesn't work well with small numbers (micro watts)\n",
    "    params = [1,1,1,1] #dummy params outputted bc fringe fit won't solve for these no laser power values\n",
    "    return params"
   ]
  },
  {
   "cell_type": "code",
   "execution_count": null,
   "metadata": {},
   "outputs": [],
   "source": [
    "phase=0\n",
    "withPS_time_array,PMe_array,PMf_array, PMg_array, PMh_array=[],[],[],[],[]\n",
    "noPSPMe_array,noPSPMf_array, noPSPMg_array, noPSPMh_array=[],[],[],[]\n",
    "start = time.time()\n",
    "for i in range(0, 10000):\n",
    "    h.set_many_phases({\"WDM1\":pi/2,\n",
    "        \"WDM2\":pi/2,\n",
    "        \"WDM3\":3*pi/2,\n",
    "        \"WDM4\":3*pi/2})\n",
    "    #Modes 1+2\n",
    "    h.set_phase('Pha1', 0)\n",
    "    \n",
    "    #print(\"***MODE 1***\")\n",
    "    \n",
    "    h.set_many_phases({\"BS1\":0,\n",
    "        \"BS2\":0,\n",
    "        \"Prj_RY1\":pi/2,\n",
    "        \"Prj_RZ1\":0})\n",
    "\n",
    "    h.set_many_phases({\"Atta1\":pi,\n",
    "        \"Atta2\":pi,\n",
    "        \"Atta3\":0,\n",
    "        \"Atta4\":0,\n",
    "        \"MZIa1\":pi/2,\n",
    "        \"MZIa2\":pi,\n",
    "        \"MZIa3\":pi,\n",
    "        \"MZIa4\":pi})\n",
    "    time.sleep(0.1)\n",
    "    \n",
    "    params=FringeFit(0.4, 6) #zero_phase_power = first point of the 5 power points taken i.e. when Phb1=0\n",
    "    h.set_phase('Pha2',-params[2]/params[1])\n",
    "    h.set_phase('Pha1', 0)\n",
    "    \n",
    "    #Modes 1+3\n",
    "\n",
    "    #print(\"***MODE 2***\")\n",
    "    h.set_many_phases({\"BS1\":pi/2,\n",
    "        \"BS2\":0,\n",
    "        \"BS3\":pi,\n",
    "        \"Prj_RY1\":pi,\n",
    "        \"Prj_RY4\":pi,\n",
    "        \"Prj_RZ4\":0,\n",
    "        \"Ctr_1\":pi})\n",
    "\n",
    "    h.set_many_phases({\"Atta2\":0,\n",
    "        \"Atta3\":pi,\n",
    "        \"MZIa1\":pi,\n",
    "        \"MZIa3\":pi/2,})\n",
    "    time.sleep(0.1)\n",
    "    params=FringeFit(0.4, 6)\n",
    "    h.set_phase('Pha3', -params[2]/params[1]-pi)\n",
    "    h.set_phase('Pha1', 0)\n",
    "    \n",
    "    \n",
    "    #Modes 1+4\n",
    "    #print(\"***MODE 3***\")\n",
    "    h.set_many_phases({\"BS3\":0,\n",
    "        \"Ctr_2\":pi})\n",
    "\n",
    "    h.set_many_phases({\"Atta4\":pi,\n",
    "        \"Atta3\":0,\n",
    "        \"MZIa2\":0,\n",
    "        \"MZIa3\":pi/2,})\n",
    "    time.sleep(0.1)\n",
    "    params=FringeFit(0.4, 6)\n",
    "    h.set_phase('Pha4', -params[2]/params[1])\n",
    "    h.set_phase('Pha1', 0)\n",
    "    \n",
    "    \n",
    "    h.set_many_phases({\"BS1\":pi/2,\n",
    "        \"BS2\":pi/2,\n",
    "        \"BS3\":pi/2,\n",
    "        \"Prj_RY1\":pi,\n",
    "        \"Prj_RY4\":pi,\n",
    "        \"Atta1\":pi,\n",
    "        \"Atta2\":pi,\n",
    "        \"Atta3\":pi,\n",
    "        \"MZIa1\":pi,\n",
    "        \"MZIa2\":pi,\n",
    "        \"MZIa3\":pi,\n",
    "        \"MZIa4\":pi})\n",
    "    time.sleep(0.1)\n",
    "    \n",
    "    withPS_time_array.append(time.time()-start)\n",
    "    PMe_array.append(PMe.measure())\n",
    "    PMg_array.append(PMg.measure())\n",
    "    PMf_array.append(PMf.measure())\n",
    "    PMh_array.append(PMh.measure())\n",
    "    \n",
    "\n",
    "\n",
    "    #time.sleep(0.5)\n",
    "\n",
    "runtime_4modes = time.time() - start\n",
    "\n",
    "#saving_array = np.vstack((time_array, PMe_array, PMg_array)).T\n",
    "saving_array = np.vstack((withPS_time_array,PMe_array,PMf_array, PMg_array, PMh_array)).T\n",
    "#saving_array = np.vstack((withPS_time_array,PMe_array,PMf_array, PMg_array, PMh_array,noPSPMe_array,noPSPMf_array, noPSPMg_array, noPSPMh_array)).T\n",
    "np.savetxt(f'C:/Users/mb16805/University of Bristol/grp-Multi 3 Chip Project - Documents/Multi_3_Chips/pycode_molly/Experimental code/Experimental data/Molly testing phase stab 250221/all_mode_PS_{int(time.time())}_point4_10points.csv', saving_array,delimiter=',', header='#time,without PS output_1, without PS output_2, time, with PS output_1, with PS output_2, 0.1 sleep pi/5 separation 10 points')\n",
    "print(runtime_4modes/10000)\n",
    "mytunics.laser_switch('off')"
   ]
  },
  {
   "cell_type": "code",
   "execution_count": 7,
   "metadata": {},
   "outputs": [
    {
     "name": "stdout",
     "output_type": "stream",
     "text": [
      "-2.895562057495117\n"
     ]
    }
   ],
   "source": [
    "print(runtime_4modes/100)"
   ]
  },
  {
   "cell_type": "code",
   "execution_count": 26,
   "metadata": {},
   "outputs": [],
   "source": [
    "mytunics.laser_switch('off')"
   ]
  },
  {
   "cell_type": "code",
   "execution_count": null,
   "metadata": {},
   "outputs": [],
   "source": []
  }
 ],
 "metadata": {
  "kernelspec": {
   "display_name": "Python 3",
   "language": "python",
   "name": "python3"
  },
  "language_info": {
   "codemirror_mode": {
    "name": "ipython",
    "version": 3
   },
   "file_extension": ".py",
   "mimetype": "text/x-python",
   "name": "python",
   "nbconvert_exporter": "python",
   "pygments_lexer": "ipython3",
   "version": "3.8.3"
  }
 },
 "nbformat": 4,
 "nbformat_minor": 4
}
