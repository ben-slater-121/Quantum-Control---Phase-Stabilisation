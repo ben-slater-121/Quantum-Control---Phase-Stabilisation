{
 "cells": [
  {
   "cell_type": "code",
   "execution_count": 1,
   "metadata": {},
   "outputs": [],
   "source": [
    "%load_ext autoreload\n",
    "%autoreload 2"
   ]
  },
  {
   "cell_type": "code",
   "execution_count": 2,
   "metadata": {},
   "outputs": [],
   "source": [
    "import numpy as np \n",
    "import matplotlib.pyplot as plt\n",
    "import time\n",
    "import ZeroLevel_Qontrol as q0\n",
    "import FirstLevel_Qontrol as q1\n",
    "import SecondLevel_Qontrol as q2\n",
    "from powermeter import Powermeter as PM\n",
    "import heater_dict as hd\n",
    "import heater_characterisation_funcs as hcf\n",
    "from tunicsqontrol import tunics\n",
    "from scipy import optimize\n",
    "\n",
    "pi=np.pi"
   ]
  },
  {
   "cell_type": "code",
   "execution_count": 3,
   "metadata": {},
   "outputs": [],
   "source": [
    "# powermeter1 = Powermeter('PM100USB', serial='P2003916', unit='dBm', wavelength=1550) \n",
    "unit='dBm'\n",
    "wavelength=1550\n",
    "#Alice (tele) powermeters 10/03/20:\n",
    "PMa = PM('PM100USB', serial='P2008115')\n",
    "PMb = PM('PM100USB', serial='P2010371') \n",
    "PMc = PM('PM100USB', serial='P2003683') \n",
    "PMd = PM('PM100USB', serial='P2007347')\n",
    "#Charlie powermeters 10/03/20:\n",
    "PMe = PM('PM100USB', serial='P2005653')\n",
    "PMf = PM('PM100USB', serial='P2010372') \n",
    "PMg = PM('PM100USB', serial='P2008116') \n",
    "PMh = PM('PM100USB', serial='P2007346')"
   ]
  },
  {
   "cell_type": "code",
   "execution_count": 4,
   "metadata": {},
   "outputs": [
    {
     "ename": "SerialException",
     "evalue": "could not open port 'COM11': PermissionError(13, 'Access is denied.', None, 5)",
     "output_type": "error",
     "traceback": [
      "\u001b[1;31m---------------------------------------------------------------------------\u001b[0m",
      "\u001b[1;31mSerialException\u001b[0m                           Traceback (most recent call last)",
      "\u001b[1;32m<ipython-input-4-0494a51c8063>\u001b[0m in \u001b[0;36m<module>\u001b[1;34m\u001b[0m\n\u001b[0;32m      1\u001b[0m \u001b[1;31m#laser initialisation and wavelengths\u001b[0m\u001b[1;33m\u001b[0m\u001b[1;33m\u001b[0m\u001b[1;33m\u001b[0m\u001b[0m\n\u001b[0;32m      2\u001b[0m \u001b[0mserial_port_name\u001b[0m \u001b[1;33m=\u001b[0m \u001b[1;34m'COM11'\u001b[0m\u001b[1;33m\u001b[0m\u001b[1;33m\u001b[0m\u001b[0m\n\u001b[1;32m----> 3\u001b[1;33m \u001b[0mmytunics\u001b[0m \u001b[1;33m=\u001b[0m \u001b[0mtunics\u001b[0m\u001b[1;33m(\u001b[0m\u001b[0mserial_port_name\u001b[0m \u001b[1;33m=\u001b[0m \u001b[0mserial_port_name\u001b[0m\u001b[1;33m)\u001b[0m\u001b[1;33m\u001b[0m\u001b[1;33m\u001b[0m\u001b[0m\n\u001b[0m\u001b[0;32m      4\u001b[0m \u001b[1;33m\u001b[0m\u001b[0m\n\u001b[0;32m      5\u001b[0m \u001b[0mp_wavelength\u001b[0m \u001b[1;33m=\u001b[0m \u001b[1;36m1549.3\u001b[0m\u001b[1;33m\u001b[0m\u001b[1;33m\u001b[0m\u001b[0m\n",
      "\u001b[1;32m~\\University of Bristol\\grp-Multi 3 Chip Project - Multi_3_Chips\\pycode_molly\\Experimental code\\tunicsqontrol.py\u001b[0m in \u001b[0;36m__init__\u001b[1;34m(self, *args, **kwargs)\u001b[0m\n\u001b[0;32m     44\u001b[0m                 \u001b[1;32mif\u001b[0m \u001b[1;34m'serial_port_name'\u001b[0m \u001b[1;32min\u001b[0m \u001b[0mkwargs\u001b[0m\u001b[1;33m:\u001b[0m\u001b[1;33m\u001b[0m\u001b[1;33m\u001b[0m\u001b[0m\n\u001b[0;32m     45\u001b[0m \u001b[1;33m\u001b[0m\u001b[0m\n\u001b[1;32m---> 46\u001b[1;33m                         \u001b[0mself\u001b[0m\u001b[1;33m.\u001b[0m\u001b[0mserial_port\u001b[0m \u001b[1;33m=\u001b[0m \u001b[0mserial\u001b[0m\u001b[1;33m.\u001b[0m\u001b[0mSerial\u001b[0m\u001b[1;33m(\u001b[0m\u001b[0mself\u001b[0m\u001b[1;33m.\u001b[0m\u001b[0mserial_port_name\u001b[0m\u001b[1;33m,\u001b[0m \u001b[0mself\u001b[0m\u001b[1;33m.\u001b[0m\u001b[0mbaudrate\u001b[0m\u001b[1;33m,\u001b[0m \u001b[0mtimeout\u001b[0m\u001b[1;33m=\u001b[0m\u001b[0mself\u001b[0m\u001b[1;33m.\u001b[0m\u001b[0mresponse_timeout\u001b[0m\u001b[1;33m)\u001b[0m\u001b[1;33m\u001b[0m\u001b[1;33m\u001b[0m\u001b[0m\n\u001b[0m\u001b[0;32m     47\u001b[0m                         \u001b[1;31m# self.serial_port = Serial(self.serial_port_name, self.baudrate, timeout=self.response_timeout)\u001b[0m\u001b[1;33m\u001b[0m\u001b[1;33m\u001b[0m\u001b[1;33m\u001b[0m\u001b[0m\n\u001b[0;32m     48\u001b[0m                 \u001b[1;32melse\u001b[0m\u001b[1;33m:\u001b[0m\u001b[1;33m\u001b[0m\u001b[1;33m\u001b[0m\u001b[0m\n",
      "\u001b[1;32m~\\Anaconda3\\lib\\site-packages\\serial\\serialwin32.py\u001b[0m in \u001b[0;36m__init__\u001b[1;34m(self, *args, **kwargs)\u001b[0m\n\u001b[0;32m     29\u001b[0m         \u001b[0mself\u001b[0m\u001b[1;33m.\u001b[0m\u001b[0m_overlapped_read\u001b[0m \u001b[1;33m=\u001b[0m \u001b[1;32mNone\u001b[0m\u001b[1;33m\u001b[0m\u001b[1;33m\u001b[0m\u001b[0m\n\u001b[0;32m     30\u001b[0m         \u001b[0mself\u001b[0m\u001b[1;33m.\u001b[0m\u001b[0m_overlapped_write\u001b[0m \u001b[1;33m=\u001b[0m \u001b[1;32mNone\u001b[0m\u001b[1;33m\u001b[0m\u001b[1;33m\u001b[0m\u001b[0m\n\u001b[1;32m---> 31\u001b[1;33m         \u001b[0msuper\u001b[0m\u001b[1;33m(\u001b[0m\u001b[0mSerial\u001b[0m\u001b[1;33m,\u001b[0m \u001b[0mself\u001b[0m\u001b[1;33m)\u001b[0m\u001b[1;33m.\u001b[0m\u001b[0m__init__\u001b[0m\u001b[1;33m(\u001b[0m\u001b[1;33m*\u001b[0m\u001b[0margs\u001b[0m\u001b[1;33m,\u001b[0m \u001b[1;33m**\u001b[0m\u001b[0mkwargs\u001b[0m\u001b[1;33m)\u001b[0m\u001b[1;33m\u001b[0m\u001b[1;33m\u001b[0m\u001b[0m\n\u001b[0m\u001b[0;32m     32\u001b[0m \u001b[1;33m\u001b[0m\u001b[0m\n\u001b[0;32m     33\u001b[0m     \u001b[1;32mdef\u001b[0m \u001b[0mopen\u001b[0m\u001b[1;33m(\u001b[0m\u001b[0mself\u001b[0m\u001b[1;33m)\u001b[0m\u001b[1;33m:\u001b[0m\u001b[1;33m\u001b[0m\u001b[1;33m\u001b[0m\u001b[0m\n",
      "\u001b[1;32m~\\Anaconda3\\lib\\site-packages\\serial\\serialutil.py\u001b[0m in \u001b[0;36m__init__\u001b[1;34m(self, port, baudrate, bytesize, parity, stopbits, timeout, xonxoff, rtscts, write_timeout, dsrdtr, inter_byte_timeout, exclusive, **kwargs)\u001b[0m\n\u001b[0;32m    238\u001b[0m \u001b[1;33m\u001b[0m\u001b[0m\n\u001b[0;32m    239\u001b[0m         \u001b[1;32mif\u001b[0m \u001b[0mport\u001b[0m \u001b[1;32mis\u001b[0m \u001b[1;32mnot\u001b[0m \u001b[1;32mNone\u001b[0m\u001b[1;33m:\u001b[0m\u001b[1;33m\u001b[0m\u001b[1;33m\u001b[0m\u001b[0m\n\u001b[1;32m--> 240\u001b[1;33m             \u001b[0mself\u001b[0m\u001b[1;33m.\u001b[0m\u001b[0mopen\u001b[0m\u001b[1;33m(\u001b[0m\u001b[1;33m)\u001b[0m\u001b[1;33m\u001b[0m\u001b[1;33m\u001b[0m\u001b[0m\n\u001b[0m\u001b[0;32m    241\u001b[0m \u001b[1;33m\u001b[0m\u001b[0m\n\u001b[0;32m    242\u001b[0m     \u001b[1;31m#  -  -  -  -  -  -  -  -  -  -  -  -  -  -  -  -  -  -  -  -  -  -  -  -\u001b[0m\u001b[1;33m\u001b[0m\u001b[1;33m\u001b[0m\u001b[1;33m\u001b[0m\u001b[0m\n",
      "\u001b[1;32m~\\Anaconda3\\lib\\site-packages\\serial\\serialwin32.py\u001b[0m in \u001b[0;36mopen\u001b[1;34m(self)\u001b[0m\n\u001b[0;32m     60\u001b[0m         \u001b[1;32mif\u001b[0m \u001b[0mself\u001b[0m\u001b[1;33m.\u001b[0m\u001b[0m_port_handle\u001b[0m \u001b[1;33m==\u001b[0m \u001b[0mwin32\u001b[0m\u001b[1;33m.\u001b[0m\u001b[0mINVALID_HANDLE_VALUE\u001b[0m\u001b[1;33m:\u001b[0m\u001b[1;33m\u001b[0m\u001b[1;33m\u001b[0m\u001b[0m\n\u001b[0;32m     61\u001b[0m             \u001b[0mself\u001b[0m\u001b[1;33m.\u001b[0m\u001b[0m_port_handle\u001b[0m \u001b[1;33m=\u001b[0m \u001b[1;32mNone\u001b[0m    \u001b[1;31m# 'cause __del__ is called anyway\u001b[0m\u001b[1;33m\u001b[0m\u001b[1;33m\u001b[0m\u001b[0m\n\u001b[1;32m---> 62\u001b[1;33m             \u001b[1;32mraise\u001b[0m \u001b[0mSerialException\u001b[0m\u001b[1;33m(\u001b[0m\u001b[1;34m\"could not open port {!r}: {!r}\"\u001b[0m\u001b[1;33m.\u001b[0m\u001b[0mformat\u001b[0m\u001b[1;33m(\u001b[0m\u001b[0mself\u001b[0m\u001b[1;33m.\u001b[0m\u001b[0mportstr\u001b[0m\u001b[1;33m,\u001b[0m \u001b[0mctypes\u001b[0m\u001b[1;33m.\u001b[0m\u001b[0mWinError\u001b[0m\u001b[1;33m(\u001b[0m\u001b[1;33m)\u001b[0m\u001b[1;33m)\u001b[0m\u001b[1;33m)\u001b[0m\u001b[1;33m\u001b[0m\u001b[1;33m\u001b[0m\u001b[0m\n\u001b[0m\u001b[0;32m     63\u001b[0m \u001b[1;33m\u001b[0m\u001b[0m\n\u001b[0;32m     64\u001b[0m         \u001b[1;32mtry\u001b[0m\u001b[1;33m:\u001b[0m\u001b[1;33m\u001b[0m\u001b[1;33m\u001b[0m\u001b[0m\n",
      "\u001b[1;31mSerialException\u001b[0m: could not open port 'COM11': PermissionError(13, 'Access is denied.', None, 5)"
     ]
    }
   ],
   "source": [
    "#laser initialisation and wavelengths\n",
    "serial_port_name = 'COM11'\n",
    "mytunics = tunics(serial_port_name = serial_port_name)\n",
    "                  \n",
    "p_wavelength = 1549.3\n",
    "i_wavelength = 1558.98\n",
    "s_wavelength = 1539.77"
   ]
  },
  {
   "cell_type": "code",
   "execution_count": null,
   "metadata": {},
   "outputs": [],
   "source": [
    "h=q2.heater_class(hd.board_list,hd.heaters)"
   ]
  },
  {
   "cell_type": "code",
   "execution_count": 6,
   "metadata": {},
   "outputs": [],
   "source": [
    "def SineSq(x,amp,freq,x_off,y_off):\n",
    "    return amp*np.sin(freq*x+x_off)**2+y_off\n",
    "\n",
    "def FringeFit():\n",
    "    powers=[]\n",
    "    for i in range(0,6):\n",
    "        powers.append([PMe.measure(),PMg.measure()])\n",
    "    return powers"
   ]
  },
  {
   "cell_type": "code",
   "execution_count": 20,
   "metadata": {},
   "outputs": [],
   "source": [
    "powers=FringeFit()"
   ]
  },
  {
   "cell_type": "code",
   "execution_count": 7,
   "metadata": {},
   "outputs": [],
   "source": [
    "mytunics.laser_switch('on')\n",
    "mytunics.laser_wavelength(s_wavelength)\n",
    "mytunics.laser_power(0)"
   ]
  },
  {
   "cell_type": "code",
   "execution_count": 11,
   "metadata": {},
   "outputs": [],
   "source": [
    "#to mode 1 + 4\n",
    "h.set_many_phases({'BS1':pi/2+0.25, 'BS2':0, 'BS3':0, 'WDM1':pi, 'WDM2':0, 'WDM4':pi, 'WDM3':0, 'Prj_RY1':pi+0.23, 'Prj_RY4':pi-0.02, 'Ctr_1':pi, 'Ctr_2':pi, 'Attb1':pi/2-0.25, 'Attb2':pi, 'Attb3':pi, 'Attb4':pi, 'MZIb1':pi, 'MZIb2':0, 'MZIb3':pi/2, 'MZIb4':pi, 'Phb1':0})"
   ]
  },
  {
   "cell_type": "code",
   "execution_count": 12,
   "metadata": {},
   "outputs": [],
   "source": [
    "#how long to set heaters\n",
    "time.sleep(1)\n",
    "power_over_time = []\n",
    "h.set_phase('Phb1',pi/4)\n",
    "for i in range(0,400):\n",
    "    power_over_time.append([time.time(), PMe.measure()])"
   ]
  },
  {
   "cell_type": "code",
   "execution_count": 13,
   "metadata": {},
   "outputs": [
    {
     "data": {
      "text/plain": [
       "[<matplotlib.lines.Line2D at 0x19c3aff92c8>]"
      ]
     },
     "execution_count": 13,
     "metadata": {},
     "output_type": "execute_result"
    },
    {
     "data": {
      "image/png": "[encoded data removed]",
      "text/plain": [
       "<Figure size 432x288 with 1 Axes>"
      ]
     },
     "metadata": {},
     "output_type": "display_data"
    }
   ],
   "source": [
    "plt.plot(np.array(power_over_time).T[0], np.array(power_over_time).T[1])"
   ]
  },
  {
   "cell_type": "code",
   "execution_count": 51,
   "metadata": {},
   "outputs": [],
   "source": [
    "saving_array=(list(np.array(power_over_time).T[0]),list(np.array(power_over_time).T[1]))\n",
    "np.savetxt(f'C:/Users/IT072488-admin/University of Bristol/grp-Multi 3 Chip Project - Multi_3_Chips/pycode_molly/Experimental code/Experimental data/time_to_set_Prj_RY4.csv', saving_array, delimiter=',', header='#time,powers')"
   ]
  },
  {
   "cell_type": "code",
   "execution_count": null,
   "metadata": {},
   "outputs": [],
   "source": [
    "print((list(np.array(power_over_time).T[0]),list(np.array(power_over_time).T[1])))"
   ]
  },
  {
   "cell_type": "code",
   "execution_count": 31,
   "metadata": {},
   "outputs": [],
   "source": [
    "h.set_many_phases({'BS1':pi, 'BS2':0, 'WDM1':pi, 'WDM2':0, 'Prj_RY1':pi/2+0.23})"
   ]
  },
  {
   "cell_type": "code",
   "execution_count": 32,
   "metadata": {},
   "outputs": [
    {
     "name": "stdout",
     "output_type": "stream",
     "text": [
      "-13.868963851301281 -13.807274012192114\n"
     ]
    }
   ],
   "source": [
    "print(PMd.measure(),PMa.measure())"
   ]
  },
  {
   "cell_type": "code",
   "execution_count": 62,
   "metadata": {},
   "outputs": [],
   "source": [
    "h.set_many_phases({'BS1':pi/2+0.25, 'BS3':0, 'WDM4':pi, 'WDM3':0, 'Prj_RY4':pi/2-0.02, 'Ctr_1':pi, 'Ctr_2':pi})"
   ]
  },
  {
   "cell_type": "code",
   "execution_count": 63,
   "metadata": {},
   "outputs": [
    {
     "name": "stdout",
     "output_type": "stream",
     "text": [
      "-17.8377532805075 -17.85343201019989\n"
     ]
    }
   ],
   "source": [
    "print(PMd.measure(),PMa.measure())"
   ]
  },
  {
   "cell_type": "markdown",
   "metadata": {},
   "source": [
    "To balance powers on Alice 'BS1' : pi/2 + 0.25, 'Prj_RY4' : pi/2 - 0.02, 'Prj_RY1' : pi/2+0.23"
   ]
  },
  {
   "cell_type": "code",
   "execution_count": 43,
   "metadata": {},
   "outputs": [],
   "source": [
    "h.set_many_phases({'BS1':pi/2+0.25, 'BS2':0, 'BS3':0, 'WDM1':pi, 'WDM2':0, 'WDM4':pi, 'WDM3':0, 'Prj_RY1':pi/2+0.23, 'Prj_RY4':pi/2-0.02, 'Ctr_1':pi, 'Ctr_2':pi, 'Attb1':pi/2-0.25, 'Attb2':pi, 'Attb3':pi, 'Attb4':pi, 'MZIb1':pi, 'MZIb2':pi, 'MZIb3':pi, 'MZIb4':pi})"
   ]
  },
  {
   "cell_type": "code",
   "execution_count": 82,
   "metadata": {},
   "outputs": [],
   "source": [
    "h.set_many_phases({'Attb1':pi, 'Attb2':pi, 'Attb3':pi/2, 'Attb4':pi, 'MZIb1':pi, 'MZIb2':pi, 'MZIb3':pi, 'MZIb4':pi})"
   ]
  },
  {
   "cell_type": "code",
   "execution_count": 83,
   "metadata": {},
   "outputs": [
    {
     "name": "stdout",
     "output_type": "stream",
     "text": [
      "2.57838373e-08 2.5852307e-08 4.33850378e-09 -3.50953034e-12\n"
     ]
    }
   ],
   "source": [
    "print(PMe.measure(),PMf.measure(),PMg.measure(),PMh.measure())"
   ]
  },
  {
   "cell_type": "markdown",
   "metadata": {},
   "source": [
    "## Two mode phase stabilisation"
   ]
  },
  {
   "cell_type": "code",
   "execution_count": 6,
   "metadata": {},
   "outputs": [],
   "source": [
    "mytunics.laser_switch('on')\n",
    "mytunics.laser_wavelength(s_wavelength)\n",
    "mytunics.laser_power(0)"
   ]
  },
  {
   "cell_type": "code",
   "execution_count": 23,
   "metadata": {},
   "outputs": [],
   "source": [
    "def SineSq(x,amp,freq,x_off,y_off):\n",
    "    return amp*np.sin(freq*x+x_off)**2+y_off\n",
    "\n",
    "def FringeFit():\n",
    "    phase=[]\n",
    "    powersE=[]\n",
    "    powersF=[]\n",
    "    x=np.linspace(0, 2*pi, 30)\n",
    "    for i in range(0,10):#taking 10 points but will fit to 5 (for testing to compare wider range of real points to the fitted smaller samples)\n",
    "        h.set_phase('Phb1', pi/4*i)\n",
    "        time.sleep(0.2)\n",
    "        powersE.append(PMe.measure())\n",
    "        #powersF.append(PMf.measure())\n",
    "        phase.append(pi/4*i)\n",
    "    \n",
    "    sampling_powers=powersE[0:5]\n",
    "    \n",
    "    initial_guess=[(max(sampling_powers)-min(sampling_powers)), 0.5, 0, min(sampling_powers)]\n",
    "    param_bounds=([0, 0, -pi, 0], [2*max(sampling_powers), 1, pi, max(sampling_powers)])\n",
    "    \n",
    "    paramsE, pcovE = optimize.curve_fit(SineSq, phase[0:5], sampling_powers, bounds=param_bounds, p0=initial_guess)#bounds=param_bounds , p0=initial_guess\n",
    "    #paramsF, pcovF = optimize.curve_fit(SineSq, phase, powersF, p0=initial_guess)\n",
    "    plt.scatter(phase[0:5], powersE[0:5])\n",
    "    plt.scatter(phase[5:10], powersE[5:10])\n",
    "    plt.plot(x, SineSq(x, paramsE[0], paramsE[1], paramsE[2], paramsE[3]))\n",
    "    #plt.plot(x, SineSq(x, paramsF[0], paramsF[1], paramsF[2], paramsF[3]))\n",
    "    plt.ylim(0,2*max(sampling_powers))\n",
    "    plt.show()\n",
    "    print(paramsE)\n",
    "    print(initial_guess)\n",
    "    #print(paramsF)\n",
    "    return initial_guess, phase, powersE, paramsE"
   ]
  },
  {
   "cell_type": "markdown",
   "metadata": {},
   "source": [
    "### Modes 1 + 4"
   ]
  },
  {
   "cell_type": "code",
   "execution_count": 24,
   "metadata": {},
   "outputs": [
    {
     "data": {
      "image/png": "[encoded data removed]",
      "text/plain": [
       "<Figure size 432x288 with 1 Axes>"
      ]
     },
     "metadata": {},
     "output_type": "display_data"
    },
    {
     "name": "stdout",
     "output_type": "stream",
     "text": [
      "[6.73139595e-05 3.63140129e-01 1.89900919e-01 2.51126283e-06]\n"
     ]
    }
   ],
   "source": [
    "h.set_many_phases({'BS1':pi/2+0.25, 'BS2':0, 'BS3':0, 'WDM1':pi, 'WDM2':0, 'WDM4':pi, 'WDM3':0, 'Prj_RY1':pi+0.23, 'Prj_RY4':pi-0.02, 'Ctr_1':pi, 'Ctr_2':pi, 'Attb1':pi/2-0.25, 'Attb2':pi, 'Attb3':pi, 'Attb4':pi, 'MZIb1':pi, 'MZIb2':0, 'MZIb3':pi/2, 'MZIb4':pi, 'Phb1':0})\n",
    "time.sleep(0.2)\n",
    "\n",
    "#DOESN'T FIT SENSIBLY WITH BOUNDS AND PARAMS BUT NEED BOUNDS SO IS POSITIVE\n",
    "\n",
    "initial_guess, phase, powersE, paramsE=FringeFit()"
   ]
  },
  {
   "cell_type": "code",
   "execution_count": 18,
   "metadata": {},
   "outputs": [
    {
     "name": "stdout",
     "output_type": "stream",
     "text": [
      "0.00016149948032999998\n"
     ]
    }
   ],
   "source": [
    "print (max(powersE)-min(powersE))"
   ]
  },
  {
   "cell_type": "code",
   "execution_count": 46,
   "metadata": {},
   "outputs": [
    {
     "name": "stdout",
     "output_type": "stream",
     "text": [
      "[1.8457065199999997e-05, 4.6466053199999995e-06]\n"
     ]
    }
   ],
   "source": [
    "print(list(powersE)[3:5])"
   ]
  },
  {
   "cell_type": "markdown",
   "metadata": {},
   "source": [
    "## Modes 1+2"
   ]
  },
  {
   "cell_type": "code",
   "execution_count": null,
   "metadata": {},
   "outputs": [],
   "source": [
    "h.set_many_phases({'BS1':pi/2+0.25, 'BS2':0, 'BS3':0, 'WDM1':pi, 'WDM2':0, 'WDM4':pi, 'WDM3':0, 'Prj_RY1':pi/2+0.23, 'Prj_RY4':pi/2-0.02, 'Ctr_1':pi, 'Ctr_2':pi, 'Attb1':pi/2-0.25, 'Attb2':pi, 'Attb3':pi, 'Attb4':pi, 'MZIb1':pi, 'MZIb2':0, 'MZIb3':pi/2, 'MZIb4':pi})\n",
    "time.sleep(1)\n",
    "\n",
    "phase, powersE, paramsE=FringeFit()"
   ]
  }
 ],
 "metadata": {
  "kernelspec": {
   "display_name": "Python 3",
   "language": "python",
   "name": "python3"
  },
  "language_info": {
   "codemirror_mode": {
    "name": "ipython",
    "version": 3
   },
   "file_extension": ".py",
   "mimetype": "text/x-python",
   "name": "python",
   "nbconvert_exporter": "python",
   "pygments_lexer": "ipython3",
   "version": "3.7.4"
  }
 },
 "nbformat": 4,
 "nbformat_minor": 4
}
