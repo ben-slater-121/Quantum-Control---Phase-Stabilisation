{
 "cells": [
  {
   "cell_type": "markdown",
   "metadata": {},
   "source": [
    "# Prerequisites"
   ]
  },
  {
   "cell_type": "code",
   "execution_count": null,
   "metadata": {},
   "outputs": [],
   "source": [
    "%load_ext autoreload\n",
    "%autoreload 2"
   ]
  },
  {
   "cell_type": "code",
   "execution_count": null,
   "metadata": {},
   "outputs": [],
   "source": [
    "%run -i \"prerequisites.py\"\n",
    "from scipy import optimize"
   ]
  },
  {
   "cell_type": "markdown",
   "metadata": {},
   "source": [
    "## Powermeters"
   ]
  },
  {
   "cell_type": "code",
   "execution_count": null,
   "metadata": {},
   "outputs": [],
   "source": [
    "# powermeter1 = Powermeter('PM100USB', serial='P2003916', unit='dBm', wavelength=1550) \n",
    "unit='W'\n",
    "wavelength=1550\n",
    "#Charlie powermeters 18/11/20:\n",
    "PMa = PM('PM100USB', serial='P2007347',unit=unit, wavelength = wavelength)\n",
    "PMb = PM('PM100USB', serial='P2010371',unit=unit, wavelength = wavelength) \n",
    "PMc = PM('PM100USB', serial='P2003683',unit=unit, wavelength = wavelength) \n",
    "PMd = PM('PM100USB', serial='P2008115',unit=unit, wavelength = wavelength)\n",
    "#Alice powermeters 18/11/20:\n",
    "PMe = PM('PM100USB', serial='P2005653',unit=unit, wavelength = wavelength)\n",
    "PMf = PM('PM100USB', serial='P2010372',unit=unit, wavelength = wavelength) \n",
    "PMg = PM('PM100USB', serial='P2008116',unit=unit, wavelength = wavelength) \n",
    "PMh = PM('PM100USB', serial='P2007346',unit=unit, wavelength = wavelength)"
   ]
  },
  {
   "cell_type": "markdown",
   "metadata": {},
   "source": [
    "## Laser"
   ]
  },
  {
   "cell_type": "code",
   "execution_count": null,
   "metadata": {},
   "outputs": [],
   "source": [
    "#laser initialisation and wavelengths\n",
    "serial_port_name = 'COM12'\n",
    "mytunics = tunics(serial_port_name = serial_port_name)\n",
    "\n",
    "p_wavelength = 1549.3\n",
    "i_wavelength = 1558.98\n",
    "s_wavelength = 1539.77"
   ]
  },
  {
   "cell_type": "markdown",
   "metadata": {},
   "source": [
    "### Laser control"
   ]
  },
  {
   "cell_type": "code",
   "execution_count": null,
   "metadata": {},
   "outputs": [],
   "source": [
    "mytunics.laser_wavelength(p_wavelength)\n",
    "mytunics.laser_switch('on') \n",
    "mytunics.laser_power(8) "
   ]
  },
  {
   "cell_type": "markdown",
   "metadata": {},
   "source": [
    "### Laser off"
   ]
  },
  {
   "cell_type": "code",
   "execution_count": null,
   "metadata": {},
   "outputs": [],
   "source": [
    "mytunics.laser_switch('off')"
   ]
  },
  {
   "cell_type": "markdown",
   "metadata": {},
   "source": [
    "# Phase stabilisation functions Charlie"
   ]
  },
  {
   "cell_type": "code",
   "execution_count": null,
   "metadata": {},
   "outputs": [],
   "source": [
    "def SineSq(x,amp,freq,phi_0,y_off):\n",
    "    return amp*np.sin(freq*x+phi_0)**2+y_off\n",
    "\n",
    "def FringeFit(phase):\n",
    "    Mode1Power=[]\n",
    "    #x=np.linspace(0, 2*pi, 30)\n",
    "    #time_fringe_started=time.time()\n",
    "    for i in range(0,5):\n",
    "        #phase.append(i*spacing)\n",
    "        h.set_phase('Phb1', phase[i])\n",
    "        time.sleep(0.15)\n",
    "        Mode1Power.append(PMa.measure()*1000000)#times 1000000 bc curvefit doesn't work well with small numbers (micro watts)\n",
    "    #time with and without starting parameters, does it make it faster? what about limits?\n",
    "    #time_fringe_finished=int(time.time())\n",
    "    initial_guess=[max(Mode1Power), 0.5, 0, min(Mode1Power)]\n",
    "    #print(max(Mode1Power))\n",
    "    param_bounds=([0, 0.3, -np.inf, 0], [3*max(Mode1Power), 0.8, np.inf, max(Mode1Power)]) # upper bound of amplitude could be given as related to the maximum power when not interfering?\n",
    "    params, pcov = optimize.curve_fit(SineSq, phase, Mode1Power, bounds = param_bounds, p0 = initial_guess)\n",
    "    err=np.sqrt(np.diag(pcov))\n",
    "    return params, err"
   ]
  },
  {
   "cell_type": "markdown",
   "metadata": {},
   "source": [
    "## Phase drift with phase stabilisation"
   ]
  },
  {
   "cell_type": "code",
   "execution_count": null,
   "metadata": {},
   "outputs": [],
   "source": [
    "mytunics.laser_switch('on')\n",
    "mytunics.laser_wavelength(p_wavelength)\n",
    "mytunics.laser_power(5)"
   ]
  },
  {
   "cell_type": "code",
   "execution_count": null,
   "metadata": {},
   "outputs": [],
   "source": [
    "h.set_many_phases({'Phb1':0, 'Phb2':0, 'BS1':0, 'BS2':0, 'WDM1':pi, 'Prj_RY1':pi/2+0.23, 'Attb1':pi, 'Attb2':pi, 'MZIb1':pi/2, 'MZIb2':pi, 'MZIb3':pi, 'MZIb4':pi})"
   ]
  },
  {
   "cell_type": "code",
   "execution_count": null,
   "metadata": {},
   "outputs": [],
   "source": [
    "h.set_many_phases({'Phb1':0, 'Phb2':0, 'BS1':0, 'BS2':0, 'WDM1':pi, 'Prj_RY1':pi/2+0.23, 'Attb1':pi, 'Attb2':pi, 'MZIb1':pi/2, 'MZIb2':pi, 'MZIb3':pi, 'MZIb4':pi})\n",
    "#h.set_many_phases({'BS1':pi/2+0.25, 'BS2':0, 'BS3':0, 'WDM1':pi, 'WDM2':0, 'WDM4':pi, 'WDM3':0, 'Prj_RY1':pi+0.23, 'Prj_RY4':pi-0.02, 'Ctr_2':pi, 'Attb1':pi/2-0.25, 'Attb4':pi, 'MZIb1':pi, 'MZIb2':0, 'MZIb3':3*pi/2, 'MZIb4':pi})\n",
    "withPS_time_array, withoutPS_time_array,Mode1_array,Mode2_array,noPS_arrayMode1,noPS_arrayMode2=[],[],[],[],[],[]\n",
    "for i in range(0, 10):\n",
    "    h.set_phase('Phb1', 0)\n",
    "    time.sleep(0.1)\n",
    "    withoutPS_time_array.append(time.time())\n",
    "    noPS_arrayMode1.append(PMa.measure())\n",
    "    noPS_arrayMode2.append(PMc.measure())\n",
    "    params,err=FringeFit()\n",
    "    correction=-params[2]/params[1]\n",
    "    h.set_phase('Phb1', correction)\n",
    "    time.sleep(0.1)\n",
    "    withPS_time_array.append(time.time())\n",
    "    Mode1_array.append(PMa.measure())\n",
    "    Mode2_array.append(PMc.measure())\n",
    "    mean_err=np.mean(err)\n",
    "    #time.sleep(0.5)\n",
    "withoutPS_time_array=[x-withoutPS_time_array[0] for x in withoutPS_time_array]\n",
    "withPS_time_array=[x-withPS_time_array[0] for x in withPS_time_array]\n",
    "saving_array = np.vstack((withoutPS_time_array, noPS_arrayMode1, noPS_arrayMode2, withPS_time_array, Mode1_array, Mode2_array)).T\n",
    "np.savetxt(f'Experimental data/Molly testing phase stab 231120/with_and_without_PS_drift_over_time_{int(time.time())}point4_5points.csv', saving_array,delimiter=',', header='#time,without PS output_1, without PS output_2, time, with PS output_1, with PS output_2, 0.1 sleep 0.4 spacing 5 points 5Dbm')"
   ]
  },
  {
   "cell_type": "code",
   "execution_count": null,
   "metadata": {},
   "outputs": [],
   "source": [
    "#with post selection of low error\n",
    "h.set_many_phases({'Phb1':0, 'Phb2':0, 'BS1':0, 'BS2':0, 'WDM1':pi, 'Prj_RY1':pi/2+0.23, 'Attb1':pi, 'Attb2':pi, 'MZIb1':pi/2, 'MZIb2':pi, 'MZIb3':pi, 'MZIb4':pi})\n",
    "#h.set_many_phases({'BS1':pi/2+0.25, 'BS2':0, 'BS3':0, 'WDM1':pi, 'WDM2':0, 'WDM4':pi, 'WDM3':0, 'Prj_RY1':pi+0.23, 'Prj_RY4':pi-0.02, 'Ctr_2':pi, 'Attb1':pi/2-0.25, 'Attb4':pi, 'MZIb1':pi, 'MZIb2':0, 'MZIb3':3*pi/2, 'MZIb4':pi})\n",
    "withPS_time_array, withoutPS_time_array,Mode1_array,Mode2_array,noPS_arrayMode1,noPS_arrayMode2=[],[],[],[],[],[]\n",
    "stddev_limit=1\n",
    "iterations=1000\n",
    "laser_power=5\n",
    "\n",
    "mytunics.laser_switch('on')\n",
    "mytunics.laser_wavelength(p_wavelength)\n",
    "mytunics.laser_power(laser_power)\n",
    "\n",
    "spacing=0.4\n",
    "no_points=5\n",
    "phase=[]\n",
    "for i in range(0,no_points):\n",
    "    phase.append(i*spacing)\n",
    "    \n",
    "for i in range(0, iterations):\n",
    "    params,err=FringeFit(phase)\n",
    "    mean_err=np.mean(err)\n",
    "    #print(mean_err)\n",
    "    \n",
    "    if mean_err<stddev_limit:\n",
    "        h.set_phase('Phb1', 0)\n",
    "        time.sleep(0.1)\n",
    "        withoutPS_time_array.append(time.time())\n",
    "        noPS_arrayMode1.append(PMa.measure())\n",
    "        noPS_arrayMode2.append(PMc.measure())\n",
    "        \n",
    "        correction=-params[2]/params[1]\n",
    "        h.set_phase('Phb1', correction)\n",
    "        time.sleep(0.1)\n",
    "        withPS_time_array.append(time.time())\n",
    "        Mode1_array.append(PMa.measure())\n",
    "        Mode2_array.append(PMc.measure())\n",
    "    \n",
    "    #time.sleep(0.5)\n",
    "withoutPS_time_array=[x-withoutPS_time_array[0] for x in withoutPS_time_array]\n",
    "withPS_time_array=[x-withPS_time_array[0] for x in withPS_time_array]\n",
    "\n",
    "success_rate=100*len(withPS_time_array)/iterations\n",
    "saving_array = np.vstack((withoutPS_time_array, noPS_arrayMode1, noPS_arrayMode2, withPS_time_array, Mode1_array, Mode2_array)).T\n",
    "StdDevLim_str=str(stddev_limit).replace('.','-')\n",
    "file_path=f'Experimental data/Phase stabilisation testing/{no_points}points_spacing04_StdDevLimit{StdDevLim_str}_{int(time.time())}.csv'\n",
    "np.savetxt(file_path, saving_array,delimiter=',', header=f'time,without PS output_1, without PS output_2, time, with PS output_1, with PS output_2, 0.1s sleep | spacing={spacing} | 5 points | {laser_power}dBm | Std dev limit={stddev_limit} | pass rate={success_rate}%')"
   ]
  },
  {
   "cell_type": "markdown",
   "metadata": {},
   "source": [
    "# Phase stabilisation functions Bob"
   ]
  },
  {
   "cell_type": "code",
   "execution_count": null,
   "metadata": {},
   "outputs": [],
   "source": [
    "def SineSq(x,amp,freq,phi_0,y_off):\n",
    "    return amp*np.sin(freq*x+phi_0)**2+y_off\n",
    "\n",
    "def FringeFit(phase):\n",
    "    Mode1Power=[]\n",
    "    #x=np.linspace(0, 2*pi, 30)\n",
    "    #time_fringe_started=time.time()\n",
    "    for i in range(0,5):\n",
    "        #phase.append(i*spacing)\n",
    "        h.set_phase('Pha1', phase[i])\n",
    "        time.sleep(0.15)\n",
    "        Mode1Power.append(PMe.measure()*1000000)#times 1000000 bc curvefit doesn't work well with small numbers (micro watts)\n",
    "    #time with and without starting parameters, does it make it faster? what about limits?\n",
    "    #time_fringe_finished=int(time.time())\n",
    "    initial_guess=[max(Mode1Power), 0.5, 0, min(Mode1Power)]\n",
    "    #print(max(Mode1Power))\n",
    "    param_bounds=([0, 0.3, -np.inf, 0], [3*max(Mode1Power), 0.8, np.inf, max(Mode1Power)]) # upper bound of amplitude could be given as related to the maximum power when not interfering?\n",
    "    params, pcov = optimize.curve_fit(SineSq, phase, Mode1Power, bounds = param_bounds, p0 = initial_guess)\n",
    "    err=np.sqrt(np.diag(pcov))\n",
    "    return params, err"
   ]
  },
  {
   "cell_type": "markdown",
   "metadata": {},
   "source": [
    "## Phase drift with phase stabilisation"
   ]
  },
  {
   "cell_type": "code",
   "execution_count": null,
   "metadata": {},
   "outputs": [],
   "source": [
    "mytunics.laser_switch('on')\n",
    "mytunics.laser_wavelength(p_wavelength)\n",
    "mytunics.laser_power(5)"
   ]
  },
  {
   "cell_type": "code",
   "execution_count": null,
   "metadata": {},
   "outputs": [],
   "source": [
    "h.set_many_phases({'Pha1':0, 'Pha2':0, 'BS1':0, 'BS2':0, 'WDM1':pi, 'Prj_RY1':pi/2+0.23, 'Atta1':pi, 'Atta2':pi, 'MZIa1':pi/2, 'MZIa2':pi, 'MZIa3':pi, 'MZIa4':pi})"
   ]
  },
  {
   "cell_type": "code",
   "execution_count": null,
   "metadata": {},
   "outputs": [],
   "source": [
    "h.set_many_phases({'Pha1':0, 'Pha2':0, 'BS1':0, 'BS2':0, 'WDM1':pi, 'Prj_RY1':pi/2+0.23, 'Atta1':pi, 'Attba2':pi, 'MZIa1':pi/2, 'MZIa2':pi, 'MZIa3':pi, 'MZIa4':pi})\n",
    "#h.set_many_phases({'BS1':pi/2+0.25, 'BS2':0, 'BS3':0, 'WDM1':pi, 'WDM2':0, 'WDM4':pi, 'WDM3':0, 'Prj_RY1':pi+0.23, 'Prj_RY4':pi-0.02, 'Ctr_2':pi, 'Attb1':pi/2-0.25, 'Attb4':pi, 'MZIb1':pi, 'MZIb2':0, 'MZIb3':3*pi/2, 'MZIb4':pi})\n",
    "withPS_time_array, withoutPS_time_array,Mode1_array,Mode2_array,noPS_arrayMode1,noPS_arrayMode2=[],[],[],[],[],[]\n",
    "for i in range(0, 10):\n",
    "    h.set_phase('Pha1', 0)\n",
    "    time.sleep(0.1)\n",
    "    withoutPS_time_array.append(time.time())\n",
    "    noPS_arrayMode1.append(PMe.measure())\n",
    "    noPS_arrayMode2.append(PMg.measure())\n",
    "    params,err=FringeFit()\n",
    "    correction=-params[2]/params[1]\n",
    "    h.set_phase('Pha1', correction)\n",
    "    time.sleep(0.1)\n",
    "    withPS_time_array.append(time.time())\n",
    "    Mode1_array.append(PMe.measure())\n",
    "    Mode2_array.append(PMg.measure())\n",
    "    mean_err=np.mean(err)\n",
    "    #time.sleep(0.5)\n",
    "withoutPS_time_array=[x-withoutPS_time_array[0] for x in withoutPS_time_array]\n",
    "withPS_time_array=[x-withPS_time_array[0] for x in withPS_time_array]\n",
    "saving_array = np.vstack((withoutPS_time_array, noPS_arrayMode1, noPS_arrayMode2, withPS_time_array, Mode1_array, Mode2_array)).T\n",
    "np.savetxt(f'Experimental data/Molly testing phase stab 231120/with_and_without_PS_drift_over_time_{int(time.time())}point4_5points.csv', saving_array,delimiter=',', header='#time,without PS output_1, without PS output_2, time, with PS output_1, with PS output_2, 0.1 sleep 0.4 spacing 5 points 5Dbm')"
   ]
  },
  {
   "cell_type": "code",
   "execution_count": null,
   "metadata": {},
   "outputs": [],
   "source": [
    "#with post selection of low error\n",
    "h.set_many_phases({'Phb1':0, 'Phb2':0, 'BS1':0, 'BS2':0, 'WDM1':pi, 'Prj_RY1':pi/2+0.23, 'Attb1':pi, 'Attb2':pi, 'MZIb1':pi/2, 'MZIb2':pi, 'MZIb3':pi, 'MZIb4':pi})\n",
    "#h.set_many_phases({'BS1':pi/2+0.25, 'BS2':0, 'BS3':0, 'WDM1':pi, 'WDM2':0, 'WDM4':pi, 'WDM3':0, 'Prj_RY1':pi+0.23, 'Prj_RY4':pi-0.02, 'Ctr_2':pi, 'Attb1':pi/2-0.25, 'Attb4':pi, 'MZIb1':pi, 'MZIb2':0, 'MZIb3':3*pi/2, 'MZIb4':pi})\n",
    "withPS_time_array, withoutPS_time_array,Mode1_array,Mode2_array,noPS_arrayMode1,noPS_arrayMode2=[],[],[],[],[],[]\n",
    "stddev_limit=1\n",
    "iterations=1000\n",
    "laser_power=5\n",
    "\n",
    "mytunics.laser_switch('on')\n",
    "mytunics.laser_wavelength(p_wavelength)\n",
    "mytunics.laser_power(laser_power)\n",
    "\n",
    "spacing=0.4\n",
    "no_points=5\n",
    "phase=[]\n",
    "for i in range(0,no_points):\n",
    "    phase.append(i*spacing)\n",
    "    \n",
    "for i in range(0, iterations):\n",
    "    params,err=FringeFit(phase)\n",
    "    mean_err=np.mean(err)\n",
    "    #print(mean_err)\n",
    "    \n",
    "    if mean_err<stddev_limit:\n",
    "        h.set_phase('Phb1', 0)\n",
    "        time.sleep(0.1)\n",
    "        withoutPS_time_array.append(time.time())\n",
    "        noPS_arrayMode1.append(PMa.measure())\n",
    "        noPS_arrayMode2.append(PMc.measure())\n",
    "        \n",
    "        correction=-params[2]/params[1]\n",
    "        h.set_phase('Phb1', correction)\n",
    "        time.sleep(0.1)\n",
    "        withPS_time_array.append(time.time())\n",
    "        Mode1_array.append(PMa.measure())\n",
    "        Mode2_array.append(PMc.measure())\n",
    "    \n",
    "    #time.sleep(0.5)\n",
    "withoutPS_time_array=[x-withoutPS_time_array[0] for x in withoutPS_time_array]\n",
    "withPS_time_array=[x-withPS_time_array[0] for x in withPS_time_array]\n",
    "\n",
    "success_rate=100*len(withPS_time_array)/iterations\n",
    "saving_array = np.vstack((withoutPS_time_array, noPS_arrayMode1, noPS_arrayMode2, withPS_time_array, Mode1_array, Mode2_array)).T\n",
    "StdDevLim_str=str(stddev_limit).replace('.','-')\n",
    "file_path=f'Experimental data/Phase stabilisation testing/{no_points}points_spacing04_StdDevLimit{StdDevLim_str}_{int(time.time())}.csv'\n",
    "np.savetxt(file_path, saving_array,delimiter=',', header=f'time,without PS output_1, without PS output_2, time, with PS output_1, with PS output_2, 0.1s sleep | spacing={spacing} | 5 points | {laser_power}dBm | Std dev limit={stddev_limit} | pass rate={success_rate}%')"
   ]
  },
  {
   "cell_type": "markdown",
   "metadata": {},
   "source": [
    "## Plotting"
   ]
  },
  {
   "cell_type": "code",
   "execution_count": null,
   "metadata": {},
   "outputs": [],
   "source": [
    "with open(file_path,'r') as f:\n",
    "    data = list(csv.reader(f,delimiter=','))\n",
    "info=data[0][-1]\n",
    "numbers=np.array(data[1:])#array with no table headings (just data)\n",
    "#print(numbers)\n",
    "#numbers=np.delete(numbers,np.s_[-1],1) #removing empty final column\n",
    "numbers=numbers.astype(np.float) #converint all str->float\n",
    "#print(numbers)\n",
    "time_without,without1,without2,time_with,with1,with2=numbers[:,0],numbers[:,1],numbers[:,2],numbers[:,3],numbers[:,4],numbers[:,5]\n",
    "plot1=plt.plot(time_without,without1,color='LightCoral',label='Without stab (Mode 1)')\n",
    "plot2=plt.plot(time_without,without2,color='SkyBlue',label='Without stab (Mode 2)')\n",
    "plot3=plt.plot(time_with,with1,color='DarkRed',label='With stab (Mode 1)')\n",
    "plot4=plt.plot(time_with,with2,color='DarkBlue', label='With stab (Mode 2)')\n",
    "plt.title(info,y=1.05)\n",
    "plt.ylabel('Power (W)')\n",
    "plt.xlabel('Time (s)')\n",
    "plt.legend(bbox_to_anchor=(1, 1))\n",
    "plt.show()"
   ]
  },
  {
   "cell_type": "code",
   "execution_count": null,
   "metadata": {},
   "outputs": [],
   "source": []
  }
 ],
 "metadata": {
  "kernelspec": {
   "display_name": "Python 3",
   "language": "python",
   "name": "python3"
  },
  "language_info": {
   "codemirror_mode": {
    "name": "ipython",
    "version": 3
   },
   "file_extension": ".py",
   "mimetype": "text/x-python",
   "name": "python",
   "nbconvert_exporter": "python",
   "pygments_lexer": "ipython3",
   "version": "3.8.3"
  }
 },
 "nbformat": 4,
 "nbformat_minor": 4
}
