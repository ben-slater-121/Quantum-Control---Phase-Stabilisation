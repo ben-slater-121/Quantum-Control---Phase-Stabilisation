{
 "cells": [
  {
   "cell_type": "markdown",
   "metadata": {},
   "source": [
    "# Quantum Interference"
   ]
  },
  {
   "cell_type": "code",
   "execution_count": 1,
   "metadata": {},
   "outputs": [],
   "source": [
    "%load_ext autoreload\n",
    "%autoreload 2\n",
    "%matplotlib inline\n",
    "%run -i \"prerequisites.py\""
   ]
  },
  {
   "cell_type": "markdown",
   "metadata": {},
   "source": [
    "# Power Monitor NoteBook"
   ]
  },
  {
   "cell_type": "code",
   "execution_count": 2,
   "metadata": {},
   "outputs": [],
   "source": [
    "# powermeter1 = Powermeter('PM100USB', serial='P2003916', unit='dBm', wavelength=1550) \n",
    "unit='dBm'\n",
    "wavelength=1550\n",
    "#Alice (tele) powermeters 10/03/20:\n",
    "PMa = PM('PM100USB', serial='P2007347',unit=unit, wavelength = wavelength)\n",
    "PMb = PM('PM100USB', serial='P2010371',unit=unit, wavelength = wavelength) \n",
    "PMc = PM('PM100USB', serial='P2003683',unit=unit, wavelength = wavelength) \n",
    "PMd = PM('PM100USB', serial='P2008115',unit=unit, wavelength = wavelength)\n",
    "#Charlie powermeters 10/03/20:\n",
    "PMe = PM('PM100USB', serial='P2005653',unit=unit, wavelength = wavelength)\n",
    "PMf = PM('PM100USB', serial='P2010372',unit=unit, wavelength = wavelength) \n",
    "PMg = PM('PM100USB', serial='P2008116',unit=unit, wavelength = wavelength) \n",
    "PMh = PM('PM100USB', serial='P2007346',unit=unit, wavelength = wavelength)\n",
    "\n",
    "PM_idler = {\"PMa\":PMa,\"PMb\":PMb, \"PMc\":PMc,\"PMd\":PMd}\n",
    "PM_signal = {\"PMe\":PMe,\"PMf\":PMf, \"PMg\":PMg,\"PMh\":PMh}\n",
    "PM_all = {\"PMa\":PMa,\"PMb\":PMb, \"PMc\":PMc,\"PMd\":PMd, \"PMe\":PMe,\"PMf\":PMf, \"PMg\":PMg,\"PMh\":PMh}"
   ]
  },
  {
   "cell_type": "markdown",
   "metadata": {},
   "source": [
    "### Laser"
   ]
  },
  {
   "cell_type": "code",
   "execution_count": 3,
   "metadata": {},
   "outputs": [
    {
     "name": "stdout",
     "output_type": "stream",
     "text": [
      "\n",
      "Connected to Tunics laser on serial port COM13\n",
      "\n"
     ]
    }
   ],
   "source": [
    "# Wavelengths\n",
    "p_wavelength = 1549.3\n",
    "i_wavelength = 1558.98\n",
    "s_wavelength = 1539.77\n",
    "\n",
    "unit='dBm'\n",
    "serial_port_name = 'COM13'\n",
    "mytunics = tunics(serial_port_name = serial_port_name, unit=unit)"
   ]
  },
  {
   "cell_type": "code",
   "execution_count": 4,
   "metadata": {},
   "outputs": [],
   "source": [
    "# Laser Settings\n",
    "mytunics.laser_wavelength(p_wavelength)\n",
    "mytunics.laser_switch('on') \n",
    "mytunics.laser_power(10) "
   ]
  },
  {
   "cell_type": "code",
   "execution_count": null,
   "metadata": {},
   "outputs": [],
   "source": [
    "LP.live_opt_pow(heaters = PM_all)"
   ]
  },
  {
   "cell_type": "markdown",
   "metadata": {},
   "source": [
    "# Rings"
   ]
  },
  {
   "cell_type": "code",
   "execution_count": 5,
   "metadata": {},
   "outputs": [],
   "source": [
    "# Read in Ring Volts\n",
    "df = pd.read_csv(\"Ring_Coulping_Voltage.csv\")\n",
    "Ring_Volts = df.to_dict('r')[0]"
   ]
  },
  {
   "cell_type": "code",
   "execution_count": 6,
   "metadata": {},
   "outputs": [],
   "source": [
    "# Setting the ring to have maximum number of entangled photons\n",
    "for ring, volts in Ring_Volts.items():\n",
    "    h.set_voltage(ring,volts)"
   ]
  },
  {
   "cell_type": "code",
   "execution_count": 7,
   "metadata": {},
   "outputs": [],
   "source": [
    "ring = \"MRR3\"\n",
    "h.set_voltage(ring,Ring_Volts[ring]-0.05)"
   ]
  },
  {
   "cell_type": "code",
   "execution_count": 8,
   "metadata": {},
   "outputs": [],
   "source": [
    "ring = \"MRR4\"\n",
    "h.set_voltage(ring,Ring_Volts[ring])"
   ]
  },
  {
   "cell_type": "code",
   "execution_count": 69,
   "metadata": {},
   "outputs": [],
   "source": [
    "h.set_many_phases({\"BS1\":0,\n",
    "    \"BS2\":pi/2,\n",
    "    \"BS3\":pi/2,\n",
    "    \"WDM1\":pi/2,\n",
    "    \"WDM2\":pi/2,\n",
    "    \"WDM3\":pi,\n",
    "    \"WDM4\":pi,\n",
    "    \"Pre_RY1\":pi,\n",
    "    \"Pre_RY2\":pi,\n",
    "    \"Bell1\":pi,\n",
    "    \"Bell2\":pi,\n",
    "    \"Prj_RY1\":pi,\n",
    "    \"Prj_RY2\":pi,\n",
    "    \"Prj_RY3\":pi,\n",
    "    \"Prj_RY4\":pi/2,\n",
    "    \"Ctr_1\":pi,\n",
    "    \"Ctr_2\":pi,\n",
    "    \"Prj_RZ1\":0,\n",
    "    \"Prj_RZ2\":0,\n",
    "    \"Prj_RZ3\":0,\n",
    "    \"Prj_RZ4\":0,\n",
    "    \"Pre_RZ1\":0,\n",
    "    \"Pre_RZ2\":0,})"
   ]
  },
  {
   "cell_type": "markdown",
   "metadata": {},
   "source": [
    "# Measurements"
   ]
  },
  {
   "cell_type": "code",
   "execution_count": 70,
   "metadata": {},
   "outputs": [
    {
     "data": {
      "text/plain": [
       "<Figure size 432x288 with 0 Axes>"
      ]
     },
     "metadata": {},
     "output_type": "display_data"
    }
   ],
   "source": [
    "%run -i \"SC_Prerequisites.py\""
   ]
  },
  {
   "cell_type": "markdown",
   "metadata": {},
   "source": [
    "### Swabian Time Tagger Configuration"
   ]
  },
  {
   "cell_type": "code",
   "execution_count": 71,
   "metadata": {},
   "outputs": [],
   "source": [
    "## Configruation of the swabian setting the trigger levels for each channels and the input delays needed\n",
    "channels = [3,8]\n",
    "trigger_levels = {3:0.08, 8:0.08}\n",
    "AA_input_delays = {3:0, 8:-4000}\n",
    "\n",
    "SC.set_input_delays(AA_input_delays, tagger)\n",
    "SC.set_trigger_levels(trigger_levels, tagger)"
   ]
  },
  {
   "cell_type": "code",
   "execution_count": 72,
   "metadata": {},
   "outputs": [],
   "source": [
    "coinc = TT.Coincidences(tagger, [[3,8]], coincidenceWindow=1000)"
   ]
  },
  {
   "cell_type": "code",
   "execution_count": 73,
   "metadata": {},
   "outputs": [],
   "source": [
    "coinc_channel = list(coinc.getChannels())"
   ]
  },
  {
   "cell_type": "code",
   "execution_count": 56,
   "metadata": {},
   "outputs": [],
   "source": [
    "def quantum_interference(start, stop, reso):\n",
    "    results = {}\n",
    "    phases = np.arange(start, stop, reso)\n",
    "    for phase in tqdm(phases):\n",
    "        h.set_phase(\"Prj_RZ4\", phase)\n",
    "        time.sleep(1)\n",
    "        Counter = TT.Counter(tagger, coinc_channel, binwidth = binwidth, n_values = n_values)\n",
    "        time.sleep(binwidth/(10**12)*n_values)\n",
    "        results[phase] = [Counter.getData(),PMd.measure_average(10)]\n",
    "    return results"
   ]
  },
  {
   "cell_type": "code",
   "execution_count": 99,
   "metadata": {},
   "outputs": [
    {
     "name": "stderr",
     "output_type": "stream",
     "text": [
      "100%|██████████████████████████████████████████████████████████████████████████████████| 32/32 [00:33<00:00,  1.05s/it]\n"
     ]
    }
   ],
   "source": [
    "results = {}\n",
    "phases = np.arange(0, 2*pi+pi/15, pi/15)\n",
    "for phase in tqdm(phases):\n",
    "    h.set_phase(\"Prj_RZ4\", phase)\n",
    "    time.sleep(0.5)\n",
    "    results[phase] = [PMc.measure_average(10)]\n",
    "    time.sleep(0.5)"
   ]
  },
  {
   "cell_type": "code",
   "execution_count": 57,
   "metadata": {},
   "outputs": [],
   "source": [
    "binwidth = 10**12 # in ps\n",
    "n_values = 10 # binwdith * n_values = Total Time recorded"
   ]
  },
  {
   "cell_type": "code",
   "execution_count": 58,
   "metadata": {},
   "outputs": [
    {
     "name": "stderr",
     "output_type": "stream",
     "text": [
      "100%|██████████████████████████████████████████████████████████████████████████████████| 32/32 [05:53<00:00, 11.06s/it]\n"
     ]
    }
   ],
   "source": [
    "results = quantum_interference(0, 2*pi+pi/15, pi/15)"
   ]
  },
  {
   "cell_type": "code",
   "execution_count": 100,
   "metadata": {},
   "outputs": [],
   "source": [
    "results_backup = results"
   ]
  },
  {
   "cell_type": "code",
   "execution_count": 101,
   "metadata": {},
   "outputs": [
    {
     "data": {
      "text/plain": [
       "{0.0: [-9.904436597460425],\n",
       " 0.20943951023931953: [-9.397478075974034],\n",
       " 0.41887902047863906: [-8.994529148056307],\n",
       " 0.6283185307179586: [-8.698592529510234],\n",
       " 0.8377580409572781: [-8.51739055635166],\n",
       " 1.0471975511965976: [-8.436632245156483],\n",
       " 1.2566370614359172: [-8.516129554939855],\n",
       " 1.4660765716752366: [-8.665963468614557],\n",
       " 1.6755160819145563: [-8.845895057664972],\n",
       " 1.8849555921538759: [-9.081163840846546],\n",
       " 2.0943951023931953: [-9.50757936859721],\n",
       " 2.3038346126325147: [-10.057907083665583],\n",
       " 2.5132741228718345: [-10.753159969129104],\n",
       " 2.722713633111154: [-11.474175153030886],\n",
       " 2.9321531433504733: [-12.438257743498188],\n",
       " 3.141592653589793: [-13.618363473246891],\n",
       " 3.3510321638291125: [-15.01097373528997],\n",
       " 3.560471674068432: [-16.666484148385713],\n",
       " 3.7699111843077517: [-18.650621276208874],\n",
       " 3.979350694547071: [-20.552826094454254],\n",
       " 4.1887902047863905: [-21.57522402259901],\n",
       " 4.39822971502571: [-20.693303620368855],\n",
       " 4.607669225265029: [-18.615124953455048],\n",
       " 4.817108735504349: [-16.493043580953326],\n",
       " 5.026548245743669: [-15.755868395391317],\n",
       " 5.235987755982988: [-14.410897662286837],\n",
       " 5.445427266222308: [-13.259480519464168],\n",
       " 5.654866776461628: [-12.204577998593729],\n",
       " 5.864306286700947: [-11.321593385308658],\n",
       " 6.073745796940266: [-10.52574990210596],\n",
       " 6.283185307179586: [-9.914230291701337],\n",
       " 6.492624817418905: [-9.40398830462666]}"
      ]
     },
     "execution_count": 101,
     "metadata": {},
     "output_type": "execute_result"
    }
   ],
   "source": [
    "results"
   ]
  },
  {
   "cell_type": "code",
   "execution_count": 78,
   "metadata": {},
   "outputs": [],
   "source": [
    "for index, value in results.items():\n",
    "    value[0] = value[0].sum()"
   ]
  },
  {
   "cell_type": "code",
   "execution_count": 102,
   "metadata": {},
   "outputs": [],
   "source": [
    "x = []\n",
    "y1 = []\n",
    "y2 = []\n",
    "for index, value in results.items():\n",
    "    x.append(index)\n",
    "    y1.append(value[0])\n",
    "#     y2.append(value[1])"
   ]
  },
  {
   "cell_type": "code",
   "execution_count": 103,
   "metadata": {},
   "outputs": [],
   "source": [
    "y1 = [(10**(y/10))/1000 for y in y1]"
   ]
  },
  {
   "cell_type": "code",
   "execution_count": 64,
   "metadata": {},
   "outputs": [],
   "source": [
    "import matplotlib.pyplot as plt"
   ]
  },
  {
   "cell_type": "code",
   "execution_count": 65,
   "metadata": {},
   "outputs": [
    {
     "data": {
      "text/plain": [
       "[<matplotlib.lines.Line2D at 0x1da13734790>]"
      ]
     },
     "execution_count": 65,
     "metadata": {},
     "output_type": "execute_result"
    },
    {
     "data": {
      "image/png": "[encoded data removed]",
      "text/plain": [
       "<Figure size 432x288 with 1 Axes>"
      ]
     },
     "metadata": {},
     "output_type": "display_data"
    }
   ],
   "source": [
    "plt.plot(x, y2)"
   ]
  },
  {
   "cell_type": "code",
   "execution_count": 104,
   "metadata": {},
   "outputs": [
    {
     "data": {
      "text/plain": [
       "[<matplotlib.lines.Line2D at 0x1da14b0b910>]"
      ]
     },
     "execution_count": 104,
     "metadata": {},
     "output_type": "execute_result"
    },
    {
     "data": {
      "image/png": "[encoded data removed]",
      "text/plain": [
       "<Figure size 432x288 with 1 Axes>"
      ]
     },
     "metadata": {},
     "output_type": "display_data"
    }
   ],
   "source": [
    "plt.plot(x, y1)"
   ]
  },
  {
   "cell_type": "code",
   "execution_count": 67,
   "metadata": {},
   "outputs": [],
   "source": [
    "def Save_Results(results, path):\n",
    "    df = pd.DataFrame(results)\n",
    "    return df.to_csv(path+dt.now().strftime(\"%Y-%m-%d-%H-%M\")+\".csv\")"
   ]
  },
  {
   "cell_type": "code",
   "execution_count": 105,
   "metadata": {},
   "outputs": [],
   "source": [
    "Save_Results(results, \"results/Counts_results_classical_interference\")"
   ]
  },
  {
   "cell_type": "code",
   "execution_count": null,
   "metadata": {},
   "outputs": [],
   "source": []
  }
 ],
 "metadata": {
  "kernelspec": {
   "display_name": "Python 3",
   "language": "python",
   "name": "python3"
  },
  "language_info": {
   "codemirror_mode": {
    "name": "ipython",
    "version": 3
   },
   "file_extension": ".py",
   "mimetype": "text/x-python",
   "name": "python",
   "nbconvert_exporter": "python",
   "pygments_lexer": "ipython3",
   "version": "3.8.3"
  }
 },
 "nbformat": 4,
 "nbformat_minor": 4
}
