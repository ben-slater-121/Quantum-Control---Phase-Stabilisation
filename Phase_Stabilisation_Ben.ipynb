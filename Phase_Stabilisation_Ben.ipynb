{
 "cells": [
  {
   "cell_type": "markdown",
   "metadata": {},
   "source": [
    "# Phase Stabilistion"
   ]
  },
  {
   "cell_type": "code",
   "execution_count": 203,
   "metadata": {},
   "outputs": [
    {
     "data": {
      "text/plain": [
       "True"
      ]
     },
     "execution_count": 203,
     "metadata": {},
     "output_type": "execute_result"
    }
   ],
   "source": [
    "TT.freeTimeTagger(tagger)"
   ]
  },
  {
   "cell_type": "code",
   "execution_count": null,
   "metadata": {},
   "outputs": [],
   "source": [
    "#run this cell if you want to be able to autoreload packages\n",
    "#(meaning that you don't have to restart the kernal when you make changes to code)\n",
    "\n",
    "%load_ext autoreload\n",
    "%autoreload 2\n",
    "%matplotlib inline"
   ]
  },
  {
   "cell_type": "code",
   "execution_count": null,
   "metadata": {},
   "outputs": [],
   "source": [
    "%run -i \"prerequisites.py\""
   ]
  },
  {
   "cell_type": "code",
   "execution_count": 3,
   "metadata": {},
   "outputs": [],
   "source": [
    "from scipy import optimize\n",
    "from IPython.display import clear_output, display"
   ]
  },
  {
   "cell_type": "code",
   "execution_count": 110,
   "metadata": {},
   "outputs": [],
   "source": [
    "# powermeter1 = Powermeter('PM100USB', serial='P2003916', unit='dBm', wavelength=1550) \n",
    "unit='mW'\n",
    "wavelength=1550\n",
    "#Charlie (tele) powermeters 10/03/20:\n",
    "PM_C1 = PM('PM100USB', serial='P2007347',unit=unit, wavelength = wavelength)\n",
    "PM_C2 = PM('PM100USB', serial='P2010371',unit=unit, wavelength = wavelength) \n",
    "PM_C3 = PM('PM100USB', serial='P2003683',unit=unit, wavelength = wavelength) \n",
    "PM_C4 = PM('PM100USB', serial='P2008115',unit=unit, wavelength = wavelength)\n",
    "#Bob powermeters 10/03/20:\n",
    "PM_B1 = PM('PM100USB', serial='P2005653',unit=unit, wavelength = wavelength)\n",
    "PM_B2 = PM('PM100USB', serial='P2010372',unit=unit, wavelength = wavelength) \n",
    "PM_B3 = PM('PM100USB', serial='P2008116',unit=unit, wavelength = wavelength) \n",
    "PM_B4 = PM('PM100USB', serial='P2007346',unit=unit, wavelength = wavelength)\n",
    "\n",
    "PM_signal = {\"PM_C1\":PM_C1,\"PM_C2\":PM_C2, \"PM_C3\":PM_C3,\"PM_C4\":PM_C4}\n",
    "PM_idler = {\"PM_B1\":PM_B1,\"PM_B2\":PM_B2, \"PM_B3\":PM_B3,\"PM_B4\":PM_B4}\n",
    "PM_all = {\"PM_C1\":PM_C1,\"PM_C2\":PM_C2, \"PM_C3\":PM_C3,\"PM_C4\":PM_C4, \"PM_B1\":PM_B1,\"PM_B2\":PM_B2, \"PM_B3\":PM_B3,\"PM_B4\":PM_B4}"
   ]
  },
  {
   "cell_type": "markdown",
   "metadata": {},
   "source": [
    "### Laser"
   ]
  },
  {
   "cell_type": "code",
   "execution_count": 5,
   "metadata": {},
   "outputs": [
    {
     "name": "stdout",
     "output_type": "stream",
     "text": [
      "\n",
      "Connected to Tunics laser on serial port COM13\n",
      "\n"
     ]
    }
   ],
   "source": [
    "# Wavelengths\n",
    "p_wavelength = 1549.3\n",
    "i_wavelength = 1558.98\n",
    "s_wavelength = 1539.77\n",
    "\n",
    "unit='dBm'\n",
    "serial_port_name = 'COM13'\n",
    "mytunics = tunics(serial_port_name = serial_port_name, unit=unit)"
   ]
  },
  {
   "cell_type": "code",
   "execution_count": 6,
   "metadata": {},
   "outputs": [],
   "source": [
    "# Laser Settings\n",
    "mytunics.laser_wavelength(p_wavelength)\n",
    "mytunics.laser_switch('on') \n",
    "mytunics.laser_power(14) "
   ]
  },
  {
   "cell_type": "code",
   "execution_count": null,
   "metadata": {},
   "outputs": [],
   "source": [
    "LP.live_opt_pow(heaters = PM_all)"
   ]
  },
  {
   "cell_type": "markdown",
   "metadata": {},
   "source": [
    "# 4D Hadamard"
   ]
  },
  {
   "cell_type": "code",
   "execution_count": 16,
   "metadata": {
    "jupyter": {
     "source_hidden": true
    }
   },
   "outputs": [],
   "source": [
    "def pow_measure_multiple(PM_dict, unit = \"mW\"):\n",
    "    pow_measurements={}\n",
    "    for keys, pow_meters in PM_dict.items():\n",
    "        pow_meters.unit = unit\n",
    "        pow_measurements[keys] = abs(pow_meters.measure())\n",
    "    return pow_measurements\n",
    "\n",
    "def pow_avg_on_first(PM_measured_dict, Normilised_pow, PM):\n",
    "    phi_pows = {}\n",
    "    A = PM_measured_dict[PM]/Normilised_pow[PM]\n",
    "    for key, pow_measurement in PM_measured_dict.items():\n",
    "        B = pow_measurement/Normilised_pow[key]\n",
    "        phi_pows[PM + \"+\" + key] = ((A+B)/2)-1\n",
    "    return phi_pows"
   ]
  },
  {
   "cell_type": "code",
   "execution_count": null,
   "metadata": {
    "jupyter": {
     "source_hidden": true
    }
   },
   "outputs": [],
   "source": [
    "pow_sum_on_first(pow_measure_multiple(PM_signal), \"PMa\")"
   ]
  },
  {
   "cell_type": "code",
   "execution_count": 19,
   "metadata": {
    "collapsed": true,
    "jupyter": {
     "outputs_hidden": true,
     "source_hidden": true
    }
   },
   "outputs": [
    {
     "name": "stdout",
     "output_type": "stream",
     "text": [
      "Normilised_pow:\n",
      " {'PMe': 8.11741108e-13, 'PMf': 1.6760502700000002e-08, 'PMg': 1.8928889199999998e-11, 'PMh': 4.934664219999999e-09}\n",
      "measured_pow:\n",
      " {'PMe': 2.28261615e-09, 'PMf': 3.86920834e-09, 'PMg': 1.7976136200000002e-08, 'PMh': 3.7012151199999995e-09}\n"
     ]
    },
    {
     "data": {
      "text/plain": [
       "{'PMe+PMe': 2811.000190090164,\n",
       " 'PMe+PMf': 1405.115521426058,\n",
       " 'PMe+PMg': 1879.8334571633409,\n",
       " 'PMe+PMh': 1405.375117027834}"
      ]
     },
     "execution_count": 19,
     "metadata": {},
     "output_type": "execute_result"
    }
   ],
   "source": [
    "h.set_many_phases(Charlie_idenity)\n",
    "time.sleep(0.2)\n",
    "Normilised_pow = pow_measure_multiple(PM_idler, unit = \"mW\")\n",
    "print(\"Normilised_pow:\\n\", Normilised_pow)\n",
    "h.set_many_phases(Charlie_Hardamard)\n",
    "time.sleep(0.2)\n",
    "measured_pow = pow_measure_multiple(PM_idler, unit = \"mW\")\n",
    "print(\"measured_pow:\\n\", measured_pow)\n",
    "pow_avg_on_first(PM_measured_dict = measured_pow, Normilised_pow = Normilised_pow,  PM = \"PMe\")"
   ]
  },
  {
   "cell_type": "markdown",
   "metadata": {
    "jupyter": {
     "source_hidden": true
    }
   },
   "source": [
    "# Chip Configuration"
   ]
  },
  {
   "cell_type": "markdown",
   "metadata": {},
   "source": [
    "# Chip Config"
   ]
  },
  {
   "cell_type": "code",
   "execution_count": 7,
   "metadata": {},
   "outputs": [],
   "source": [
    "#Alice\n",
    "h.set_many_phases(CF.Alice_FP_23)\n",
    "h.set_many_phases(CF.Bob_23_Comp)\n",
    "h.set_many_phases(CF.Charlie_23_Comp)"
   ]
  },
  {
   "cell_type": "code",
   "execution_count": 92,
   "metadata": {},
   "outputs": [],
   "source": [
    "Bob_phase_max_pow = {\n",
    "    #Bob\n",
    "    \"Atta1\":0,\n",
    "    \"Atta2\":pi,\n",
    "    \"Atta3\":pi,\n",
    "    \"Atta4\":pi,\n",
    "    \"MZIa1\":0,\n",
    "    \"MZIa2\":pi,\n",
    "    \"MZIa3\":pi/2,\n",
    "    \"MZIa4\":pi\n",
    "    ,\n",
    "    }\n",
    "\n",
    "Charlie_phase_max_pow = {\n",
    "    #Charlie\n",
    "    \"Attb1\":0,\n",
    "    \"Attb2\":pi,\n",
    "    \"Attb3\":pi,\n",
    "    \"Attb4\":0,\n",
    "    \"MZIb1\":pi,\n",
    "    \"MZIb2\":0,\n",
    "    \"MZIb3\":pi,\n",
    "    \"MZIb4\":pi/2\n",
    "    }\n",
    "\n",
    "h.set_many_phases(Bob_phase_max_pow)\n",
    "h.set_many_phases(Charlie_phase_max_pow)"
   ]
  },
  {
   "cell_type": "code",
   "execution_count": 51,
   "metadata": {},
   "outputs": [],
   "source": [
    "#Alice\n",
    "h.set_many_phases({\"BS1\":pi/2,\n",
    "    \"BS2\":pi,\n",
    "    \"BS3\":pi,\n",
    "    \"WDM1\":pi,\n",
    "    \"WDM2\":pi,\n",
    "    \"WDM3\":pi,\n",
    "    \"WDM4\":pi,\n",
    "    \"Pre_RY1\":pi,\n",
    "    \"Pre_RY2\":pi,\n",
    "    \"Bell1\":pi,\n",
    "    \"Bell2\":pi,\n",
    "    \"Prj_RY1\":pi,\n",
    "    \"Prj_RY2\":pi,\n",
    "    \"Prj_RY3\":pi,\n",
    "    \"Prj_RY4\":pi,\n",
    "    \"Ctr_1\":pi,\n",
    "    \"Ctr_2\":pi,\n",
    "    \"Prj_RZ1\":0,\n",
    "    \"Prj_RZ2\":0,\n",
    "    \"Prj_RZ3\":0,\n",
    "    \"Prj_RZ4\":0,\n",
    "    \"Pre_RZ1\":0,\n",
    "    \"Pre_RZ2\":0,})"
   ]
  },
  {
   "cell_type": "code",
   "execution_count": 93,
   "metadata": {},
   "outputs": [
    {
     "data": {
      "text/plain": [
       "<Figure size 504x360 with 0 Axes>"
      ]
     },
     "metadata": {},
     "output_type": "display_data"
    },
    {
     "data": {
      "image/png": "[encoded data removed]",
      "text/plain": [
       "<Figure size 504x360 with 1 Axes>"
      ]
     },
     "metadata": {},
     "output_type": "display_data"
    }
   ],
   "source": [
    "LP.live_opt_pow({\"PM_B1\":PM_B1,\"PM_B2\":PM_B2, \"PM_C3\":PM_C3,\"PM_C4\":PM_C4})"
   ]
  },
  {
   "cell_type": "markdown",
   "metadata": {},
   "source": [
    "## Rings"
   ]
  },
  {
   "cell_type": "code",
   "execution_count": 9,
   "metadata": {},
   "outputs": [],
   "source": [
    "# Read in Ring Volts\n",
    "df = pd.read_csv(\"Ring_Coulping_Voltage.csv\")\n",
    "Ring_Volts = df.to_dict('r')[0]"
   ]
  },
  {
   "cell_type": "code",
   "execution_count": 10,
   "metadata": {},
   "outputs": [],
   "source": [
    "# Setting the ring to have maximum number of entangled photons\n",
    "for ring, volts in Ring_Volts.items():\n",
    "    h.set_voltage(ring,volts)"
   ]
  },
  {
   "cell_type": "code",
   "execution_count": 43,
   "metadata": {},
   "outputs": [],
   "source": [
    "ring = \"MRR1\"\n",
    "h.set_voltage(ring,Ring_Volts[ring]-0.1)"
   ]
  },
  {
   "cell_type": "code",
   "execution_count": 32,
   "metadata": {},
   "outputs": [],
   "source": [
    "ring = \"MRR2\"\n",
    "h.set_voltage(ring,Ring_Volts[ring]-0.8)"
   ]
  },
  {
   "cell_type": "code",
   "execution_count": 23,
   "metadata": {},
   "outputs": [],
   "source": [
    "ring = \"MRR3\"\n",
    "h.set_voltage(ring,Ring_Volts[ring]-0.8)"
   ]
  },
  {
   "cell_type": "code",
   "execution_count": 42,
   "metadata": {},
   "outputs": [],
   "source": [
    "ring = \"MRR4\"\n",
    "h.set_voltage(ring,Ring_Volts[ring]-0.15)"
   ]
  },
  {
   "cell_type": "markdown",
   "metadata": {},
   "source": [
    "# 2D Hadamard"
   ]
  },
  {
   "cell_type": "code",
   "execution_count": 132,
   "metadata": {},
   "outputs": [],
   "source": [
    "class StabilisedMeasurements(MultiChipStabilisation):\n",
    "    \n",
    "    def measure(self, length, n_values, binwidth, *stab_channels):\n",
    "        results = []\n",
    "        Counter = TT.Counter(tagger, coinc_chans, binwidth = binwidth, n_values = n_values)\n",
    "        Counter.clear()\n",
    "        for i in range(0,length):\n",
    "            self.stabilisation(self, *stab_channels)\n",
    "            time.sleep(binwidth/(10**12)*n_values)\n",
    "            results.append(Counter.getData())\n",
    "            Counter.clear()\n",
    "        \n",
    "        return results\n",
    "    "
   ]
  },
  {
   "cell_type": "code",
   "execution_count": 258,
   "metadata": {},
   "outputs": [],
   "source": [
    "class MultiChipStabilisation():\n",
    "    \n",
    "    def __init__(self):\n",
    "        pass\n",
    "        \n",
    "    def multi_stabilise(self, *stab_channels):\n",
    "        self.multi_sweep(self, *stab_channels)\n",
    "        while True:\n",
    "            for index, channel in enumerate(stab_channels):\n",
    "                fringe_dict = channel.stabilise_sweep()\n",
    "                params = channel.fit(fringe_dict)\n",
    "                channel.stabilise(params)\n",
    "                time.sleep(1/len(stab_channels))\n",
    "                clear_output(wait=True)\n",
    "                print(\"Stabilising\", index)\n",
    "                \n",
    "    def stabilisation(self, *stab_channels):\n",
    "        for index, channel in enumerate(stab_channels):\n",
    "            fringe_dict = channel.stabilise_sweep()\n",
    "            params = channel.fit(fringe_dict)\n",
    "            channel.stabilise(params)\n",
    "        return True\n",
    "                \n",
    "    def multi_sweep(self, *stab_channels):\n",
    "        for channel in stab_channels:\n",
    "            channel.stabilise_sweep(True)\n",
    "        return True\n",
    "    \n",
    "    def length(self, length):\n",
    "        self.length = length\n",
    "        return self.length\n",
    "    \n",
    "    def n_values(self, n_values):\n",
    "        self.n_values = n_values\n",
    "        return self.n_values\n",
    "    \n",
    "    def binwidth(self, binwidth):\n",
    "        self.binwidth = binwidth\n",
    "        return self.binwidth\n",
    "    \n",
    "    def measure(self, *stab_channels):\n",
    "        results = []\n",
    "        Counter = TT.Counter(tagger, coinc_chans, binwidth = self.binwidth, n_values = self.n_values)\n",
    "        for i in range(0,self.length):\n",
    "            self.stabilisation(*stab_channels)\n",
    "            Counter.clear()\n",
    "            time.sleep((self.binwidth/(10**12))*self.n_values)\n",
    "            results.append(Counter.getData())\n",
    "            clear_output(wait=True)\n",
    "            print(i, \"/\", self.length)\n",
    "        \n",
    "        return results\n",
    "    \n",
    "    class PhaseStabilisation():\n",
    "\n",
    "        def __init__(self, heater,\n",
    "                    pow_met,\n",
    "                    ):\n",
    "\n",
    "            self.heater = heater\n",
    "            self.pow_met = pow_met\n",
    "\n",
    "        def stabilise_sweep(self, cal = False):\n",
    "            self.fringe_dict = {}\n",
    "            if cal:\n",
    "                phase_range = self.phase_range(0, 2*pi, pi/10)\n",
    "            else:\n",
    "                phase_range = self.phase_range(0, 2*pi, pi/4)\n",
    "\n",
    "            for phase in phase_range:\n",
    "                h.set_phase(self.heater, phase)\n",
    "                time.sleep(0.1)\n",
    "                self.fringe_dict[phase] = self.pow_met.measure()\n",
    "\n",
    "            return self.fringe_dict\n",
    "\n",
    "        def fit(self, fringe_dict):\n",
    "            phase_list = list(self.fringe_dict.keys())\n",
    "            power_list = list(self.fringe_dict.values())\n",
    "            initial_guess=[max(power_list), 0.5, 0, min(power_list)]\n",
    "            param_bounds=([0, 0.3, -np.inf, 0], [2*max(power_list), 0.8, np.inf, max(power_list)]) # upper bound of amplitude could be given as related to the maximum power when not interfering?\n",
    "            self.params, pcov = optimize.curve_fit(self.SineSq, phase_list, power_list, bounds = param_bounds, p0 = initial_guess)\n",
    "\n",
    "    #         fit_phase_list = np.linespace(0, 2*pi, 30)\n",
    "    #         sin_fit = SineSq(fit_phase_list, params[0], params[1], params[2], params[3])\n",
    "\n",
    "            return self.params\n",
    "\n",
    "        def stabilise(self, params):\n",
    "            return h.set_phase(self.heater, -self.params[2]/self.params[1])\n",
    "\n",
    "        def stabilisation(self):\n",
    "            self.stabilise_sweep(True)\n",
    "            while True:\n",
    "                fringe_dict = self.stabilise_sweep()\n",
    "                params = self.fit(fringe_dict)\n",
    "                self.stabilise(params)\n",
    "                time.sleep(1)\n",
    "                print(\"Stabilised\")\n",
    "\n",
    "\n",
    "        def SineSq(self, x, amp, freq, phi_0, y_off):\n",
    "            return amp*np.sin(freq*x+phi_0)**2+y_off\n",
    "\n",
    "        def phase_range(self, start, stop, reso):\n",
    "            return np.arange(start, stop, reso)"
   ]
  },
  {
   "cell_type": "markdown",
   "metadata": {},
   "source": [
    "# Q. Measurements"
   ]
  },
  {
   "cell_type": "code",
   "execution_count": 204,
   "metadata": {},
   "outputs": [],
   "source": [
    "%run -i \"SC_Prerequisites.py\""
   ]
  },
  {
   "cell_type": "code",
   "execution_count": 296,
   "metadata": {},
   "outputs": [],
   "source": [
    "## Configruation of the swabian setting the trigger levels for each channels and the input delays needed\n",
    "channels = [1,2,7,8]\n",
    "trigger_levels = {1:0.08, 2:0.08, 7:0.08, 8:0.08}\n",
    "BC_input_delays = {1:0, 2:0, 7:15000, 8:15000}\n",
    "\n",
    "\n",
    "SC.set_input_delays(BC_input_delays, tagger)\n",
    "SC.set_trigger_levels(trigger_levels, tagger)"
   ]
  },
  {
   "cell_type": "code",
   "execution_count": 297,
   "metadata": {},
   "outputs": [],
   "source": [
    "Coin_Combs = [[1,7], [1,8], [2,7], [2,8]] # Creates a list of list of the coindient channels, with the number enter being the number of channels used. \n",
    "coinc = TT.Coincidences(tagger, Coin_Combs, coincidenceWindow=10000) # Creates all of the coincdent channells of all the combinations from Coin_combs\n",
    "coinc_chans = list(coinc.getChannels())  # Creates a list of the channel numbers\n",
    "\n",
    "\n",
    "## Creates a Dict of the channels and the keys being the coincdent of the channels Example {\"Ch[1,2]:19. Ch[1,3]:20...., Ch[7,8]:36\"}\n",
    "Coin_channel_dict = {}\n",
    "i = 0\n",
    "for channel in coinc_chans:\n",
    "    Coin_channel_dict[\"Ch\"+str(Coin_Combs[i])] = channel\n",
    "    i += 1\n",
    "    \n",
    "## Creates a dictonry of the channels of the Coincdent channels are actually at, so each value is a class. \n",
    "Channels_Coinc = {}\n",
    "for key, channel in Coin_channel_dict.items():\n",
    "    Channels_Coinc[key] = TT.Countrate(tagger,[channel])"
   ]
  },
  {
   "cell_type": "code",
   "execution_count": 298,
   "metadata": {},
   "outputs": [
    {
     "data": {
      "text/plain": [
       "[1004, 1005, 1006, 1007]"
      ]
     },
     "execution_count": 298,
     "metadata": {},
     "output_type": "execute_result"
    }
   ],
   "source": [
    "coinc_chans"
   ]
  },
  {
   "cell_type": "code",
   "execution_count": 207,
   "metadata": {},
   "outputs": [],
   "source": [
    "def Save_Results(results, path):\n",
    "    df = pd.DataFrame(results)\n",
    "    return df.to_csv(path+dt.now().strftime(\"%Y-%m-%d-%H-%M\")+\".csv\")\n",
    "\n",
    "def get_results(binwidth = 10**12, n_values = 300):\n",
    "    Counter = TT.Counter(tagger, coinc_chans, binwidth = binwidth, n_values = n_values)\n",
    "    time.sleep(binwidth/(10**12)*n_values)\n",
    "    raw = Counter.getData()\n",
    "\n",
    "    sum_channel_results = []\n",
    "    for channel_result in Counter.getData():\n",
    "        sum_channel_results.append(channel_result.sum())\n",
    "    results = list(zip(Results_channels, sum_channel_results))\n",
    "    return (results, sum_channel_results, raw)"
   ]
  },
  {
   "cell_type": "code",
   "execution_count": 248,
   "metadata": {},
   "outputs": [
    {
     "data": {
      "text/plain": [
       "array([[0, 0, 2, 0, 1, 3, 1, 0, 2, 1],\n",
       "       [0, 2, 0, 2, 0, 1, 0, 0, 0, 0],\n",
       "       [0, 1, 0, 3, 0, 0, 0, 0, 1, 3],\n",
       "       [0, 0, 0, 0, 0, 1, 0, 0, 1, 1]], dtype=int32)"
      ]
     },
     "execution_count": 248,
     "metadata": {},
     "output_type": "execute_result"
    }
   ],
   "source": [
    "Counter = TT.Counter(tagger, coinc_chans, binwidth = 10**11, n_values = 10)\n",
    "Counter.clear()\n",
    "time.sleep(1)\n",
    "Counter.getData()"
   ]
  },
  {
   "cell_type": "code",
   "execution_count": null,
   "metadata": {},
   "outputs": [],
   "source": []
  },
  {
   "cell_type": "code",
   "execution_count": 299,
   "metadata": {},
   "outputs": [],
   "source": [
    "MCS = MultiChipStabilisation()"
   ]
  },
  {
   "cell_type": "code",
   "execution_count": 300,
   "metadata": {},
   "outputs": [],
   "source": [
    "Bob_stab = MCS.PhaseStabilisation(\"Pha2\", PM_B1)\n",
    "Charlie_stab = MCS.PhaseStabilisation(\"Phb2\", PM_C3)"
   ]
  },
  {
   "cell_type": "code",
   "execution_count": 301,
   "metadata": {},
   "outputs": [],
   "source": [
    "MCS.length = 300\n",
    "MCS.binwidth = 10**10\n",
    "MCS.n_values = 100"
   ]
  },
  {
   "cell_type": "code",
   "execution_count": 302,
   "metadata": {},
   "outputs": [
    {
     "name": "stdout",
     "output_type": "stream",
     "text": [
      "299 / 300\n"
     ]
    }
   ],
   "source": [
    "result = MCS.measure(Bob_stab, Charlie_stab)"
   ]
  },
  {
   "cell_type": "code",
   "execution_count": 303,
   "metadata": {},
   "outputs": [],
   "source": [
    "summed_results = []\n",
    "for sweep in result:\n",
    "    buffer = []\n",
    "    for channel in sweep:\n",
    "        buffer.append(channel.sum())\n",
    "    summed_results.append(buffer)"
   ]
  },
  {
   "cell_type": "code",
   "execution_count": 304,
   "metadata": {},
   "outputs": [],
   "source": [
    "processed_results = []\n",
    "np.array(summed_results)\n",
    "for index in range(len(summed_results[0])):\n",
    "    channel = []\n",
    "    for row in summed_results:\n",
    "        channel.append(row[index])\n",
    "    processed_results.append(np.array(channel).sum())"
   ]
  },
  {
   "cell_type": "code",
   "execution_count": 305,
   "metadata": {},
   "outputs": [
    {
     "data": {
      "text/plain": [
       "[32538, 20287, 10480, 6901]"
      ]
     },
     "execution_count": 305,
     "metadata": {},
     "output_type": "execute_result"
    }
   ],
   "source": [
    "processed_results"
   ]
  },
  {
   "cell_type": "code",
   "execution_count": 306,
   "metadata": {},
   "outputs": [],
   "source": [
    "save_path = \"results/Counts_results_2D_3Chip_Had_background\"\n",
    "Save_Results(processed_results, save_path)"
   ]
  },
  {
   "cell_type": "markdown",
   "metadata": {},
   "source": [
    "# Had(Charlie) and Comp(Bob) "
   ]
  },
  {
   "cell_type": "code",
   "execution_count": 307,
   "metadata": {},
   "outputs": [],
   "source": [
    "Bob_phase_max_pow = {\n",
    "    #Bob\n",
    "    \"Atta1\":0,\n",
    "    \"Atta2\":pi,\n",
    "    \"Atta3\":pi,\n",
    "    \"Atta4\":pi,\n",
    "    \"MZIa1\":0,\n",
    "    \"MZIa2\":pi,\n",
    "    \"MZIa3\":pi,\n",
    "    \"MZIa4\":pi\n",
    "    ,\n",
    "    }\n",
    "\n",
    "Charlie_phase_max_pow = {\n",
    "    #Charlie\n",
    "    \"Attb1\":0,\n",
    "    \"Attb2\":pi,\n",
    "    \"Attb3\":pi,\n",
    "    \"Attb4\":0,\n",
    "    \"MZIb1\":pi,\n",
    "    \"MZIb2\":0,\n",
    "    \"MZIb3\":pi,\n",
    "    \"MZIb4\":pi/2\n",
    "    }\n",
    "\n",
    "h.set_many_phases(Bob_phase_max_pow)\n",
    "h.set_many_phases(Charlie_phase_max_pow)"
   ]
  },
  {
   "cell_type": "code",
   "execution_count": 308,
   "metadata": {},
   "outputs": [],
   "source": [
    "channels = [1,2,7,8]\n",
    "trigger_levels = {1:0.08, 2:0.08, 7:0.08, 8:0.08}\n",
    "BC_input_delays = {1:0, 2:0, 7:5000, 8:5000}\n",
    "\n",
    "\n",
    "SC.set_input_delays(BC_input_delays, tagger)\n",
    "SC.set_trigger_levels(trigger_levels, tagger)"
   ]
  },
  {
   "cell_type": "code",
   "execution_count": 309,
   "metadata": {},
   "outputs": [],
   "source": [
    "Coin_Combs = [[1,7], [1,8], [2,7], [2,8]] # Creates a list of list of the coindient channels, with the number enter being the number of channels used. \n",
    "coinc = TT.Coincidences(tagger, Coin_Combs, coincidenceWindow=1000) # Creates all of the coincdent channells of all the combinations from Coin_combs\n",
    "coinc_chans = list(coinc.getChannels())  # Creates a list of the channel numbers"
   ]
  },
  {
   "cell_type": "code",
   "execution_count": null,
   "metadata": {},
   "outputs": [],
   "source": []
  },
  {
   "cell_type": "code",
   "execution_count": 310,
   "metadata": {},
   "outputs": [
    {
     "name": "stdout",
     "output_type": "stream",
     "text": [
      "299 / 300\n"
     ]
    }
   ],
   "source": [
    "result = MCS.measure(Charlie_stab)"
   ]
  },
  {
   "cell_type": "code",
   "execution_count": 311,
   "metadata": {},
   "outputs": [],
   "source": [
    "summed_results = []\n",
    "for sweep in result:\n",
    "    buffer = []\n",
    "    for channel in sweep:\n",
    "        buffer.append(channel.sum())\n",
    "    summed_results.append(buffer)"
   ]
  },
  {
   "cell_type": "code",
   "execution_count": 312,
   "metadata": {},
   "outputs": [],
   "source": [
    "processed_results = []\n",
    "np.array(summed_results)\n",
    "for index in range(len(summed_results[0])):\n",
    "    channel = []\n",
    "    for row in summed_results:\n",
    "        channel.append(row[index])\n",
    "    processed_results.append(np.array(channel).sum())"
   ]
  },
  {
   "cell_type": "code",
   "execution_count": 313,
   "metadata": {},
   "outputs": [
    {
     "data": {
      "text/plain": [
       "[8301, 2428, 1168, 387]"
      ]
     },
     "execution_count": 313,
     "metadata": {},
     "output_type": "execute_result"
    }
   ],
   "source": [
    "processed_results"
   ]
  },
  {
   "cell_type": "code",
   "execution_count": 314,
   "metadata": {},
   "outputs": [],
   "source": [
    "save_path = \"results/Counts_results_2D_3Chip_Comp_Had_BC\"\n",
    "Save_Results(processed_results, save_path)"
   ]
  },
  {
   "cell_type": "markdown",
   "metadata": {},
   "source": [
    "# Had(Bob) and Comp(Charlie) "
   ]
  },
  {
   "cell_type": "code",
   "execution_count": 315,
   "metadata": {},
   "outputs": [],
   "source": [
    "Bob_phase_max_pow = {\n",
    "    #Bob\n",
    "    \"Atta1\":0,\n",
    "    \"Atta2\":pi,\n",
    "    \"Atta3\":pi,\n",
    "    \"Atta4\":pi,\n",
    "    \"MZIa1\":0,\n",
    "    \"MZIa2\":pi,\n",
    "    \"MZIa3\":pi/2,\n",
    "    \"MZIa4\":pi\n",
    "    ,\n",
    "    }\n",
    "\n",
    "Charlie_phase_max_pow = {\n",
    "    #Charlie\n",
    "    \"Attb1\":0,\n",
    "    \"Attb2\":pi,\n",
    "    \"Attb3\":pi,\n",
    "    \"Attb4\":0,\n",
    "    \"MZIb1\":pi,\n",
    "    \"MZIb2\":0,\n",
    "    \"MZIb3\":pi,\n",
    "    \"MZIb4\":pi\n",
    "    }\n",
    "\n",
    "h.set_many_phases(Bob_phase_max_pow)\n",
    "h.set_many_phases(Charlie_phase_max_pow)"
   ]
  },
  {
   "cell_type": "code",
   "execution_count": 316,
   "metadata": {},
   "outputs": [],
   "source": [
    "channels = [1,2,7,8]\n",
    "trigger_levels = {1:0.08, 2:0.08, 7:0.08, 8:0.08}\n",
    "BC_input_delays = {1:0, 2:0, 7:5000, 8:5000}\n",
    "\n",
    "\n",
    "SC.set_input_delays(BC_input_delays, tagger)\n",
    "SC.set_trigger_levels(trigger_levels, tagger)"
   ]
  },
  {
   "cell_type": "code",
   "execution_count": 317,
   "metadata": {},
   "outputs": [],
   "source": [
    "Coin_Combs = [[1,7], [1,8], [2,7], [2,8]] # Creates a list of list of the coindient channels, with the number enter being the number of channels used. \n",
    "coinc = TT.Coincidences(tagger, Coin_Combs, coincidenceWindow=1000) # Creates all of the coincdent channells of all the combinations from Coin_combs\n",
    "coinc_chans = list(coinc.getChannels())  # Creates a list of the channel numbers"
   ]
  },
  {
   "cell_type": "code",
   "execution_count": null,
   "metadata": {},
   "outputs": [],
   "source": []
  },
  {
   "cell_type": "code",
   "execution_count": 318,
   "metadata": {},
   "outputs": [
    {
     "name": "stdout",
     "output_type": "stream",
     "text": [
      "299 / 300\n"
     ]
    }
   ],
   "source": [
    "result = MCS.measure(Bob_stab)"
   ]
  },
  {
   "cell_type": "code",
   "execution_count": 319,
   "metadata": {},
   "outputs": [],
   "source": [
    "summed_results = []\n",
    "for sweep in result:\n",
    "    buffer = []\n",
    "    for channel in sweep:\n",
    "        buffer.append(channel.sum())\n",
    "    summed_results.append(buffer)"
   ]
  },
  {
   "cell_type": "code",
   "execution_count": 320,
   "metadata": {},
   "outputs": [],
   "source": [
    "processed_results = []\n",
    "np.array(summed_results)\n",
    "for index in range(len(summed_results[0])):\n",
    "    channel = []\n",
    "    for row in summed_results:\n",
    "        channel.append(row[index])\n",
    "    processed_results.append(np.array(channel).sum())"
   ]
  },
  {
   "cell_type": "code",
   "execution_count": 321,
   "metadata": {},
   "outputs": [
    {
     "data": {
      "text/plain": [
       "[2266, 2680, 880, 995]"
      ]
     },
     "execution_count": 321,
     "metadata": {},
     "output_type": "execute_result"
    }
   ],
   "source": [
    "processed_results"
   ]
  },
  {
   "cell_type": "code",
   "execution_count": 322,
   "metadata": {},
   "outputs": [],
   "source": [
    "save_path = \"results/Counts_results_2D_3Chip_Comp_Had_CB\"\n",
    "Save_Results(processed_results, save_path)"
   ]
  },
  {
   "cell_type": "code",
   "execution_count": null,
   "metadata": {},
   "outputs": [],
   "source": []
  },
  {
   "cell_type": "code",
   "execution_count": 325,
   "metadata": {},
   "outputs": [],
   "source": [
    "Bob_phase_max_pow = {\n",
    "    #Bob\n",
    "    \"Atta1\":0,\n",
    "    \"Atta2\":pi,\n",
    "    \"Atta3\":pi,\n",
    "    \"Atta4\":pi,\n",
    "    \"MZIa1\":0,\n",
    "    \"MZIa2\":pi,\n",
    "    \"MZIa3\":pi,\n",
    "    \"MZIa4\":pi\n",
    "    ,\n",
    "    }\n",
    "\n",
    "Charlie_phase_max_pow = {\n",
    "    #Charlie\n",
    "    \"Attb1\":0,\n",
    "    \"Attb2\":pi,\n",
    "    \"Attb3\":pi,\n",
    "    \"Attb4\":0,\n",
    "    \"MZIb1\":pi,\n",
    "    \"MZIb2\":0,\n",
    "    \"MZIb3\":pi,\n",
    "    \"MZIb4\":pi\n",
    "    }\n",
    "\n",
    "h.set_many_phases(Bob_phase_max_pow)\n",
    "h.set_many_phases(Charlie_phase_max_pow)"
   ]
  },
  {
   "cell_type": "code",
   "execution_count": 326,
   "metadata": {},
   "outputs": [
    {
     "data": {
      "text/plain": [
       "array([[  0,   0,   0, ..., 811, 852, 809],\n",
       "       [  0,   0,   0, ..., 154, 125, 153],\n",
       "       [  0,   0,   0, ..., 408, 452, 384],\n",
       "       [  0,   0,   0, ..., 648, 600, 604]], dtype=int32)"
      ]
     },
     "execution_count": 326,
     "metadata": {},
     "output_type": "execute_result"
    }
   ],
   "source": [
    "Counter = TT.Counter(tagger, channels, binwidth = 10**10, n_values = 1000)\n",
    "Counter.clear()\n",
    "time.sleep(10)\n",
    "Counter.getData()"
   ]
  },
  {
   "cell_type": "code",
   "execution_count": 327,
   "metadata": {},
   "outputs": [],
   "source": [
    "save_path = \"results/Counts_results_2D_3Chip_Singles\"\n",
    "Save_Results(processed_results, save_path)"
   ]
  },
  {
   "cell_type": "code",
   "execution_count": null,
   "metadata": {},
   "outputs": [],
   "source": [
    "array([[  0,   0,   0, ..., 811, 852, 809],\n",
    "       [  0,   0,   0, ..., 154, 125, 153],\n",
    "       [  0,   0,   0, ..., 408, 452, 384],\n",
    "       [  0,   0,   0, ..., 648, 600, 604]], dtype=int32)"
   ]
  }
 ],
 "metadata": {
  "kernelspec": {
   "display_name": "Python 3",
   "language": "python",
   "name": "python3"
  },
  "language_info": {
   "codemirror_mode": {
    "name": "ipython",
    "version": 3
   },
   "file_extension": ".py",
   "mimetype": "text/x-python",
   "name": "python",
   "nbconvert_exporter": "python",
   "pygments_lexer": "ipython3",
   "version": "3.8.3"
  }
 },
 "nbformat": 4,
 "nbformat_minor": 4
}
