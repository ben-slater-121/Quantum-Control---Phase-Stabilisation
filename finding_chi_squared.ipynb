{
 "cells": [
  {
   "cell_type": "code",
   "execution_count": 309,
   "metadata": {},
   "outputs": [],
   "source": [
    "import matplotlib.pylab as plt\n",
    "import numpy as np\n",
    "from scipy import stats\n",
    "from scipy import optimize\n",
    "import time\n",
    "pi=np.pi"
   ]
  },
  {
   "cell_type": "code",
   "execution_count": 244,
   "metadata": {},
   "outputs": [],
   "source": [
    "pi_by_3_times = ['1584963194', '1584966809', '1584966916', '1584966975', '1584967052', '1584967085', '1584989445', '1584989524', '1584989552']\n",
    "pi_by_3point3_times = ['1584963197', '1584966811', '1584966919', '1584966977', '1584967054', '1584967087', '1584989447', '1584989527', '1584989555']\n",
    "pi_by_3point5_times = ['1584963200', '1584966814', '1584966921', '1584966980', '1584967057', '1584967090', '1584989450', '1584989529', '1584989558']\n",
    "pi_by_3point8_times = ['1584963202', '1584966816', '1584966924', '1584966982', '1584967060', '1584967092', '1584989452', '1584989532']\n",
    "pi_by_4_times = ['1584963205', '1584966819', '1584966926', '1584966985', '1584967062', '1584967095', '1584989455', '1584989534']\n",
    "pi_by_4point5_times = ['1584963207', '1584966821', '1584966929', '1584967065', '1584967098', '1584989457', '1584989537']\n",
    "pi_by_5_times = ['1584963210', '1584966824', '1584966932', '1584966990', '1584967067', '1584967100', '1584989460', '1584989540']\n",
    "pi_by_6_times = ['1584963212', '1584966826', '1584966934', '1584966993', '1584967070', '1584967103', '1584989462', '1584989542']\n",
    "pi_by_7_times = ['1584963215', '1584966829', '1584966937', '1584966995', '1584967072', '1584967105', '1584989465', '1584989545']\n",
    "pi_by_8_times = ['1584966831', '1584966939', '1584966998', '1584967075', '1584989467', '1584989547']\n",
    "pi_by_10_times = ['1584963220', '1584966834', '1584966942', '1584967077', '1584967110', '1584989470', '1584989550']"
   ]
  },
  {
   "cell_type": "code",
   "execution_count": 20,
   "metadata": {},
   "outputs": [],
   "source": [
    "#extracting data to use\n",
    "def ThisIsMyData(j, file_timestamp):\n",
    "    folder_name=j[0]\n",
    "    file_label=j[1]\n",
    "    #the full 10 power values taken (raw data)\n",
    "    fringe_filepath=f'C:/Users/User/Documents/Project/pycode_molly/pycode_molly/Experimental code/Experimental data/PS Fringes/{folder_name}/modes14_{file_timestamp}_fringe.csv'\n",
    "    fringe=open(fringe_filepath,'r').readlines()\n",
    "    obs_powers,phase_list=[],[]\n",
    "    fringes=[]\n",
    "    for i in range(1,11):\n",
    "        fringes=list(fringe[i].rstrip().split(','))\n",
    "        phase_list.append(float(fringes[0]))\n",
    "        obs_powers.append(float(fringes[1]))\n",
    "\n",
    "    #all the fitting parameters (fitting parameters for each N)\n",
    "    fitparams_filepath=f'C:/Users/User/Documents/Project/pycode_molly/pycode_molly/Experimental code/Experimental data/PS Fringes/{folder_name}/modes14_{file_timestamp}_fringe_fit_8lastpoint_params{file_label}.csv'\n",
    "    fit_params=open(fitparams_filepath,'r').readlines()\n",
    "    amp_list=[float(i) for i in fit_params[1].split(',')]\n",
    "    freq_list=[float(i) for i in fit_params[2].split(',')]\n",
    "    phi_0_list=[float(i) for i in fit_params[3].split(',')]\n",
    "    y_off_list=[float(i) for i in fit_params[4].split(',')]\n",
    "    return phase_list, obs_powers, amp_list, freq_list, phi_0_list, y_off_list\n",
    "        \n",
    "#getting the exptected powers from the fit params and calculating fit statistics\n",
    "def ExpectedValues(N, phase_list, obs_powers, amp_list, freq_list, phi_0_list, y_off_list):\n",
    "    exp_powers=[]\n",
    "    for i in range(0,10):#WAS TO 8 NOT 10 the values at different phase based on SineSq with the fitting params - the 'expected' powers based on fit\n",
    "        exp_powers.append(1000*SineSq(phase_list[i],float(amp_list[N]),float(freq_list[N]),float(phi_0_list[N]),float(y_off_list[N])))\n",
    "        #times 1000 bc scipy.stats.chisquare likes numbers above 5\n",
    "    obs_powers=[x*1000 for x in obs_powers]\n",
    "    chisq, pval=stats.chisquare(obs_powers,exp_powers) #comparing observed values to expected values\n",
    "    return pval\n",
    "\n",
    "#getting chi squared for each N in same timestamp\n",
    "def GettingChiSq(file_timestamp, j, chisq_array):\n",
    "    phase_list, obs_powers, amp_list, freq_list, phi_0_list, y_off_list=ThisIsMyData(j, file_timestamp)\n",
    "    chisq_list=[]\n",
    "    for N in range(1,9):#getting chi squared for all N in the timestamped file and saving it to an array\n",
    "        chisq=ExpectedValues(N, phase_list, obs_powers, amp_list, freq_list, phi_0_list, y_off_list)#phase_list[0:8], obs_powers[0:8]\n",
    "        chisq_list.append(chisq)\n",
    "    chisq_array=np.vstack([chisq_array,chisq_list])\n",
    "    return chisq_array"
   ]
  },
  {
   "cell_type": "code",
   "execution_count": null,
   "metadata": {},
   "outputs": [],
   "source": [
    "meanchi_array=[3,4,5,6,7,8,9,10]\n",
    "for j in spacings_list:\n",
    "    print(j[0])\n",
    "    chisq_array=[3,4,5,6,7,8,9,10]\n",
    "    for i in j[2]:#going through all timestamps to get chi squared values\n",
    "        chisq_array = GettingChiSq(i,j,chisq_array)\n",
    "        meanchi_list=[]\n",
    "        for i in chisq_array[1:len(chisq_array)].T: meanchi_list.append(np.mean(i))\n",
    "    meanchi_array=np.vstack([meanchi_array,meanchi_list])\n",
    "    np.savetxt(f'C:/Users/User/Documents/Project/pycode_molly/pycode_molly/Experimental code/Experimental data/PS Fringes/{j[0]}/chisq_array_firstpoint.csv', chisq_array,delimiter=',')\n",
    "np.savetxt(f'C:/Users/User/Documents/Project/pycode_molly/pycode_molly/Experimental code/Experimental data/PS Fringes/average_chisq_firstpoint.csv', meanchi_array,delimiter=',')"
   ]
  },
  {
   "cell_type": "code",
   "execution_count": 118,
   "metadata": {},
   "outputs": [],
   "source": [
    "#fitting to last point instead of first\n",
    "def FittingToLast(file_timestamp, j):\n",
    "    phase_list, obs_powers, amp_list, freq_list, phi_0_list, y_off_list=ThisIsMyData(j, file_timestamp)\n",
    "    fittingparams_list=[]\n",
    "    initial_guess=[max(obs_powers), 0.5, 0, min(obs_powers)]\n",
    "    param_bounds=([0, 0.3, -np.inf, 0], [2*max(obs_powers), 0.8, np.inf, max(obs_powers)])\n",
    "    params_output_array=[0,0,0,0]\n",
    "    for k in range(3,11):\n",
    "        phase_N = phase_list[-k:11]\n",
    "        power_N = obs_powers[-k:11]\n",
    "        params, pcov = optimize.curve_fit(SineSq, phase_N, power_N, bounds = param_bounds, p0 = initial_guess)\n",
    "        params_output_array=np.column_stack([params_output_array,params])\n",
    "    np.savetxt(f'C:/Users/User/Documents/Project/pycode_molly/pycode_molly/Experimental code/Experimental data/PS Fringes/{j[0]}/modes14_{file_timestamp}_fringe_fit_lastpoint_params{j[1]}.csv', params_output_array,delimiter=',', header=' amp  freq  phi_0  y_off  spacing')\n",
    "    "
   ]
  },
  {
   "cell_type": "code",
   "execution_count": null,
   "metadata": {},
   "outputs": [],
   "source": [
    "#getting fit params when fitting to the last N points instead of the first\n",
    "for j in spacings_list8:\n",
    "    print(j[0])\n",
    "    for i in j[2]:\n",
    "        print(i)\n",
    "        FittingToLast8(i, j)"
   ]
  },
  {
   "cell_type": "markdown",
   "metadata": {},
   "source": [
    "## For 8 points"
   ]
  },
  {
   "cell_type": "code",
   "execution_count": 47,
   "metadata": {},
   "outputs": [],
   "source": [
    "spacings_list8=[[\"pi by 5\", \"5point0\",pi_by_5_times],[\"pi by 6\", \"6point0\",pi_by_6_times],[\"pi by 7\", \"7point0\",pi_by_7_times],[\"pi by 8\", \"8point0\",pi_by_8_times],[\"pi by 10\", \"10point0\",pi_by_10_times]]\n",
    "\n",
    "#extracting data to use\n",
    "def ThisIsMyData8(j, file_timestamp):\n",
    "    folder_name=j[0]\n",
    "    file_label=j[1]\n",
    "    #the full 10 power values taken (raw data)\n",
    "    fringe_filepath=f'C:/Users/User/Documents/Project/pycode_molly/pycode_molly/Experimental code/Experimental data/PS Fringes/{folder_name}/modes14_{file_timestamp}_fringe.csv'\n",
    "    fringe=open(fringe_filepath,'r').readlines()\n",
    "    obs_powers,phase_list=[],[]\n",
    "    fringes=[]\n",
    "    for i in range(1,11):\n",
    "        fringes=list(fringe[i].rstrip().split(','))\n",
    "        phase_list.append(float(fringes[0]))\n",
    "        obs_powers.append(float(fringes[1]))\n",
    "\n",
    "    #all the fitting parameters (fitting parameters for each N)\n",
    "    fitparams_filepath=f'C:/Users/User/Documents/Project/pycode_molly/pycode_molly/Experimental code/Experimental data/PS Fringes/{folder_name}/modes14_{file_timestamp}_fringe_fit_8lastpoint_params{file_label}.csv'\n",
    "    fit_params=open(fitparams_filepath,'r').readlines()\n",
    "    amp_list=[float(i) for i in fit_params[1].split(',')]\n",
    "    freq_list=[float(i) for i in fit_params[2].split(',')]\n",
    "    phi_0_list=[float(i) for i in fit_params[3].split(',')]\n",
    "    y_off_list=[float(i) for i in fit_params[4].split(',')]\n",
    "    phase_list=phase_list[0:8]\n",
    "    obs_powers=obs_powers[0:8]\n",
    "    amp_list=amp_list[0:8]\n",
    "    freq_list=freq_list[0:8]\n",
    "    phi_0_list=phi_0_list[0:8]\n",
    "    y_off_list=y_off_list[0:8]\n",
    "    return phase_list, obs_powers, amp_list, freq_list, phi_0_list, y_off_list\n",
    "\n",
    "\n",
    "#getting the exptected powers from the fit params and calculating fit statistics\n",
    "def ExpectedValues8(N, phase_list, obs_powers, amp_list, freq_list, phi_0_list, y_off_list):\n",
    "    exp_powers=[]\n",
    "    for i in range(0,8):# the values at different phase based on SineSq with the fitting params - the 'expected' powers based on fit\n",
    "        exp_powers.append(1000*SineSq(phase_list[i],float(amp_list[N]),float(freq_list[N]),float(phi_0_list[N]),float(y_off_list[N])))\n",
    "        #times 1000 bc scipy.stats.chisquare likes numbers above 5\n",
    "    obs_powers=[x*1000 for x in obs_powers]\n",
    "    chisq, pval=stats.chisquare(obs_powers,exp_powers) #comparing observed values to expected values\n",
    "    return pval\n",
    "\n",
    "#getting chi squared for each N in same timestamp\n",
    "def GettingChiSq8(file_timestamp, j, chisq_array):\n",
    "    phase_list, obs_powers, amp_list, freq_list, phi_0_list, y_off_list=ThisIsMyData8(j, file_timestamp)\n",
    "    chisq_list=[]\n",
    "    for N in range(1,7):#getting chi squared for all N in the timestamped file and saving it to an array\n",
    "        chisq=ExpectedValues8(N, phase_list, obs_powers, amp_list, freq_list, phi_0_list, y_off_list)#phase_list[0:8], obs_powers[0:8]\n",
    "        chisq_list.append(chisq)\n",
    "    \n",
    "    chisq_array=np.vstack([chisq_array,chisq_list])\n",
    "   \n",
    "    return chisq_array\n",
    "\n",
    "def FittingToFirst8(file_timestamp, j):\n",
    "    phase_list, obs_powers, amp_list, freq_list, phi_0_list, y_off_list=ThisIsMyData8(j, file_timestamp)\n",
    "    fittingparams_list=[]\n",
    "    initial_guess=[max(obs_powers), 0.5, 0, min(obs_powers)]\n",
    "    param_bounds=([0, 0.3, -np.inf, 0], [3*max(obs_powers), 0.8, np.inf, max(obs_powers)])\n",
    "    params_output_array=[0,0,0,0]\n",
    "    for k in range(3,9):\n",
    "        phase_N = phase_list[0:k+1]\n",
    "        power_N = obs_powers[0:k+1]\n",
    "        params, pcov = optimize.curve_fit(SineSq, phase_N, power_N, bounds = param_bounds, p0 = initial_guess)\n",
    "        params_output_array=np.column_stack([params_output_array,params])\n",
    "    np.savetxt(f'C:/Users/User/Documents/Project/pycode_molly/pycode_molly/Experimental code/Experimental data/PS Fringes/{j[0]}/modes14_{file_timestamp}_fringe_fit_8firstpoint_params{j[1]}.csv', params_output_array,delimiter=',', header=' amp  freq  phi_0  y_off  spacing')\n",
    "\n",
    "def FittingToLast8(file_timestamp, j):\n",
    "    phase_list, obs_powers, amp_list, freq_list, phi_0_list, y_off_list=ThisIsMyData8(j, file_timestamp)\n",
    "    fittingparams_list=[]\n",
    "    initial_guess=[max(obs_powers), 0.5, 0, min(obs_powers)]\n",
    "    param_bounds=([0, 0.3, -np.inf, 0], [3*max(obs_powers), 0.8, np.inf, max(obs_powers)])\n",
    "    params_output_array=[0,0,0,0]\n",
    "    for k in range(3,9):\n",
    "        phase_N = phase_list[-k:9]\n",
    "        power_N = obs_powers[-k:9]\n",
    "        params, pcov = optimize.curve_fit(SineSq, phase_N, power_N, bounds = param_bounds, p0 = initial_guess)\n",
    "        print(params)\n",
    "        params_output_array=np.column_stack([params_output_array,params])\n",
    "    np.savetxt(f'C:/Users/User/Documents/Project/pycode_molly/pycode_molly/Experimental code/Experimental data/PS Fringes/{j[0]}/modes14_{file_timestamp}_fringe_fit_8lastpoint_params{j[1]}.csv', params_output_array,delimiter=',', header=' amp  freq  phi_0  y_off  spacing')"
   ]
  },
  {
   "cell_type": "code",
   "execution_count": 48,
   "metadata": {},
   "outputs": [
    {
     "name": "stdout",
     "output_type": "stream",
     "text": [
      "pi by 5\n",
      "pi by 6\n",
      "pi by 7\n",
      "pi by 8\n",
      "pi by 10\n"
     ]
    }
   ],
   "source": [
    "meanchi_array=[3,4,5,6,7,8]\n",
    "for j in spacings_list8:\n",
    "    print(j[0])\n",
    "    chisq_array=[3,4,5,6,7,8]\n",
    "    for i in j[2]:#going through all timestamps to get chi squared values\n",
    "        chisq_array = GettingChiSq8(i,j,chisq_array)\n",
    "        meanchi_list=[]\n",
    "        for i in chisq_array[1:len(chisq_array)].T: meanchi_list.append(np.mean(i))\n",
    "    meanchi_array=np.vstack([meanchi_array,meanchi_list])\n",
    "    #np.savetxt(f'C:/Users/User/Documents/Project/pycode_molly/pycode_molly/Experimental code/Experimental data/PS Fringes/{j[0]}/8chisq_array_firstpoint.csv', chisq_array,delimiter=',')\n",
    "np.savetxt(f'C:/Users/User/Documents/Project/pycode_molly/pycode_molly/Experimental code/Experimental data/PS Fringes/8average_chisq_lastpoint.csv', meanchi_array,delimiter=',')"
   ]
  },
  {
   "cell_type": "markdown",
   "metadata": {},
   "source": [
    "## Simulating fitting at different points"
   ]
  },
  {
   "cell_type": "code",
   "execution_count": 160,
   "metadata": {},
   "outputs": [],
   "source": [
    "def SineSqList(x,amp,freq,phi_0,y_off):\n",
    "    values=[]\n",
    "    for i in x:\n",
    "        value=amp*np.sin(freq*i+phi_0)**2+y_off\n",
    "        values.append(1000*value)\n",
    "    return values\n",
    "def SineSqListNoScale(x,amp,freq,phi_0,y_off):\n",
    "    values=[]\n",
    "    for i in x:\n",
    "        value=amp*np.sin(freq*i+phi_0)**2+y_off\n",
    "        values.append(value)\n",
    "    return values"
   ]
  },
  {
   "cell_type": "code",
   "execution_count": 157,
   "metadata": {},
   "outputs": [],
   "source": [
    "def DiffPoints(original_sinesq, j):\n",
    "    fittingparams_list=[]\n",
    "    initial_guess=[max(obs_powers), 0.5, 0, min(obs_powers)]\n",
    "    param_bounds=([0, 0.3, -np.inf, 0], [2*max(obs_powers), 0.8, np.inf, max(obs_powers)])\n",
    "    params_output_array=[0,0,0,0]\n",
    "    for k in range(0,6):\n",
    "        phase_N = phase_list[k:k+5]\n",
    "        power_N = obs_powers[k:k+5]\n",
    "        params, pcov = optimize.curve_fit(SineSq, phase_N, power_N, bounds = param_bounds, p0 = initial_guess)\n",
    "        params_output_array=np.column_stack([params_output_array,params])\n",
    "    np.savetxt(f'C:/Users/User/Documents/Project/pycode_molly/pycode_molly/Experimental code/Experimental data/PS Fringes/{j[0]}/modes14_{file_timestamp}_fringe_fit_diffpoints_params{j[1]}.csv', params_output_array,delimiter=',', header=' amp  freq  phi_0  y_off  spacing')\n",
    "    \n",
    "def GettingChiSq8(file_timestamp, j, chisq_array):\n",
    "    phase_list, obs_powers, amp_list, freq_list, phi_0_list, y_off_list=ThisIsMyData8(j, file_timestamp)\n",
    "    chisq_list=[]\n",
    "    for N in range(1,7):#getting chi squared for all N in the timestamped file and saving it to an array\n",
    "        chisq=ExpectedValues8(N, phase_list, obs_powers, amp_list, freq_list, phi_0_list, y_off_list)#phase_list[0:8], obs_powers[0:8]\n",
    "        chisq_list.append(chisq)\n",
    "    \n",
    "    chisq_array=np.vstack([chisq_array,chisq_list])\n",
    "   \n",
    "    return chisq_array\n",
    "\n",
    "def ExpectedValues8(N, phase_list, obs_powers, amp_list, freq_list, phi_0_list, y_off_list):\n",
    "    exp_powers=[]\n",
    "    for i in range(0,8):# the values at different phase based on SineSq with the fitting params - the 'expected' powers based on fit\n",
    "        exp_powers.append(1000*SineSq(phase_list[i],float(amp_list[N]),float(freq_list[N]),float(phi_0_list[N]),float(y_off_list[N])))\n",
    "        #times 1000 bc scipy.stats.chisquare likes numbers above 5\n",
    "    obs_powers=[x*1000 for x in obs_powers]\n",
    "    chisq, pval=stats.chisquare(obs_powers,exp_powers) #comparing observed values to expected values\n",
    "    return pval"
   ]
  },
  {
   "cell_type": "code",
   "execution_count": 228,
   "metadata": {},
   "outputs": [],
   "source": [
    "def DiffPoints(original_sinesq,x,N):\n",
    "    noisy_sinesq=SineSqList(x, amp, freq, phi_0, y_off)\n",
    "    fit_issues=0\n",
    "    initial_guess=[max(original_sinesq), 0.5, 0, min(original_sinesq)]\n",
    "    param_bounds=([0, 0.3, -np.inf, 0], [2*max(original_sinesq), 0.8, np.inf, max(original_sinesq)])\n",
    "    for i in range(0,N):\n",
    "        noisy_sinesq[i]+=1000*stats.cauchy.rvs(loc=-2.9019743218303E-6, scale=9.0165900759792E-5, size=1)[0]\n",
    "        #noisy_sinesq[i]+=1000*np.random.normal(loc=0,scale=2*6.2113702018136E-4, size=1)[0] \n",
    "    pval_list=[]\n",
    "    for i in range(0,N-12):\n",
    "        phase_N = x[i], x[i+3], x[i+6], x[i+9], x[i+12]\n",
    "        power_N = noisy_sinesq[i], noisy_sinesq[i+3], noisy_sinesq[i+6], noisy_sinesq[i+9], noisy_sinesq[i+12]\n",
    "        try:\n",
    "            params, pcov = optimize.curve_fit(SineSq, phase_N, power_N, bounds = param_bounds, p0 = initial_guess)\n",
    "            exp_powers=SineSqListNoScale(x,params[0],params[1],params[2],params[3])\n",
    "            chisq, pval=stats.chisquare(original_sinesq,exp_powers)\n",
    "            pval_list.append(pval)\n",
    "        except RuntimeError:\n",
    "            pval_list.append(0)\n",
    "            fit_issues+=1\n",
    "        \n",
    "        #plt.scatter(x,original_sinesq)\n",
    "        #plt.plot(x30,SineSqListNoScale(x30,params[0],params[1],params[2],params[3]))\n",
    "        #plt.scatter(phase_N,power_N)\n",
    "        #plt.show()\n",
    "    #plt.scatter(x,noisy_sinesq)\n",
    "    #plt.plot(x, original_sinesq)\n",
    "\n",
    "    return pval_list, fit_issues"
   ]
  },
  {
   "cell_type": "code",
   "execution_count": 230,
   "metadata": {},
   "outputs": [
    {
     "name": "stdout",
     "output_type": "stream",
     "text": [
      "Number of fits that did not converge =  35\n"
     ]
    }
   ],
   "source": [
    "N=61\n",
    "x=np.linspace(0,2*pi,N)\n",
    "original_sinesq=SineSqList(x, amp, freq, phi_0, y_off)\n",
    "pval_array=x[0:N-12]\n",
    "issues=0\n",
    "for k in range(0,1000):\n",
    "    pval_list, fit_issues = DiffPoints(original_sinesq,x,N)\n",
    "    issues+=fit_issues\n",
    "    #if fit_issues == 0:\n",
    "    pval_array=np.vstack([pval_array,pval_list])\n",
    "np.savetxt(f'C:/Users/User/Documents/Project/pycode_molly/pycode_molly/Experimental code/Experimental data/PS Fringes/modes14_diffpoints_pvals.csv', pval_array,delimiter=',')\n",
    "print('Number of fits that did not converge = ' , issues)"
   ]
  },
  {
   "cell_type": "code",
   "execution_count": 202,
   "metadata": {},
   "outputs": [],
   "source": [
    "np.savetxt(f'C:/Users/User/Documents/Project/pycode_molly/pycode_molly/Experimental code/Experimental data/PS Fringes/modes14_diffpoints_pvals.csv', pval_array,delimiter=',')"
   ]
  },
  {
   "cell_type": "markdown",
   "metadata": {},
   "source": [
    "## Measuring real fringes"
   ]
  },
  {
   "cell_type": "code",
   "execution_count": 314,
   "metadata": {},
   "outputs": [],
   "source": [
    "def NotMeasureFitChi(j):\n",
    "    phase_list, obs_powers, amp_list, freq_list, phi_0_list, y_off_list=ThisIsMyData8(j, file_timestamp)\n",
    "    fittingparams_list=[]\n",
    "    initial_guess=[max(obs_powers), 0.5, 0, min(obs_powers)]\n",
    "    param_bounds=([0, 0.3, -np.inf, 0], [3*max(obs_powers), 0.8, np.inf, max(obs_powers)])\n",
    "    params_output_array=[0,0,0,0]\n",
    "    for k in range(3,9):\n",
    "        phase_N = phase_list[0:k+1]\n",
    "        power_N = obs_powers[0:k+1]\n",
    "        params, pcov = optimize.curve_fit(SineSq, phase_N, power_N, bounds = param_bounds, p0 = initial_guess)\n",
    "        params_output_array=np.column_stack([params_output_array,params])\n",
    "    np.savetxt(f'C:/Users/User/Documents/Project/pycode_molly/pycode_molly/Experimental code/Experimental data/PS Fringes/many_fringes_modes14/{i}', params_output_array,delimiter=',', header=' amp  freq  phi_0  y_off  spacing')\n"
   ]
  },
  {
   "cell_type": "code",
   "execution_count": 263,
   "metadata": {},
   "outputs": [],
   "source": [
    "import os\n",
    "#making the folders with the right names for each spacing value to save fringes to\n",
    "for i in file_spacing:\n",
    "    os.mkdir(f'C:/Users/User/Documents/Project/pycode_molly/pycode_molly/Experimental code/Experimental data/PS Fringes/many_fringes_modes14/{i}')"
   ]
  },
  {
   "cell_type": "code",
   "execution_count": 269,
   "metadata": {},
   "outputs": [],
   "source": [
    "#create names for saving each spacing value\n",
    "file_spacing = []\n",
    "spacing_list = []\n",
    "for i in range(1,26):\n",
    "    spacing=round(i*0.025,3)\n",
    "    spacing_list.append(spacing)\n",
    "    file_spacing.append(str(spacing).replace('0.','point'))"
   ]
  },
  {
   "cell_type": "code",
   "execution_count": 304,
   "metadata": {},
   "outputs": [],
   "source": [
    "#creating lists of the phases for each spacing to save time in subsequent for loops\n",
    "point025_phases=[]\n",
    "point05_phases=[]\n",
    "point075_phases=[]\n",
    "point1_phases=[]\n",
    "point125_phases=[]\n",
    "point15_phases=[]\n",
    "point175_phases=[]\n",
    "point2_phases=[]\n",
    "point225_phases=[]\n",
    "point25_phases=[]\n",
    "point275_phases=[]\n",
    "point3_phases=[]\n",
    "point325_phases=[]\n",
    "point35_phases=[]\n",
    "point375_phases=[]\n",
    "point4_phases=[]\n",
    "point425_phases=[]\n",
    "point45_phases=[]\n",
    "point475_phases=[]\n",
    "point5_phases=[]\n",
    "point525_phases=[]\n",
    "point55_phases=[]\n",
    "point575_phases=[]\n",
    "point6_phases=[]\n",
    "point625_phases=[]\n",
    "for i in range(0,9):\n",
    "    point025_phases.append(round(i*spacing_list[0],3))\n",
    "    point05_phases.append(round(i*spacing_list[1],3))\n",
    "    point075_phases.append(round(i*spacing_list[2],3))\n",
    "    point1_phases.append(round(i*spacing_list[3],3))\n",
    "    point125_phases.append(round(i*spacing_list[4],3))\n",
    "    point15_phases.append(round(i*spacing_list[5],3))\n",
    "    point175_phases.append(round(i*spacing_list[6],3))\n",
    "    point2_phases.append(round(i*spacing_list[7],3))\n",
    "    point225_phases.append(round(i*spacing_list[8],3))\n",
    "    point25_phases.append(round(i*spacing_list[9],3))\n",
    "    point275_phases.append(round(i*spacing_list[10],3))\n",
    "    point3_phases.append(round(i*spacing_list[11],3))\n",
    "    point325_phases.append(round(i*spacing_list[12],3))\n",
    "    point35_phases.append(round(i*spacing_list[13],3))\n",
    "    point375_phases.append(round(i*spacing_list[14],3))\n",
    "    point4_phases.append(round(i*spacing_list[15],3))\n",
    "    point425_phases.append(round(i*spacing_list[16],3))\n",
    "    point45_phases.append(round(i*spacing_list[17],3))\n",
    "    point475_phases.append(round(i*spacing_list[18],3))\n",
    "    point5_phases.append(round(i*spacing_list[19],3))\n",
    "    point525_phases.append(round(i*spacing_list[20],3))\n",
    "    point55_phases.append(round(i*spacing_list[21],3))\n",
    "    point575_phases.append(round(i*spacing_list[22],3))\n",
    "    point6_phases.append(round(i*spacing_list[23],3))\n",
    "    point625_phases.append(round(i*spacing_list[24],3))\n",
    "allphaselists=[point025_phases,point05_phases,point075_phases,point1_phases,point125_phases,point15_phases,point175_phases,point2_phases,point225_phases,point25_phases,point275_phases,point3_phases,point325_phases,point35_phases,point375_phases,point4_phases,point425_phases,point45_phases,point475_phases,point5_phases,point525_phases,point55_phases,point575_phases,point6_phases,point625_phases]"
   ]
  },
  {
   "cell_type": "code",
   "execution_count": null,
   "metadata": {},
   "outputs": [],
   "source": [
    "#fringe fit to test multiple N and spacing values\n",
    "def FF_testing_N():\n",
    "    spacing_list=[pi/3,pi/3.3, pi/3.5, pi/3.8, pi/4, pi/4.5, pi/5, pi/6, pi/7, pi/8, pi/10]\n",
    "    counter=0\n",
    "    for spacing in spacing_list:\n",
    "        params_output_array=[0,0,0,0]\n",
    "        h.set_many_phases({'BS1':pi/2+0.25, 'BS2':0, 'BS3':0, 'WDM1':pi, 'WDM2':0, 'WDM4':pi, 'WDM3':0, 'Prj_RY1':pi+0.23, 'Prj_RY4':pi-0.02, 'Ctr_2':pi, 'Attb1':pi/2-0.25, 'Attb4':pi, 'MZIb1':pi, 'MZIb2':0, 'MZIb3':pi/2, 'MZIb4':pi, 'Phb1':0})\n",
    "        time.sleep(0.2)\n",
    "        print(spacing)\n",
    "        phase, PMePower, params, time_fringe_finished = FringeFitWithPlotting(spacing)\n",
    "        initial_guess=[max(PMePower), 0.5, 0, min(PMePower)]\n",
    "        param_bounds=([0, 0.3, -np.inf, 0], [2*max(PMePower), 0.8, np.inf, max(PMePower)])\n",
    "        titles=['3point0', '3point3', '3point5', '3point8', '4point0', '4point5', '5point0', '6point0', '7point0', '8point0', '10point0']\n",
    "        folder_titles=['pi by 3', 'pi by 3 point 3', 'pi by 3 point 5', 'pi by 3 point 8', 'pi by 4', 'pi by 4 point 5', 'pi by 5', 'pi by 6', 'pi by 7', 'pi by 8', 'pi by 10']\n",
    "        for i in range(3,11):\n",
    "            phase_N = phase[0:i]\n",
    "            PMePower_N = PMePower[0:i]\n",
    "            params, pcov = optimize.curve_fit(SineSq, phase_N, PMePower_N, bounds = param_bounds, p0 = initial_guess)\n",
    "            params_output_array=np.column_stack([params_output_array,params])\n",
    "        np.savetxt(f'C:/Users/IT072488-admin/University of Bristol/grp-Multi 3 Chip Project - Multi_3_Chips/pycode_molly/Experimental code/Experimental data/PS Fringes/{folder_titles[counter]}/modes14_{time_fringe_finished}_fringe_fit_params{titles[counter]}.csv', params_output_array,delimiter=',', header=' amp  freq  phi_0  y_off  spacing')\n",
    "        counter+=1"
   ]
  },
  {
   "cell_type": "code",
   "execution_count": 316,
   "metadata": {},
   "outputs": [],
   "source": [
    "def MeasureFitChi(phase_list, file_name):\n",
    "    h.set_many_phases({'BS1':pi/2+0.25, 'BS2':0, 'BS3':0, 'WDM1':pi, 'WDM2':0, 'WDM4':pi, 'WDM3':0, 'Prj_RY1':pi+0.23, 'Prj_RY4':pi-0.02, 'Ctr_2':pi, 'Attb1':pi/2-0.25, 'Attb4':pi, 'MZIb1':pi, 'MZIb2':0, 'MZIb3':pi/2, 'MZIb4':pi, 'Phb1':0})\n",
    "    time.sleep(0.2)\n",
    "    for k in phase_list:\n",
    "        h.set_phase('Phb1', k)\n",
    "        time.sleep(0.15)\n",
    "        power.append(PMe.measure()*1000000)\n",
    "    time_fringe_finished=int(time.time())\n",
    "    np.savetxt(f'C:/Users/User/Documents/Project/pycode_molly/pycode_molly/Experimental code/Experimental data/PS Fringes/many_fringes_modes14/{file_name}/fringe_{file_name}_{time_fringe_finished}', params_output_array,delimiter=',', header=' amp  freq  phi_0  y_off  spacing')\n",
    "\n",
    "    initial_guess=[max(PMePower), 0.5, 0, min(PMePower)]\n",
    "    param_bounds=([0, 0.3, -np.inf, 0], [2*max(PMePower), 0.8, np.inf, max(PMePower)])\n",
    "    fit_issues=0\n",
    "    pval_list=[]\n",
    "    for k in range(3,9):\n",
    "        phase_N = phase_list[0:k]\n",
    "        power_N = power[0:k]\n",
    "        try:\n",
    "            params, pcov = optimize.curve_fit(SineSq, phase_N, power_N, bounds = param_bounds, p0 = initial_guess)\n",
    "            exp_powers = SineSqListNoScale(phase_list, params[0], params[1], params[2], params[3])\n",
    "            chisq, pval=stats.chisquare(original_sinesq,exp_powers)\n",
    "            pval_list.append(pval)\n",
    "        except RuntimeError:\n",
    "            pval_list.append(0)\n",
    "            fit_issues+=1\n",
    "    return pval_list"
   ]
  },
  {
   "cell_type": "code",
   "execution_count": 317,
   "metadata": {},
   "outputs": [
    {
     "ename": "NameError",
     "evalue": "name 'h' is not defined",
     "output_type": "error",
     "traceback": [
      "\u001b[1;31m---------------------------------------------------------------------------\u001b[0m",
      "\u001b[1;31mNameError\u001b[0m                                 Traceback (most recent call last)",
      "\u001b[1;32m<ipython-input-317-83c0c8dd0ae6>\u001b[0m in \u001b[0;36m<module>\u001b[1;34m\u001b[0m\n\u001b[0;32m      5\u001b[0m         \u001b[0mphase_list\u001b[0m\u001b[1;33m=\u001b[0m\u001b[0mallphaselists\u001b[0m\u001b[1;33m[\u001b[0m\u001b[0mj\u001b[0m\u001b[1;33m]\u001b[0m\u001b[1;33m\u001b[0m\u001b[1;33m\u001b[0m\u001b[0m\n\u001b[0;32m      6\u001b[0m         \u001b[0mfile_name\u001b[0m\u001b[1;33m=\u001b[0m\u001b[0mfile_spacing\u001b[0m\u001b[1;33m[\u001b[0m\u001b[0mj\u001b[0m\u001b[1;33m]\u001b[0m\u001b[1;33m\u001b[0m\u001b[1;33m\u001b[0m\u001b[0m\n\u001b[1;32m----> 7\u001b[1;33m         \u001b[0mpval_list\u001b[0m \u001b[1;33m=\u001b[0m \u001b[0mMeasureFitChi\u001b[0m\u001b[1;33m(\u001b[0m\u001b[0mphase_list\u001b[0m\u001b[1;33m,\u001b[0m \u001b[0mfile_name\u001b[0m\u001b[1;33m)\u001b[0m\u001b[1;31m#measures a fringe for a specific spacing then fits to N points and gets chi fo each N (saves fringe and chi)\u001b[0m\u001b[1;33m\u001b[0m\u001b[1;33m\u001b[0m\u001b[0m\n\u001b[0m\u001b[0;32m      8\u001b[0m         \u001b[0mpval_array\u001b[0m \u001b[1;33m=\u001b[0m \u001b[0mnp\u001b[0m\u001b[1;33m.\u001b[0m\u001b[0mvstack\u001b[0m\u001b[1;33m(\u001b[0m\u001b[1;33m[\u001b[0m\u001b[0mpval_array\u001b[0m\u001b[1;33m,\u001b[0m \u001b[0mphase_list\u001b[0m\u001b[1;33m]\u001b[0m\u001b[1;33m)\u001b[0m\u001b[1;33m\u001b[0m\u001b[1;33m\u001b[0m\u001b[0m\n\u001b[0;32m      9\u001b[0m     \u001b[0mmeanpval_list\u001b[0m\u001b[1;33m=\u001b[0m\u001b[1;33m[\u001b[0m\u001b[1;33m]\u001b[0m\u001b[1;33m\u001b[0m\u001b[1;33m\u001b[0m\u001b[0m\n",
      "\u001b[1;32m<ipython-input-316-3b1006ab190a>\u001b[0m in \u001b[0;36mMeasureFitChi\u001b[1;34m(phase_list, file_name)\u001b[0m\n\u001b[0;32m      1\u001b[0m \u001b[1;32mdef\u001b[0m \u001b[0mMeasureFitChi\u001b[0m\u001b[1;33m(\u001b[0m\u001b[0mphase_list\u001b[0m\u001b[1;33m,\u001b[0m \u001b[0mfile_name\u001b[0m\u001b[1;33m)\u001b[0m\u001b[1;33m:\u001b[0m\u001b[1;33m\u001b[0m\u001b[1;33m\u001b[0m\u001b[0m\n\u001b[1;32m----> 2\u001b[1;33m     \u001b[0mh\u001b[0m\u001b[1;33m.\u001b[0m\u001b[0mset_many_phases\u001b[0m\u001b[1;33m(\u001b[0m\u001b[1;33m{\u001b[0m\u001b[1;34m'BS1'\u001b[0m\u001b[1;33m:\u001b[0m\u001b[0mpi\u001b[0m\u001b[1;33m/\u001b[0m\u001b[1;36m2\u001b[0m\u001b[1;33m+\u001b[0m\u001b[1;36m0.25\u001b[0m\u001b[1;33m,\u001b[0m \u001b[1;34m'BS2'\u001b[0m\u001b[1;33m:\u001b[0m\u001b[1;36m0\u001b[0m\u001b[1;33m,\u001b[0m \u001b[1;34m'BS3'\u001b[0m\u001b[1;33m:\u001b[0m\u001b[1;36m0\u001b[0m\u001b[1;33m,\u001b[0m \u001b[1;34m'WDM1'\u001b[0m\u001b[1;33m:\u001b[0m\u001b[0mpi\u001b[0m\u001b[1;33m,\u001b[0m \u001b[1;34m'WDM2'\u001b[0m\u001b[1;33m:\u001b[0m\u001b[1;36m0\u001b[0m\u001b[1;33m,\u001b[0m \u001b[1;34m'WDM4'\u001b[0m\u001b[1;33m:\u001b[0m\u001b[0mpi\u001b[0m\u001b[1;33m,\u001b[0m \u001b[1;34m'WDM3'\u001b[0m\u001b[1;33m:\u001b[0m\u001b[1;36m0\u001b[0m\u001b[1;33m,\u001b[0m \u001b[1;34m'Prj_RY1'\u001b[0m\u001b[1;33m:\u001b[0m\u001b[0mpi\u001b[0m\u001b[1;33m+\u001b[0m\u001b[1;36m0.23\u001b[0m\u001b[1;33m,\u001b[0m \u001b[1;34m'Prj_RY4'\u001b[0m\u001b[1;33m:\u001b[0m\u001b[0mpi\u001b[0m\u001b[1;33m-\u001b[0m\u001b[1;36m0.02\u001b[0m\u001b[1;33m,\u001b[0m \u001b[1;34m'Ctr_2'\u001b[0m\u001b[1;33m:\u001b[0m\u001b[0mpi\u001b[0m\u001b[1;33m,\u001b[0m \u001b[1;34m'Attb1'\u001b[0m\u001b[1;33m:\u001b[0m\u001b[0mpi\u001b[0m\u001b[1;33m/\u001b[0m\u001b[1;36m2\u001b[0m\u001b[1;33m-\u001b[0m\u001b[1;36m0.25\u001b[0m\u001b[1;33m,\u001b[0m \u001b[1;34m'Attb4'\u001b[0m\u001b[1;33m:\u001b[0m\u001b[0mpi\u001b[0m\u001b[1;33m,\u001b[0m \u001b[1;34m'MZIb1'\u001b[0m\u001b[1;33m:\u001b[0m\u001b[0mpi\u001b[0m\u001b[1;33m,\u001b[0m \u001b[1;34m'MZIb2'\u001b[0m\u001b[1;33m:\u001b[0m\u001b[1;36m0\u001b[0m\u001b[1;33m,\u001b[0m \u001b[1;34m'MZIb3'\u001b[0m\u001b[1;33m:\u001b[0m\u001b[0mpi\u001b[0m\u001b[1;33m/\u001b[0m\u001b[1;36m2\u001b[0m\u001b[1;33m,\u001b[0m \u001b[1;34m'MZIb4'\u001b[0m\u001b[1;33m:\u001b[0m\u001b[0mpi\u001b[0m\u001b[1;33m,\u001b[0m \u001b[1;34m'Phb1'\u001b[0m\u001b[1;33m:\u001b[0m\u001b[1;36m0\u001b[0m\u001b[1;33m}\u001b[0m\u001b[1;33m)\u001b[0m\u001b[1;33m\u001b[0m\u001b[1;33m\u001b[0m\u001b[0m\n\u001b[0m\u001b[0;32m      3\u001b[0m     \u001b[0mtime\u001b[0m\u001b[1;33m.\u001b[0m\u001b[0msleep\u001b[0m\u001b[1;33m(\u001b[0m\u001b[1;36m0.2\u001b[0m\u001b[1;33m)\u001b[0m\u001b[1;33m\u001b[0m\u001b[1;33m\u001b[0m\u001b[0m\n\u001b[0;32m      4\u001b[0m     \u001b[1;32mfor\u001b[0m \u001b[0mk\u001b[0m \u001b[1;32min\u001b[0m \u001b[0mphase_list\u001b[0m\u001b[1;33m:\u001b[0m\u001b[1;33m\u001b[0m\u001b[1;33m\u001b[0m\u001b[0m\n\u001b[0;32m      5\u001b[0m         \u001b[0mh\u001b[0m\u001b[1;33m.\u001b[0m\u001b[0mset_phase\u001b[0m\u001b[1;33m(\u001b[0m\u001b[1;34m'Phb1'\u001b[0m\u001b[1;33m,\u001b[0m \u001b[0mk\u001b[0m\u001b[1;33m)\u001b[0m\u001b[1;33m\u001b[0m\u001b[1;33m\u001b[0m\u001b[0m\n",
      "\u001b[1;31mNameError\u001b[0m: name 'h' is not defined"
     ]
    }
   ],
   "source": [
    "meanpval_array = [3,4,5,6,7,8]\n",
    "for j in range(0,26):#goes through all spacings\n",
    "    pval_array = [3,4,5,6,7,8]\n",
    "    for i in range(0,2):#goes through specified spacing 10 times\n",
    "        phase_list=allphaselists[j]\n",
    "        file_name=file_spacing[j]\n",
    "        pval_list = MeasureFitChi(phase_list, file_name)#measures a fringe for a specific spacing then fits to N points and gets chi fo each N (saves fringe and chi)\n",
    "        pval_array = np.vstack([pval_array, phase_list])\n",
    "    meanpval_list=[]\n",
    "    for l in pval_array[1:len(pval_array)].T: meanpval_list.append(np.mean(l))\n",
    "    meanpval_array=np.vstack([meanpval_array,meanpval_list])\n",
    "print(meanpval_array)"
   ]
  },
  {
   "cell_type": "code",
   "execution_count": 308,
   "metadata": {},
   "outputs": [
    {
     "name": "stdout",
     "output_type": "stream",
     "text": [
      "['point025', 'point05', 'point075', 'point1', 'point125', 'point15', 'point175', 'point2', 'point225', 'point25', 'point275', 'point3', 'point325', 'point35', 'point375', 'point4', 'point425', 'point45', 'point475', 'point5', 'point525', 'point55', 'point575', 'point6', 'point625']\n"
     ]
    }
   ],
   "source": [
    "print(file_spacing)"
   ]
  },
  {
   "cell_type": "markdown",
   "metadata": {},
   "source": [
    "## Testing lists"
   ]
  },
  {
   "cell_type": "code",
   "execution_count": 51,
   "metadata": {},
   "outputs": [],
   "source": [
    "listA=[1,2,3,4]\n",
    "listB=[5,6,7,8]\n",
    "saving_array=np.vstack([listA,listB])\n",
    "listC=[9,10,11,12]\n",
    "saving_array=np.vstack([saving_array,listC])"
   ]
  },
  {
   "cell_type": "code",
   "execution_count": 65,
   "metadata": {},
   "outputs": [
    {
     "name": "stdout",
     "output_type": "stream",
     "text": [
      "[[1 2 3 4]\n",
      " [5 6 7 8]\n",
      " [5 6 7 8]\n",
      " [5 6 7 8]\n",
      " [5 6 7 8]]\n",
      "[1 5 5 5 5]\n",
      "4.2\n",
      "[2 6 6 6 6]\n",
      "5.2\n",
      "[3 7 7 7 7]\n",
      "6.2\n",
      "[4 8 8 8 8]\n",
      "7.2\n",
      "[4.2, 5.2, 6.2, 7.2]\n",
      "[[3.  4.  5.  6. ]\n",
      " [4.2 5.2 6.2 7.2]]\n"
     ]
    }
   ],
   "source": [
    "list1=[1,2,3,4]\n",
    "list1_array=np.vstack([list1,list1,list1])\n",
    "list2=[5,6,7,8]\n",
    "list2_array=np.vstack([list1, list2,list2,list2,list2])\n",
    "print(list2_array)\n",
    "arrayofchi=[3,4,5,6]\n",
    "listofchi=[]\n",
    "for i in range(0,len(list2_array.T)):\n",
    "    listofchi.append(np.mean(list2_array.T[i]))\n",
    "    print(list2_array.T[i])\n",
    "    print(np.mean(list2_array.T[i]))\n",
    "print(listofchi)\n",
    "print(np.vstack([arrayofchi,listofchi]))"
   ]
  },
  {
   "cell_type": "code",
   "execution_count": 73,
   "metadata": {},
   "outputs": [
    {
     "name": "stdout",
     "output_type": "stream",
     "text": [
      "[1, 2, 3, 4, 5]\n",
      "[2, 3, 4, 5, 6]\n",
      "[3, 4, 5, 6, 7]\n",
      "[4, 5, 6, 7, 8]\n",
      "[5, 6, 7, 8, 9]\n",
      "[6, 7, 8, 9, 10]\n"
     ]
    }
   ],
   "source": [
    "fif=[1,2,3,4,5,6,7,8,9,10]\n",
    "for i in range(0,6):\n",
    "    print(fif[i:i+5])"
   ]
  },
  {
   "cell_type": "code",
   "execution_count": 39,
   "metadata": {},
   "outputs": [
    {
     "name": "stdout",
     "output_type": "stream",
     "text": [
      "[5.0, 6.0, 7.0, 8.0]\n"
     ]
    }
   ],
   "source": [
    "meanlist=[]\n",
    "for i in list2_array.T:\n",
    "    meanlist.append(np.mean(i))\n",
    "print(meanlist)"
   ]
  },
  {
   "cell_type": "code",
   "execution_count": 70,
   "metadata": {},
   "outputs": [
    {
     "name": "stdout",
     "output_type": "stream",
     "text": [
      "[[1 2 3 4]\n",
      " [5 6 7 8]\n",
      " [5 6 7 8]\n",
      " [5 6 7 8]\n",
      " [5 6 7 8]]\n",
      "[5.0, 6.0, 7.0, 8.0]\n",
      "[[5 5 5 5]\n",
      " [6 6 6 6]\n",
      " [7 7 7 7]\n",
      " [8 8 8 8]]\n"
     ]
    }
   ],
   "source": [
    "print(list2_array)\n",
    "meanlist=[]\n",
    "for i in list2_array[1:len(list2_array)].T: meanlist.append(np.mean(i))\n",
    "print(meanlist)\n",
    "print(list2_array[1:len(list2_array)].T)"
   ]
  },
  {
   "cell_type": "code",
   "execution_count": null,
   "metadata": {},
   "outputs": [],
   "source": []
  }
 ],
 "metadata": {
  "kernelspec": {
   "display_name": "Python 3",
   "language": "python",
   "name": "python3"
  },
  "language_info": {
   "codemirror_mode": {
    "name": "ipython",
    "version": 3
   },
   "file_extension": ".py",
   "mimetype": "text/x-python",
   "name": "python",
   "nbconvert_exporter": "python",
   "pygments_lexer": "ipython3",
   "version": "3.8.3"
  }
 },
 "nbformat": 4,
 "nbformat_minor": 4
}
